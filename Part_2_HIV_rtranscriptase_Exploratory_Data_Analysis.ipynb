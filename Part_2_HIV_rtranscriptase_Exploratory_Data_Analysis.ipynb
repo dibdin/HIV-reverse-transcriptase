{
  "nbformat": 4,
  "nbformat_minor": 0,
  "metadata": {
    "colab": {
      "name": "ML-Part-2-HIV rtranscriptase - Exploratory-Data-Analysis.ipynb",
      "provenance": [],
      "collapsed_sections": [],
      "include_colab_link": true
    },
    "kernelspec": {
      "name": "python3",
      "display_name": "Python 3"
    }
  },
  "cells": [
    {
      "cell_type": "markdown",
      "metadata": {
        "id": "view-in-github",
        "colab_type": "text"
      },
      "source": [
        "<a href=\"https://colab.research.google.com/github/dibdin/HIV-reverse-transcriptase/blob/code/Part_2_HIV_rtranscriptase_Exploratory_Data_Analysis.ipynb\" target=\"_parent\"><img src=\"https://colab.research.google.com/assets/colab-badge.svg\" alt=\"Open In Colab\"/></a>"
      ]
    },
    {
      "cell_type": "markdown",
      "metadata": {
        "id": "l0Y7_lgN4jzM"
      },
      "source": [
        "# **Repurposing cheap drugs for HIV**\n",
        "\n",
        "original code credit: Chanin Nantasenamat\n",
        "\n",
        "[*'Data Professor' YouTube channel*](http://youtube.com/dataprofessor)\n",
        "\n",
        "In **Part 2**, we will be performing Descriptor Calculation and Exploratory Data Analysis.\n",
        "\n",
        "---"
      ]
    },
    {
      "cell_type": "markdown",
      "metadata": {
        "id": "o-4IOizard4P"
      },
      "source": [
        "## **Install conda and rdkit**"
      ]
    },
    {
      "cell_type": "code",
      "metadata": {
        "id": "H0mjQ2PcrSe5",
        "colab": {
          "base_uri": "https://localhost:8080/"
        },
        "outputId": "2ff6a89f-dd4e-4b66-ead2-491db518f2fd"
      },
      "source": [
        "! wget https://repo.anaconda.com/miniconda/Miniconda3-py37_4.8.2-Linux-x86_64.sh\n",
        "! chmod +x Miniconda3-py37_4.8.2-Linux-x86_64.sh\n",
        "! bash ./Miniconda3-py37_4.8.2-Linux-x86_64.sh -b -f -p /usr/local\n",
        "! conda install -c rdkit rdkit -y\n",
        "import sys\n",
        "sys.path.append('/usr/local/lib/python3.7/site-packages/')"
      ],
      "execution_count": null,
      "outputs": [
        {
          "output_type": "stream",
          "name": "stdout",
          "text": [
            "--2021-10-31 03:02:59--  https://repo.anaconda.com/miniconda/Miniconda3-py37_4.8.2-Linux-x86_64.sh\n",
            "Resolving repo.anaconda.com (repo.anaconda.com)... 104.16.131.3, 104.16.130.3, 2606:4700::6810:8303, ...\n",
            "Connecting to repo.anaconda.com (repo.anaconda.com)|104.16.131.3|:443... connected.\n",
            "HTTP request sent, awaiting response... 200 OK\n",
            "Length: 85055499 (81M) [application/x-sh]\n",
            "Saving to: ‘Miniconda3-py37_4.8.2-Linux-x86_64.sh’\n",
            "\n",
            "Miniconda3-py37_4.8 100%[===================>]  81.12M   128MB/s    in 0.6s    \n",
            "\n",
            "2021-10-31 03:03:00 (128 MB/s) - ‘Miniconda3-py37_4.8.2-Linux-x86_64.sh’ saved [85055499/85055499]\n",
            "\n",
            "PREFIX=/usr/local\n",
            "Unpacking payload ...\n",
            "Collecting package metadata (current_repodata.json): - \b\b\\ \b\b| \b\bdone\n",
            "Solving environment: - \b\b\\ \b\bdone\n",
            "\n",
            "## Package Plan ##\n",
            "\n",
            "  environment location: /usr/local\n",
            "\n",
            "  added / updated specs:\n",
            "    - _libgcc_mutex==0.1=main\n",
            "    - asn1crypto==1.3.0=py37_0\n",
            "    - ca-certificates==2020.1.1=0\n",
            "    - certifi==2019.11.28=py37_0\n",
            "    - cffi==1.14.0=py37h2e261b9_0\n",
            "    - chardet==3.0.4=py37_1003\n",
            "    - conda-package-handling==1.6.0=py37h7b6447c_0\n",
            "    - conda==4.8.2=py37_0\n",
            "    - cryptography==2.8=py37h1ba5d50_0\n",
            "    - idna==2.8=py37_0\n",
            "    - ld_impl_linux-64==2.33.1=h53a641e_7\n",
            "    - libedit==3.1.20181209=hc058e9b_0\n",
            "    - libffi==3.2.1=hd88cf55_4\n",
            "    - libgcc-ng==9.1.0=hdf63c60_0\n",
            "    - libstdcxx-ng==9.1.0=hdf63c60_0\n",
            "    - ncurses==6.2=he6710b0_0\n",
            "    - openssl==1.1.1d=h7b6447c_4\n",
            "    - pip==20.0.2=py37_1\n",
            "    - pycosat==0.6.3=py37h7b6447c_0\n",
            "    - pycparser==2.19=py37_0\n",
            "    - pyopenssl==19.1.0=py37_0\n",
            "    - pysocks==1.7.1=py37_0\n",
            "    - python==3.7.6=h0371630_2\n",
            "    - readline==7.0=h7b6447c_5\n",
            "    - requests==2.22.0=py37_1\n",
            "    - ruamel_yaml==0.15.87=py37h7b6447c_0\n",
            "    - setuptools==45.2.0=py37_0\n",
            "    - six==1.14.0=py37_0\n",
            "    - sqlite==3.31.1=h7b6447c_0\n",
            "    - tk==8.6.8=hbc83047_0\n",
            "    - tqdm==4.42.1=py_0\n",
            "    - urllib3==1.25.8=py37_0\n",
            "    - wheel==0.34.2=py37_0\n",
            "    - xz==5.2.4=h14c3975_4\n",
            "    - yaml==0.1.7=had09818_2\n",
            "    - zlib==1.2.11=h7b6447c_3\n",
            "\n",
            "\n",
            "The following NEW packages will be INSTALLED:\n",
            "\n",
            "  _libgcc_mutex      pkgs/main/linux-64::_libgcc_mutex-0.1-main\n",
            "  asn1crypto         pkgs/main/linux-64::asn1crypto-1.3.0-py37_0\n",
            "  ca-certificates    pkgs/main/linux-64::ca-certificates-2020.1.1-0\n",
            "  certifi            pkgs/main/linux-64::certifi-2019.11.28-py37_0\n",
            "  cffi               pkgs/main/linux-64::cffi-1.14.0-py37h2e261b9_0\n",
            "  chardet            pkgs/main/linux-64::chardet-3.0.4-py37_1003\n",
            "  conda              pkgs/main/linux-64::conda-4.8.2-py37_0\n",
            "  conda-package-han~ pkgs/main/linux-64::conda-package-handling-1.6.0-py37h7b6447c_0\n",
            "  cryptography       pkgs/main/linux-64::cryptography-2.8-py37h1ba5d50_0\n",
            "  idna               pkgs/main/linux-64::idna-2.8-py37_0\n",
            "  ld_impl_linux-64   pkgs/main/linux-64::ld_impl_linux-64-2.33.1-h53a641e_7\n",
            "  libedit            pkgs/main/linux-64::libedit-3.1.20181209-hc058e9b_0\n",
            "  libffi             pkgs/main/linux-64::libffi-3.2.1-hd88cf55_4\n",
            "  libgcc-ng          pkgs/main/linux-64::libgcc-ng-9.1.0-hdf63c60_0\n",
            "  libstdcxx-ng       pkgs/main/linux-64::libstdcxx-ng-9.1.0-hdf63c60_0\n",
            "  ncurses            pkgs/main/linux-64::ncurses-6.2-he6710b0_0\n",
            "  openssl            pkgs/main/linux-64::openssl-1.1.1d-h7b6447c_4\n",
            "  pip                pkgs/main/linux-64::pip-20.0.2-py37_1\n",
            "  pycosat            pkgs/main/linux-64::pycosat-0.6.3-py37h7b6447c_0\n",
            "  pycparser          pkgs/main/linux-64::pycparser-2.19-py37_0\n",
            "  pyopenssl          pkgs/main/linux-64::pyopenssl-19.1.0-py37_0\n",
            "  pysocks            pkgs/main/linux-64::pysocks-1.7.1-py37_0\n",
            "  python             pkgs/main/linux-64::python-3.7.6-h0371630_2\n",
            "  readline           pkgs/main/linux-64::readline-7.0-h7b6447c_5\n",
            "  requests           pkgs/main/linux-64::requests-2.22.0-py37_1\n",
            "  ruamel_yaml        pkgs/main/linux-64::ruamel_yaml-0.15.87-py37h7b6447c_0\n",
            "  setuptools         pkgs/main/linux-64::setuptools-45.2.0-py37_0\n",
            "  six                pkgs/main/linux-64::six-1.14.0-py37_0\n",
            "  sqlite             pkgs/main/linux-64::sqlite-3.31.1-h7b6447c_0\n",
            "  tk                 pkgs/main/linux-64::tk-8.6.8-hbc83047_0\n",
            "  tqdm               pkgs/main/noarch::tqdm-4.42.1-py_0\n",
            "  urllib3            pkgs/main/linux-64::urllib3-1.25.8-py37_0\n",
            "  wheel              pkgs/main/linux-64::wheel-0.34.2-py37_0\n",
            "  xz                 pkgs/main/linux-64::xz-5.2.4-h14c3975_4\n",
            "  yaml               pkgs/main/linux-64::yaml-0.1.7-had09818_2\n",
            "  zlib               pkgs/main/linux-64::zlib-1.2.11-h7b6447c_3\n",
            "\n",
            "\n",
            "Preparing transaction: / \b\b- \b\b\\ \b\b| \b\bdone\n",
            "Executing transaction: - \b\b\\ \b\b| \b\b/ \b\b- \b\b\\ \b\b| \b\b/ \b\b- \b\b\\ \b\b| \b\b/ \b\b- \b\b\\ \b\b| \b\b/ \b\b- \b\bdone\n",
            "installation finished.\n",
            "WARNING:\n",
            "    You currently have a PYTHONPATH environment variable set. This may cause\n",
            "    unexpected behavior when running the Python interpreter in Miniconda3.\n",
            "    For best results, please verify that your PYTHONPATH only points to\n",
            "    directories of packages that are compatible with the Python interpreter\n",
            "    in Miniconda3: /usr/local\n",
            "Collecting package metadata (current_repodata.json): - \b\b\\ \b\b| \b\b/ \b\b- \b\b\\ \b\b| \b\b/ \b\b- \b\b\\ \b\b| \b\b/ \b\b- \b\b\\ \b\b| \b\b/ \b\b- \b\b\\ \b\b| \b\b/ \b\b- \b\b\\ \b\b| \b\b/ \b\bdone\n",
            "Solving environment: \\ \b\b| \b\b/ \b\b- \b\b\\ \b\b| \b\b/ \b\b- \b\b\\ \b\b| \b\b/ \b\b- \b\b\\ \b\bdone\n",
            "\n",
            "## Package Plan ##\n",
            "\n",
            "  environment location: /usr/local\n",
            "\n",
            "  added / updated specs:\n",
            "    - rdkit\n",
            "\n",
            "\n",
            "The following packages will be downloaded:\n",
            "\n",
            "    package                    |            build\n",
            "    ---------------------------|-----------------\n",
            "    blas-1.0                   |              mkl           6 KB\n",
            "    bottleneck-1.3.2           |   py37heb32a55_1         125 KB\n",
            "    bzip2-1.0.8                |       h7b6447c_0          78 KB\n",
            "    ca-certificates-2021.10.26 |       h06a4308_2         115 KB\n",
            "    cairo-1.16.0               |       hf32fb01_1         1.0 MB\n",
            "    certifi-2021.10.8          |   py37h06a4308_0         151 KB\n",
            "    conda-4.10.3               |   py37h06a4308_0         2.9 MB\n",
            "    fontconfig-2.13.1          |       h6c09931_0         250 KB\n",
            "    freetype-2.11.0            |       h70c0345_0         618 KB\n",
            "    giflib-5.2.1               |       h7b6447c_0          78 KB\n",
            "    glib-2.69.1                |       h5202010_0         1.7 MB\n",
            "    icu-58.2                   |       he6710b0_3        10.5 MB\n",
            "    intel-openmp-2021.3.0      |    h06a4308_3350         1.4 MB\n",
            "    jpeg-9d                    |       h7f8727e_0         232 KB\n",
            "    lcms2-2.12                 |       h3be6417_0         312 KB\n",
            "    libboost-1.73.0            |      h3ff78a5_11        13.9 MB\n",
            "    libffi-3.3                 |       he6710b0_2          50 KB\n",
            "    libpng-1.6.37              |       hbc83047_0         278 KB\n",
            "    libtiff-4.2.0              |       h85742a9_0         502 KB\n",
            "    libuuid-1.0.3              |       h7f8727e_2          17 KB\n",
            "    libwebp-1.2.0              |       h89dd481_0         493 KB\n",
            "    libwebp-base-1.2.0         |       h27cfd23_0         437 KB\n",
            "    libxcb-1.14                |       h7b6447c_0         505 KB\n",
            "    libxml2-2.9.10             |       hb55368b_3         1.2 MB\n",
            "    lz4-c-1.9.3                |       h295c915_1         185 KB\n",
            "    mkl-2021.3.0               |     h06a4308_520       141.2 MB\n",
            "    mkl-service-2.4.0          |   py37h7f8727e_0          56 KB\n",
            "    mkl_fft-1.3.1              |   py37hd3c417c_0         172 KB\n",
            "    mkl_random-1.2.2           |   py37h51133e4_0         287 KB\n",
            "    numexpr-2.7.3              |   py37h22e1b3c_1         188 KB\n",
            "    numpy-1.21.2               |   py37h20f2e39_0          23 KB\n",
            "    numpy-base-1.21.2          |   py37h79a1101_0         4.8 MB\n",
            "    olefile-0.46               |           py37_0          50 KB\n",
            "    openssl-1.1.1l             |       h7f8727e_0         2.5 MB\n",
            "    pandas-1.3.3               |   py37h8c16a72_0         9.2 MB\n",
            "    pcre-8.45                  |       h295c915_0         207 KB\n",
            "    pillow-8.4.0               |   py37h5aabda8_0         644 KB\n",
            "    pixman-0.40.0              |       h7f8727e_1         373 KB\n",
            "    py-boost-1.73.0            |  py37ha9443f7_11         204 KB\n",
            "    python-dateutil-2.8.2      |     pyhd3eb1b0_0         233 KB\n",
            "    pytz-2021.3                |     pyhd3eb1b0_0         171 KB\n",
            "    rdkit-2020.09.1.0          |   py37hd50e099_1        25.8 MB  rdkit\n",
            "    xz-5.2.5                   |       h7b6447c_0         341 KB\n",
            "    zstd-1.4.9                 |       haebb681_0         480 KB\n",
            "    ------------------------------------------------------------\n",
            "                                           Total:       223.8 MB\n",
            "\n",
            "The following NEW packages will be INSTALLED:\n",
            "\n",
            "  blas               pkgs/main/linux-64::blas-1.0-mkl\n",
            "  bottleneck         pkgs/main/linux-64::bottleneck-1.3.2-py37heb32a55_1\n",
            "  bzip2              pkgs/main/linux-64::bzip2-1.0.8-h7b6447c_0\n",
            "  cairo              pkgs/main/linux-64::cairo-1.16.0-hf32fb01_1\n",
            "  fontconfig         pkgs/main/linux-64::fontconfig-2.13.1-h6c09931_0\n",
            "  freetype           pkgs/main/linux-64::freetype-2.11.0-h70c0345_0\n",
            "  giflib             pkgs/main/linux-64::giflib-5.2.1-h7b6447c_0\n",
            "  glib               pkgs/main/linux-64::glib-2.69.1-h5202010_0\n",
            "  icu                pkgs/main/linux-64::icu-58.2-he6710b0_3\n",
            "  intel-openmp       pkgs/main/linux-64::intel-openmp-2021.3.0-h06a4308_3350\n",
            "  jpeg               pkgs/main/linux-64::jpeg-9d-h7f8727e_0\n",
            "  lcms2              pkgs/main/linux-64::lcms2-2.12-h3be6417_0\n",
            "  libboost           pkgs/main/linux-64::libboost-1.73.0-h3ff78a5_11\n",
            "  libpng             pkgs/main/linux-64::libpng-1.6.37-hbc83047_0\n",
            "  libtiff            pkgs/main/linux-64::libtiff-4.2.0-h85742a9_0\n",
            "  libuuid            pkgs/main/linux-64::libuuid-1.0.3-h7f8727e_2\n",
            "  libwebp            pkgs/main/linux-64::libwebp-1.2.0-h89dd481_0\n",
            "  libwebp-base       pkgs/main/linux-64::libwebp-base-1.2.0-h27cfd23_0\n",
            "  libxcb             pkgs/main/linux-64::libxcb-1.14-h7b6447c_0\n",
            "  libxml2            pkgs/main/linux-64::libxml2-2.9.10-hb55368b_3\n",
            "  lz4-c              pkgs/main/linux-64::lz4-c-1.9.3-h295c915_1\n",
            "  mkl                pkgs/main/linux-64::mkl-2021.3.0-h06a4308_520\n",
            "  mkl-service        pkgs/main/linux-64::mkl-service-2.4.0-py37h7f8727e_0\n",
            "  mkl_fft            pkgs/main/linux-64::mkl_fft-1.3.1-py37hd3c417c_0\n",
            "  mkl_random         pkgs/main/linux-64::mkl_random-1.2.2-py37h51133e4_0\n",
            "  numexpr            pkgs/main/linux-64::numexpr-2.7.3-py37h22e1b3c_1\n",
            "  numpy              pkgs/main/linux-64::numpy-1.21.2-py37h20f2e39_0\n",
            "  numpy-base         pkgs/main/linux-64::numpy-base-1.21.2-py37h79a1101_0\n",
            "  olefile            pkgs/main/linux-64::olefile-0.46-py37_0\n",
            "  pandas             pkgs/main/linux-64::pandas-1.3.3-py37h8c16a72_0\n",
            "  pcre               pkgs/main/linux-64::pcre-8.45-h295c915_0\n",
            "  pillow             pkgs/main/linux-64::pillow-8.4.0-py37h5aabda8_0\n",
            "  pixman             pkgs/main/linux-64::pixman-0.40.0-h7f8727e_1\n",
            "  py-boost           pkgs/main/linux-64::py-boost-1.73.0-py37ha9443f7_11\n",
            "  python-dateutil    pkgs/main/noarch::python-dateutil-2.8.2-pyhd3eb1b0_0\n",
            "  pytz               pkgs/main/noarch::pytz-2021.3-pyhd3eb1b0_0\n",
            "  rdkit              rdkit/linux-64::rdkit-2020.09.1.0-py37hd50e099_1\n",
            "  zstd               pkgs/main/linux-64::zstd-1.4.9-haebb681_0\n",
            "\n",
            "The following packages will be UPDATED:\n",
            "\n",
            "  ca-certificates                                2020.1.1-0 --> 2021.10.26-h06a4308_2\n",
            "  certifi                                 2019.11.28-py37_0 --> 2021.10.8-py37h06a4308_0\n",
            "  conda                                        4.8.2-py37_0 --> 4.10.3-py37h06a4308_0\n",
            "  libffi                                   3.2.1-hd88cf55_4 --> 3.3-he6710b0_2\n",
            "  openssl                                 1.1.1d-h7b6447c_4 --> 1.1.1l-h7f8727e_0\n",
            "  xz                                       5.2.4-h14c3975_4 --> 5.2.5-h7b6447c_0\n",
            "\n",
            "\n",
            "\n",
            "Downloading and Extracting Packages\n",
            "giflib-5.2.1         | 78 KB     | : 100% 1.0/1 [00:00<00:00, 13.55it/s]\n",
            "bottleneck-1.3.2     | 125 KB    | : 100% 1.0/1 [00:00<00:00, 18.08it/s]\n",
            "rdkit-2020.09.1.0    | 25.8 MB   | : 100% 1.0/1 [00:10<00:00, 10.52s/it]\n",
            "lz4-c-1.9.3          | 185 KB    | : 100% 1.0/1 [00:00<00:00, 12.26it/s]\n",
            "glib-2.69.1          | 1.7 MB    | : 100% 1.0/1 [00:00<00:00,  7.71it/s]\n",
            "pytz-2021.3          | 171 KB    | : 100% 1.0/1 [00:00<00:00, 10.15it/s]\n",
            "libxml2-2.9.10       | 1.2 MB    | : 100% 1.0/1 [00:00<00:00,  9.79it/s]\n",
            "jpeg-9d              | 232 KB    | : 100% 1.0/1 [00:00<00:00, 20.30it/s]\n",
            "pixman-0.40.0        | 373 KB    | : 100% 1.0/1 [00:00<00:00, 16.80it/s]\n",
            "libxcb-1.14          | 505 KB    | : 100% 1.0/1 [00:00<00:00, 12.02it/s]\n",
            "olefile-0.46         | 50 KB     | : 100% 1.0/1 [00:00<00:00, 19.08it/s]\n",
            "pcre-8.45            | 207 KB    | : 100% 1.0/1 [00:00<00:00, 20.98it/s]\n",
            "libwebp-base-1.2.0   | 437 KB    | : 100% 1.0/1 [00:00<00:00,  8.16it/s]\n",
            "mkl-2021.3.0         | 141.2 MB  | : 100% 1.0/1 [00:06<00:00,  6.45s/it]               \n",
            "numexpr-2.7.3        | 188 KB    | : 100% 1.0/1 [00:00<00:00, 19.06it/s]\n",
            "zstd-1.4.9           | 480 KB    | : 100% 1.0/1 [00:00<00:00, 13.07it/s]\n",
            "mkl_fft-1.3.1        | 172 KB    | : 100% 1.0/1 [00:00<00:00, 17.09it/s]\n",
            "lcms2-2.12           | 312 KB    | : 100% 1.0/1 [00:00<00:00, 14.10it/s]\n",
            "freetype-2.11.0      | 618 KB    | : 100% 1.0/1 [00:00<00:00, 12.78it/s]\n",
            "conda-4.10.3         | 2.9 MB    | : 100% 1.0/1 [00:00<00:00,  5.32it/s]\n",
            "python-dateutil-2.8. | 233 KB    | : 100% 1.0/1 [00:00<00:00, 17.78it/s]\n",
            "py-boost-1.73.0      | 204 KB    | : 100% 1.0/1 [00:00<00:00, 15.07it/s]\n",
            "intel-openmp-2021.3. | 1.4 MB    | : 100% 1.0/1 [00:00<00:00, 10.49it/s]\n",
            "libwebp-1.2.0        | 493 KB    | : 100% 1.0/1 [00:00<00:00, 12.28it/s]\n",
            "libboost-1.73.0      | 13.9 MB   | : 100% 1.0/1 [00:02<00:00,  1.37s/it]                \n",
            "libtiff-4.2.0        | 502 KB    | : 100% 1.0/1 [00:00<00:00, 15.96it/s]\n",
            "cairo-1.16.0         | 1.0 MB    | : 100% 1.0/1 [00:00<00:00, 10.93it/s]\n",
            "numpy-base-1.21.2    | 4.8 MB    | : 100% 1.0/1 [00:00<00:00,  2.98it/s]\n",
            "ca-certificates-2021 | 115 KB    | : 100% 1.0/1 [00:00<00:00, 19.36it/s]\n",
            "xz-5.2.5             | 341 KB    | : 100% 1.0/1 [00:00<00:00, 11.68it/s]\n",
            "libffi-3.3           | 50 KB     | : 100% 1.0/1 [00:00<00:00, 19.58it/s]\n",
            "icu-58.2             | 10.5 MB   | : 100% 1.0/1 [00:00<00:00,  2.20it/s]               \n",
            "certifi-2021.10.8    | 151 KB    | : 100% 1.0/1 [00:00<00:00, 20.07it/s]\n",
            "fontconfig-2.13.1    | 250 KB    | : 100% 1.0/1 [00:00<00:00, 15.91it/s]\n",
            "mkl_random-1.2.2     | 287 KB    | : 100% 1.0/1 [00:00<00:00, 16.58it/s]\n",
            "pandas-1.3.3         | 9.2 MB    | : 100% 1.0/1 [00:05<00:00,  2.76s/it]                \n",
            "blas-1.0             | 6 KB      | : 100% 1.0/1 [00:00<00:00, 17.17it/s]\n",
            "openssl-1.1.1l       | 2.5 MB    | : 100% 1.0/1 [00:00<00:00,  6.93it/s]\n",
            "mkl-service-2.4.0    | 56 KB     | : 100% 1.0/1 [00:00<00:00, 20.97it/s]\n",
            "numpy-1.21.2         | 23 KB     | : 100% 1.0/1 [00:00<00:00, 19.66it/s]\n",
            "libpng-1.6.37        | 278 KB    | : 100% 1.0/1 [00:00<00:00, 10.92it/s]\n",
            "pillow-8.4.0         | 644 KB    | : 100% 1.0/1 [00:00<00:00,  8.88it/s]\n",
            "bzip2-1.0.8          | 78 KB     | : 100% 1.0/1 [00:00<00:00, 20.01it/s]\n",
            "libuuid-1.0.3        | 17 KB     | : 100% 1.0/1 [00:00<00:00, 21.69it/s]\n",
            "Preparing transaction: / \b\b- \b\b\\ \b\b| \b\b/ \b\b- \b\b\\ \b\b| \b\b/ \b\b- \b\b\\ \b\bdone\n",
            "Verifying transaction: / \b\b- \b\b\\ \b\b| \b\b/ \b\b- \b\b\\ \b\b| \b\b/ \b\b- \b\b\\ \b\b| \b\b/ \b\b- \b\b\\ \b\b| \b\b/ \b\b- \b\b\\ \b\b| \b\b/ \b\b- \b\b\\ \b\b| \b\b/ \b\b- \b\b\\ \b\b| \b\b/ \b\b- \b\b\\ \b\b| \b\bdone\n",
            "Executing transaction: - \b\b\\ \b\b| \b\b/ \b\b- \b\b\\ \b\b| \b\b/ \b\b- \b\b\\ \b\b| \b\b/ \b\b- \b\b\\ \b\b| \b\b/ \b\b- \b\b\\ \b\b| \b\b/ \b\b- \b\b\\ \b\b| \b\b/ \b\b- \b\b\\ \b\b| \b\b/ \b\b- \b\b\\ \b\b| \b\b/ \b\b- \b\b\\ \b\b| \b\b/ \b\b- \b\b\\ \b\b| \b\b/ \b\b- \b\b\\ \b\b| \b\b/ \b\b- \b\b\\ \b\b| \b\b/ \b\b- \b\b\\ \b\b| \b\b/ \b\b- \b\b\\ \b\b| \b\b/ \b\b- \b\b\\ \b\b| \b\b/ \b\b- \b\b\\ \b\b| \b\b/ \b\b- \b\b\\ \b\b| \b\b/ \b\b- \b\b\\ \b\b| \b\b/ \b\b- \b\b\\ \b\b| \b\b/ \b\b- \b\b\\ \b\b| \b\b/ \b\b- \b\b\\ \b\b| \b\b/ \b\b- \b\b\\ \b\b| \b\b/ \b\b- \b\b\\ \b\b| \b\b/ \b\b- \b\b\\ \b\b| \b\b/ \b\b- \b\b\\ \b\b| \b\b/ \b\b- \b\b\\ \b\b| \b\b/ \b\b- \b\b\\ \b\b| \b\b/ \b\b- \b\b\\ \b\b| \b\b/ \b\b- \b\b\\ \b\b| \b\b/ \b\b- \b\b\\ \b\b| \b\b/ \b\b- \b\b\\ \b\b| \b\b/ \b\b- \b\b\\ \b\b| \b\b/ \b\b- \b\b\\ \b\b| \b\b/ \b\b- \b\b\\ \b\b| \b\b/ \b\b- \b\b\\ \b\b| \b\b/ \b\b- \b\b\\ \b\b| \b\b/ \b\b- \b\b\\ \b\b| \b\b/ \b\b- \b\b\\ \b\b| \b\b/ \b\b- \b\b\\ \b\b| \b\b/ \b\b- \b\b\\ \b\b| \b\b/ \b\b- \b\b\\ \b\b| \b\b/ \b\b- \b\b\\ \b\b| \b\b/ \b\b- \b\b\\ \b\b| \b\b/ \b\b- \b\b\\ \b\b| \b\b/ \b\b- \b\b\\ \b\b| \b\b/ \b\b- \b\b\\ \b\b| \b\b/ \b\b- \b\b\\ \b\b| \b\b/ \b\b- \b\bdone\n"
          ]
        }
      ]
    },
    {
      "cell_type": "markdown",
      "metadata": {
        "id": "QmxXXFa4wTNG"
      },
      "source": [
        "## **Load bioactivity data**"
      ]
    },
    {
      "cell_type": "code",
      "metadata": {
        "colab": {
          "base_uri": "https://localhost:8080/"
        },
        "id": "W-1o3WPn8men",
        "outputId": "36d9d80e-a7f1-46e6-db19-e3eb2a3e0fc8"
      },
      "source": [
        "! wget https://raw.githubusercontent.com/dibdin/HIV-reverse-transcriptase/main/bioactivity_preprocessed_data_HIVrtranscriptase.csv"
      ],
      "execution_count": null,
      "outputs": [
        {
          "output_type": "stream",
          "name": "stdout",
          "text": [
            "--2021-10-31 03:06:11--  https://raw.githubusercontent.com/dibdin/HIV-reverse-transcriptase/main/bioactivity_preprocessed_data_HIVrtranscriptase.csv\n",
            "Resolving raw.githubusercontent.com (raw.githubusercontent.com)... 185.199.109.133, 185.199.111.133, 185.199.108.133, ...\n",
            "Connecting to raw.githubusercontent.com (raw.githubusercontent.com)|185.199.109.133|:443... connected.\n",
            "HTTP request sent, awaiting response... 200 OK\n",
            "Length: 732893 (716K) [text/plain]\n",
            "Saving to: ‘bioactivity_preprocessed_data_HIVrtranscriptase.csv’\n",
            "\n",
            "bioactivity_preproc 100%[===================>] 715.72K  --.-KB/s    in 0.05s   \n",
            "\n",
            "2021-10-31 03:06:12 (12.9 MB/s) - ‘bioactivity_preprocessed_data_HIVrtranscriptase.csv’ saved [732893/732893]\n",
            "\n"
          ]
        }
      ]
    },
    {
      "cell_type": "code",
      "metadata": {
        "id": "ivxGRaN_81cl"
      },
      "source": [
        "import pandas as pd"
      ],
      "execution_count": null,
      "outputs": []
    },
    {
      "cell_type": "code",
      "metadata": {
        "id": "GCcE8J5XwjtB",
        "colab": {
          "base_uri": "https://localhost:8080/",
          "height": 419
        },
        "outputId": "8d33cec7-5552-4ce9-ad6a-29c6890018a4"
      },
      "source": [
        "df = pd.read_csv('bioactivity_preprocessed_data_HIVrtranscriptase.csv')\n",
        "df"
      ],
      "execution_count": null,
      "outputs": [
        {
          "output_type": "execute_result",
          "data": {
            "text/html": [
              "<div>\n",
              "<style scoped>\n",
              "    .dataframe tbody tr th:only-of-type {\n",
              "        vertical-align: middle;\n",
              "    }\n",
              "\n",
              "    .dataframe tbody tr th {\n",
              "        vertical-align: top;\n",
              "    }\n",
              "\n",
              "    .dataframe thead th {\n",
              "        text-align: right;\n",
              "    }\n",
              "</style>\n",
              "<table border=\"1\" class=\"dataframe\">\n",
              "  <thead>\n",
              "    <tr style=\"text-align: right;\">\n",
              "      <th></th>\n",
              "      <th>molecule_chembl_id</th>\n",
              "      <th>canonical_smiles</th>\n",
              "      <th>bioactivity_class</th>\n",
              "      <th>standard_value</th>\n",
              "    </tr>\n",
              "  </thead>\n",
              "  <tbody>\n",
              "    <tr>\n",
              "      <th>0</th>\n",
              "      <td>CHEMBL296346</td>\n",
              "      <td>S=C(NCN1CCOCC1)Nc1ccc(Br)cn1</td>\n",
              "      <td>inactive</td>\n",
              "      <td>10000.00</td>\n",
              "    </tr>\n",
              "    <tr>\n",
              "      <th>1</th>\n",
              "      <td>CHEMBL318730</td>\n",
              "      <td>CCc1cc(NCc2ccc3ccccc3c2)c(O)nc1C</td>\n",
              "      <td>active</td>\n",
              "      <td>457.09</td>\n",
              "    </tr>\n",
              "    <tr>\n",
              "      <th>2</th>\n",
              "      <td>CHEMBL303928</td>\n",
              "      <td>O=c1[nH]c2c(c(=O)[nH]1)CNc1ccccc1S2</td>\n",
              "      <td>inactive</td>\n",
              "      <td>100000.00</td>\n",
              "    </tr>\n",
              "    <tr>\n",
              "      <th>3</th>\n",
              "      <td>CHEMBL68175</td>\n",
              "      <td>C=C(C)CN1Cc2cccc3[nH]c(=O)n(c23)C(C)C1</td>\n",
              "      <td>inactive</td>\n",
              "      <td>32100.00</td>\n",
              "    </tr>\n",
              "    <tr>\n",
              "      <th>4</th>\n",
              "      <td>CHEMBL69775</td>\n",
              "      <td>C=C(C)CN1Cc2cccc3[nH]c(=O)n(c23)C(C(C)C)C1</td>\n",
              "      <td>inactive</td>\n",
              "      <td>12600.00</td>\n",
              "    </tr>\n",
              "    <tr>\n",
              "      <th>...</th>\n",
              "      <td>...</td>\n",
              "      <td>...</td>\n",
              "      <td>...</td>\n",
              "      <td>...</td>\n",
              "    </tr>\n",
              "    <tr>\n",
              "      <th>9114</th>\n",
              "      <td>CHEMBL57</td>\n",
              "      <td>Cc1ccnc2c1NC(=O)c1cccnc1N2C1CC1</td>\n",
              "      <td>intermediate</td>\n",
              "      <td>1550.00</td>\n",
              "    </tr>\n",
              "    <tr>\n",
              "      <th>9115</th>\n",
              "      <td>CHEMBL4636332</td>\n",
              "      <td>Cc1c(NC(=O)COc2ccc(Cl)cc2C(=O)c2cc(F)cc(C(F)(F...</td>\n",
              "      <td>active</td>\n",
              "      <td>12.00</td>\n",
              "    </tr>\n",
              "    <tr>\n",
              "      <th>9116</th>\n",
              "      <td>CHEMBL4636332</td>\n",
              "      <td>Cc1c(NC(=O)COc2ccc(Cl)cc2C(=O)c2cc(F)cc(C(F)(F...</td>\n",
              "      <td>active</td>\n",
              "      <td>0.76</td>\n",
              "    </tr>\n",
              "    <tr>\n",
              "      <th>9117</th>\n",
              "      <td>CHEMBL4636332</td>\n",
              "      <td>Cc1c(NC(=O)COc2ccc(Cl)cc2C(=O)c2cc(F)cc(C(F)(F...</td>\n",
              "      <td>active</td>\n",
              "      <td>2.60</td>\n",
              "    </tr>\n",
              "    <tr>\n",
              "      <th>9118</th>\n",
              "      <td>CHEMBL4641539</td>\n",
              "      <td>CC(C)(C#Cc1ccc(NC(=O)COc2ccccc2C(=O)c2ccccc2)c...</td>\n",
              "      <td>intermediate</td>\n",
              "      <td>5053.00</td>\n",
              "    </tr>\n",
              "  </tbody>\n",
              "</table>\n",
              "<p>9119 rows × 4 columns</p>\n",
              "</div>"
            ],
            "text/plain": [
              "     molecule_chembl_id  ... standard_value\n",
              "0          CHEMBL296346  ...       10000.00\n",
              "1          CHEMBL318730  ...         457.09\n",
              "2          CHEMBL303928  ...      100000.00\n",
              "3           CHEMBL68175  ...       32100.00\n",
              "4           CHEMBL69775  ...       12600.00\n",
              "...                 ...  ...            ...\n",
              "9114           CHEMBL57  ...        1550.00\n",
              "9115      CHEMBL4636332  ...          12.00\n",
              "9116      CHEMBL4636332  ...           0.76\n",
              "9117      CHEMBL4636332  ...           2.60\n",
              "9118      CHEMBL4641539  ...        5053.00\n",
              "\n",
              "[9119 rows x 4 columns]"
            ]
          },
          "metadata": {},
          "execution_count": 4
        }
      ]
    },
    {
      "cell_type": "markdown",
      "metadata": {
        "id": "YzN_S4Quro5S"
      },
      "source": [
        "## **Calculate Lipinski descriptors**\n",
        "Christopher Lipinski, a scientist at Pfizer, came up with a set of rule-of-thumb for evaluating the **druglikeness** of compounds. Such druglikeness is based on the Absorption, Distribution, Metabolism and Excretion (ADME) that is also known as the pharmacokinetic profile. Lipinski analyzed all orally active FDA-approved drugs in the formulation of what is to be known as the **Rule-of-Five** or **Lipinski's Rule**.\n",
        "\n",
        "The Lipinski's Rule stated the following:\n",
        "* Molecular weight < 500 Dalton\n",
        "* Octanol-water partition coefficient (LogP) < 5\n",
        "* Hydrogen bond donors < 5\n",
        "* Hydrogen bond acceptors < 10 "
      ]
    },
    {
      "cell_type": "markdown",
      "metadata": {
        "id": "9qn_eQcnxY7C"
      },
      "source": [
        "### **Import libraries**"
      ]
    },
    {
      "cell_type": "code",
      "metadata": {
        "id": "CgBjIdT-rnRU"
      },
      "source": [
        "import numpy as np\n",
        "from rdkit import Chem\n",
        "from rdkit.Chem import Descriptors, Lipinski"
      ],
      "execution_count": null,
      "outputs": []
    },
    {
      "cell_type": "markdown",
      "metadata": {
        "id": "JsgTV-ByxdMa"
      },
      "source": [
        "### **Calculate descriptors**"
      ]
    },
    {
      "cell_type": "code",
      "metadata": {
        "id": "bCXEY7a9ugO_"
      },
      "source": [
        "# Inspired by: https://codeocean.com/explore/capsules?query=tag:data-curation\n",
        "\n",
        "def lipinski(smiles, verbose=False):\n",
        "\n",
        "    moldata= []\n",
        "    for elem in smiles:\n",
        "        mol=Chem.MolFromSmiles(elem) \n",
        "        moldata.append(mol)\n",
        "       \n",
        "    baseData= np.arange(1,1)\n",
        "    i=0  \n",
        "    for mol in moldata:        \n",
        "       \n",
        "        desc_MolWt = Descriptors.MolWt(mol)\n",
        "        desc_MolLogP = Descriptors.MolLogP(mol)\n",
        "        desc_NumHDonors = Lipinski.NumHDonors(mol)\n",
        "        desc_NumHAcceptors = Lipinski.NumHAcceptors(mol)\n",
        "           \n",
        "        row = np.array([desc_MolWt,\n",
        "                        desc_MolLogP,\n",
        "                        desc_NumHDonors,\n",
        "                        desc_NumHAcceptors])   \n",
        "    \n",
        "        if(i==0):\n",
        "            baseData=row\n",
        "        else:\n",
        "            baseData=np.vstack([baseData, row])\n",
        "        i=i+1      \n",
        "    \n",
        "    columnNames=[\"MW\",\"LogP\",\"NumHDonors\",\"NumHAcceptors\"]   \n",
        "    descriptors = pd.DataFrame(data=baseData,columns=columnNames)\n",
        "    \n",
        "    return descriptors"
      ],
      "execution_count": null,
      "outputs": []
    },
    {
      "cell_type": "code",
      "metadata": {
        "id": "ThFIFw8IukMY"
      },
      "source": [
        "df_lipinski = lipinski(df.canonical_smiles)"
      ],
      "execution_count": null,
      "outputs": []
    },
    {
      "cell_type": "markdown",
      "metadata": {
        "id": "gUMlPfFrxicj"
      },
      "source": [
        "### **Combine DataFrames**\n",
        "\n",
        "Let's take a look at the 2 DataFrames that will be combined."
      ]
    },
    {
      "cell_type": "code",
      "metadata": {
        "id": "DaezyM5vwp9n",
        "colab": {
          "base_uri": "https://localhost:8080/",
          "height": 419
        },
        "outputId": "1cc665f6-e3c2-404b-dc2c-4921cd002b56"
      },
      "source": [
        "df_lipinski"
      ],
      "execution_count": null,
      "outputs": [
        {
          "output_type": "execute_result",
          "data": {
            "text/html": [
              "<div>\n",
              "<style scoped>\n",
              "    .dataframe tbody tr th:only-of-type {\n",
              "        vertical-align: middle;\n",
              "    }\n",
              "\n",
              "    .dataframe tbody tr th {\n",
              "        vertical-align: top;\n",
              "    }\n",
              "\n",
              "    .dataframe thead th {\n",
              "        text-align: right;\n",
              "    }\n",
              "</style>\n",
              "<table border=\"1\" class=\"dataframe\">\n",
              "  <thead>\n",
              "    <tr style=\"text-align: right;\">\n",
              "      <th></th>\n",
              "      <th>MW</th>\n",
              "      <th>LogP</th>\n",
              "      <th>NumHDonors</th>\n",
              "      <th>NumHAcceptors</th>\n",
              "    </tr>\n",
              "  </thead>\n",
              "  <tbody>\n",
              "    <tr>\n",
              "      <th>0</th>\n",
              "      <td>331.239</td>\n",
              "      <td>1.42020</td>\n",
              "      <td>2.0</td>\n",
              "      <td>4.0</td>\n",
              "    </tr>\n",
              "    <tr>\n",
              "      <th>1</th>\n",
              "      <td>292.382</td>\n",
              "      <td>4.42332</td>\n",
              "      <td>2.0</td>\n",
              "      <td>3.0</td>\n",
              "    </tr>\n",
              "    <tr>\n",
              "      <th>2</th>\n",
              "      <td>247.279</td>\n",
              "      <td>1.13990</td>\n",
              "      <td>3.0</td>\n",
              "      <td>4.0</td>\n",
              "    </tr>\n",
              "    <tr>\n",
              "      <th>3</th>\n",
              "      <td>257.337</td>\n",
              "      <td>2.28230</td>\n",
              "      <td>1.0</td>\n",
              "      <td>3.0</td>\n",
              "    </tr>\n",
              "    <tr>\n",
              "      <th>4</th>\n",
              "      <td>285.391</td>\n",
              "      <td>2.91840</td>\n",
              "      <td>1.0</td>\n",
              "      <td>3.0</td>\n",
              "    </tr>\n",
              "    <tr>\n",
              "      <th>...</th>\n",
              "      <td>...</td>\n",
              "      <td>...</td>\n",
              "      <td>...</td>\n",
              "      <td>...</td>\n",
              "    </tr>\n",
              "    <tr>\n",
              "      <th>9114</th>\n",
              "      <td>266.304</td>\n",
              "      <td>2.65122</td>\n",
              "      <td>1.0</td>\n",
              "      <td>4.0</td>\n",
              "    </tr>\n",
              "    <tr>\n",
              "      <th>9115</th>\n",
              "      <td>527.829</td>\n",
              "      <td>5.89212</td>\n",
              "      <td>2.0</td>\n",
              "      <td>4.0</td>\n",
              "    </tr>\n",
              "    <tr>\n",
              "      <th>9116</th>\n",
              "      <td>527.829</td>\n",
              "      <td>5.89212</td>\n",
              "      <td>2.0</td>\n",
              "      <td>4.0</td>\n",
              "    </tr>\n",
              "    <tr>\n",
              "      <th>9117</th>\n",
              "      <td>527.829</td>\n",
              "      <td>5.89212</td>\n",
              "      <td>2.0</td>\n",
              "      <td>4.0</td>\n",
              "    </tr>\n",
              "    <tr>\n",
              "      <th>9118</th>\n",
              "      <td>475.928</td>\n",
              "      <td>5.05080</td>\n",
              "      <td>2.0</td>\n",
              "      <td>4.0</td>\n",
              "    </tr>\n",
              "  </tbody>\n",
              "</table>\n",
              "<p>9119 rows × 4 columns</p>\n",
              "</div>"
            ],
            "text/plain": [
              "           MW     LogP  NumHDonors  NumHAcceptors\n",
              "0     331.239  1.42020         2.0            4.0\n",
              "1     292.382  4.42332         2.0            3.0\n",
              "2     247.279  1.13990         3.0            4.0\n",
              "3     257.337  2.28230         1.0            3.0\n",
              "4     285.391  2.91840         1.0            3.0\n",
              "...       ...      ...         ...            ...\n",
              "9114  266.304  2.65122         1.0            4.0\n",
              "9115  527.829  5.89212         2.0            4.0\n",
              "9116  527.829  5.89212         2.0            4.0\n",
              "9117  527.829  5.89212         2.0            4.0\n",
              "9118  475.928  5.05080         2.0            4.0\n",
              "\n",
              "[9119 rows x 4 columns]"
            ]
          },
          "metadata": {},
          "execution_count": 8
        }
      ]
    },
    {
      "cell_type": "code",
      "metadata": {
        "id": "9-ChzM8_wuq_",
        "colab": {
          "base_uri": "https://localhost:8080/",
          "height": 419
        },
        "outputId": "06ea20f5-c517-4ac1-b911-e1b1e66883e9"
      },
      "source": [
        "df"
      ],
      "execution_count": null,
      "outputs": [
        {
          "output_type": "execute_result",
          "data": {
            "text/html": [
              "<div>\n",
              "<style scoped>\n",
              "    .dataframe tbody tr th:only-of-type {\n",
              "        vertical-align: middle;\n",
              "    }\n",
              "\n",
              "    .dataframe tbody tr th {\n",
              "        vertical-align: top;\n",
              "    }\n",
              "\n",
              "    .dataframe thead th {\n",
              "        text-align: right;\n",
              "    }\n",
              "</style>\n",
              "<table border=\"1\" class=\"dataframe\">\n",
              "  <thead>\n",
              "    <tr style=\"text-align: right;\">\n",
              "      <th></th>\n",
              "      <th>molecule_chembl_id</th>\n",
              "      <th>canonical_smiles</th>\n",
              "      <th>bioactivity_class</th>\n",
              "      <th>standard_value</th>\n",
              "    </tr>\n",
              "  </thead>\n",
              "  <tbody>\n",
              "    <tr>\n",
              "      <th>0</th>\n",
              "      <td>CHEMBL296346</td>\n",
              "      <td>S=C(NCN1CCOCC1)Nc1ccc(Br)cn1</td>\n",
              "      <td>inactive</td>\n",
              "      <td>10000.00</td>\n",
              "    </tr>\n",
              "    <tr>\n",
              "      <th>1</th>\n",
              "      <td>CHEMBL318730</td>\n",
              "      <td>CCc1cc(NCc2ccc3ccccc3c2)c(O)nc1C</td>\n",
              "      <td>active</td>\n",
              "      <td>457.09</td>\n",
              "    </tr>\n",
              "    <tr>\n",
              "      <th>2</th>\n",
              "      <td>CHEMBL303928</td>\n",
              "      <td>O=c1[nH]c2c(c(=O)[nH]1)CNc1ccccc1S2</td>\n",
              "      <td>inactive</td>\n",
              "      <td>100000.00</td>\n",
              "    </tr>\n",
              "    <tr>\n",
              "      <th>3</th>\n",
              "      <td>CHEMBL68175</td>\n",
              "      <td>C=C(C)CN1Cc2cccc3[nH]c(=O)n(c23)C(C)C1</td>\n",
              "      <td>inactive</td>\n",
              "      <td>32100.00</td>\n",
              "    </tr>\n",
              "    <tr>\n",
              "      <th>4</th>\n",
              "      <td>CHEMBL69775</td>\n",
              "      <td>C=C(C)CN1Cc2cccc3[nH]c(=O)n(c23)C(C(C)C)C1</td>\n",
              "      <td>inactive</td>\n",
              "      <td>12600.00</td>\n",
              "    </tr>\n",
              "    <tr>\n",
              "      <th>...</th>\n",
              "      <td>...</td>\n",
              "      <td>...</td>\n",
              "      <td>...</td>\n",
              "      <td>...</td>\n",
              "    </tr>\n",
              "    <tr>\n",
              "      <th>9114</th>\n",
              "      <td>CHEMBL57</td>\n",
              "      <td>Cc1ccnc2c1NC(=O)c1cccnc1N2C1CC1</td>\n",
              "      <td>intermediate</td>\n",
              "      <td>1550.00</td>\n",
              "    </tr>\n",
              "    <tr>\n",
              "      <th>9115</th>\n",
              "      <td>CHEMBL4636332</td>\n",
              "      <td>Cc1c(NC(=O)COc2ccc(Cl)cc2C(=O)c2cc(F)cc(C(F)(F...</td>\n",
              "      <td>active</td>\n",
              "      <td>12.00</td>\n",
              "    </tr>\n",
              "    <tr>\n",
              "      <th>9116</th>\n",
              "      <td>CHEMBL4636332</td>\n",
              "      <td>Cc1c(NC(=O)COc2ccc(Cl)cc2C(=O)c2cc(F)cc(C(F)(F...</td>\n",
              "      <td>active</td>\n",
              "      <td>0.76</td>\n",
              "    </tr>\n",
              "    <tr>\n",
              "      <th>9117</th>\n",
              "      <td>CHEMBL4636332</td>\n",
              "      <td>Cc1c(NC(=O)COc2ccc(Cl)cc2C(=O)c2cc(F)cc(C(F)(F...</td>\n",
              "      <td>active</td>\n",
              "      <td>2.60</td>\n",
              "    </tr>\n",
              "    <tr>\n",
              "      <th>9118</th>\n",
              "      <td>CHEMBL4641539</td>\n",
              "      <td>CC(C)(C#Cc1ccc(NC(=O)COc2ccccc2C(=O)c2ccccc2)c...</td>\n",
              "      <td>intermediate</td>\n",
              "      <td>5053.00</td>\n",
              "    </tr>\n",
              "  </tbody>\n",
              "</table>\n",
              "<p>9119 rows × 4 columns</p>\n",
              "</div>"
            ],
            "text/plain": [
              "     molecule_chembl_id  ... standard_value\n",
              "0          CHEMBL296346  ...       10000.00\n",
              "1          CHEMBL318730  ...         457.09\n",
              "2          CHEMBL303928  ...      100000.00\n",
              "3           CHEMBL68175  ...       32100.00\n",
              "4           CHEMBL69775  ...       12600.00\n",
              "...                 ...  ...            ...\n",
              "9114           CHEMBL57  ...        1550.00\n",
              "9115      CHEMBL4636332  ...          12.00\n",
              "9116      CHEMBL4636332  ...           0.76\n",
              "9117      CHEMBL4636332  ...           2.60\n",
              "9118      CHEMBL4641539  ...        5053.00\n",
              "\n",
              "[9119 rows x 4 columns]"
            ]
          },
          "metadata": {},
          "execution_count": 9
        }
      ]
    },
    {
      "cell_type": "markdown",
      "metadata": {
        "id": "eET6iZ1Aw3oe"
      },
      "source": [
        "Now, let's combine the 2 DataFrame"
      ]
    },
    {
      "cell_type": "code",
      "metadata": {
        "id": "L9nUZC0Ww3gp"
      },
      "source": [
        "df_combined = pd.concat([df,df_lipinski], axis=1)"
      ],
      "execution_count": null,
      "outputs": []
    },
    {
      "cell_type": "code",
      "metadata": {
        "id": "FRBfBP3QxFJp",
        "colab": {
          "base_uri": "https://localhost:8080/",
          "height": 419
        },
        "outputId": "7daae7ba-4a37-428b-8545-d279f82ed24b"
      },
      "source": [
        "df_combined"
      ],
      "execution_count": null,
      "outputs": [
        {
          "output_type": "execute_result",
          "data": {
            "text/html": [
              "<div>\n",
              "<style scoped>\n",
              "    .dataframe tbody tr th:only-of-type {\n",
              "        vertical-align: middle;\n",
              "    }\n",
              "\n",
              "    .dataframe tbody tr th {\n",
              "        vertical-align: top;\n",
              "    }\n",
              "\n",
              "    .dataframe thead th {\n",
              "        text-align: right;\n",
              "    }\n",
              "</style>\n",
              "<table border=\"1\" class=\"dataframe\">\n",
              "  <thead>\n",
              "    <tr style=\"text-align: right;\">\n",
              "      <th></th>\n",
              "      <th>molecule_chembl_id</th>\n",
              "      <th>canonical_smiles</th>\n",
              "      <th>bioactivity_class</th>\n",
              "      <th>standard_value</th>\n",
              "      <th>MW</th>\n",
              "      <th>LogP</th>\n",
              "      <th>NumHDonors</th>\n",
              "      <th>NumHAcceptors</th>\n",
              "    </tr>\n",
              "  </thead>\n",
              "  <tbody>\n",
              "    <tr>\n",
              "      <th>0</th>\n",
              "      <td>CHEMBL296346</td>\n",
              "      <td>S=C(NCN1CCOCC1)Nc1ccc(Br)cn1</td>\n",
              "      <td>inactive</td>\n",
              "      <td>10000.00</td>\n",
              "      <td>331.239</td>\n",
              "      <td>1.42020</td>\n",
              "      <td>2.0</td>\n",
              "      <td>4.0</td>\n",
              "    </tr>\n",
              "    <tr>\n",
              "      <th>1</th>\n",
              "      <td>CHEMBL318730</td>\n",
              "      <td>CCc1cc(NCc2ccc3ccccc3c2)c(O)nc1C</td>\n",
              "      <td>active</td>\n",
              "      <td>457.09</td>\n",
              "      <td>292.382</td>\n",
              "      <td>4.42332</td>\n",
              "      <td>2.0</td>\n",
              "      <td>3.0</td>\n",
              "    </tr>\n",
              "    <tr>\n",
              "      <th>2</th>\n",
              "      <td>CHEMBL303928</td>\n",
              "      <td>O=c1[nH]c2c(c(=O)[nH]1)CNc1ccccc1S2</td>\n",
              "      <td>inactive</td>\n",
              "      <td>100000.00</td>\n",
              "      <td>247.279</td>\n",
              "      <td>1.13990</td>\n",
              "      <td>3.0</td>\n",
              "      <td>4.0</td>\n",
              "    </tr>\n",
              "    <tr>\n",
              "      <th>3</th>\n",
              "      <td>CHEMBL68175</td>\n",
              "      <td>C=C(C)CN1Cc2cccc3[nH]c(=O)n(c23)C(C)C1</td>\n",
              "      <td>inactive</td>\n",
              "      <td>32100.00</td>\n",
              "      <td>257.337</td>\n",
              "      <td>2.28230</td>\n",
              "      <td>1.0</td>\n",
              "      <td>3.0</td>\n",
              "    </tr>\n",
              "    <tr>\n",
              "      <th>4</th>\n",
              "      <td>CHEMBL69775</td>\n",
              "      <td>C=C(C)CN1Cc2cccc3[nH]c(=O)n(c23)C(C(C)C)C1</td>\n",
              "      <td>inactive</td>\n",
              "      <td>12600.00</td>\n",
              "      <td>285.391</td>\n",
              "      <td>2.91840</td>\n",
              "      <td>1.0</td>\n",
              "      <td>3.0</td>\n",
              "    </tr>\n",
              "    <tr>\n",
              "      <th>...</th>\n",
              "      <td>...</td>\n",
              "      <td>...</td>\n",
              "      <td>...</td>\n",
              "      <td>...</td>\n",
              "      <td>...</td>\n",
              "      <td>...</td>\n",
              "      <td>...</td>\n",
              "      <td>...</td>\n",
              "    </tr>\n",
              "    <tr>\n",
              "      <th>9114</th>\n",
              "      <td>CHEMBL57</td>\n",
              "      <td>Cc1ccnc2c1NC(=O)c1cccnc1N2C1CC1</td>\n",
              "      <td>intermediate</td>\n",
              "      <td>1550.00</td>\n",
              "      <td>266.304</td>\n",
              "      <td>2.65122</td>\n",
              "      <td>1.0</td>\n",
              "      <td>4.0</td>\n",
              "    </tr>\n",
              "    <tr>\n",
              "      <th>9115</th>\n",
              "      <td>CHEMBL4636332</td>\n",
              "      <td>Cc1c(NC(=O)COc2ccc(Cl)cc2C(=O)c2cc(F)cc(C(F)(F...</td>\n",
              "      <td>active</td>\n",
              "      <td>12.00</td>\n",
              "      <td>527.829</td>\n",
              "      <td>5.89212</td>\n",
              "      <td>2.0</td>\n",
              "      <td>4.0</td>\n",
              "    </tr>\n",
              "    <tr>\n",
              "      <th>9116</th>\n",
              "      <td>CHEMBL4636332</td>\n",
              "      <td>Cc1c(NC(=O)COc2ccc(Cl)cc2C(=O)c2cc(F)cc(C(F)(F...</td>\n",
              "      <td>active</td>\n",
              "      <td>0.76</td>\n",
              "      <td>527.829</td>\n",
              "      <td>5.89212</td>\n",
              "      <td>2.0</td>\n",
              "      <td>4.0</td>\n",
              "    </tr>\n",
              "    <tr>\n",
              "      <th>9117</th>\n",
              "      <td>CHEMBL4636332</td>\n",
              "      <td>Cc1c(NC(=O)COc2ccc(Cl)cc2C(=O)c2cc(F)cc(C(F)(F...</td>\n",
              "      <td>active</td>\n",
              "      <td>2.60</td>\n",
              "      <td>527.829</td>\n",
              "      <td>5.89212</td>\n",
              "      <td>2.0</td>\n",
              "      <td>4.0</td>\n",
              "    </tr>\n",
              "    <tr>\n",
              "      <th>9118</th>\n",
              "      <td>CHEMBL4641539</td>\n",
              "      <td>CC(C)(C#Cc1ccc(NC(=O)COc2ccccc2C(=O)c2ccccc2)c...</td>\n",
              "      <td>intermediate</td>\n",
              "      <td>5053.00</td>\n",
              "      <td>475.928</td>\n",
              "      <td>5.05080</td>\n",
              "      <td>2.0</td>\n",
              "      <td>4.0</td>\n",
              "    </tr>\n",
              "  </tbody>\n",
              "</table>\n",
              "<p>9119 rows × 8 columns</p>\n",
              "</div>"
            ],
            "text/plain": [
              "     molecule_chembl_id  ... NumHAcceptors\n",
              "0          CHEMBL296346  ...           4.0\n",
              "1          CHEMBL318730  ...           3.0\n",
              "2          CHEMBL303928  ...           4.0\n",
              "3           CHEMBL68175  ...           3.0\n",
              "4           CHEMBL69775  ...           3.0\n",
              "...                 ...  ...           ...\n",
              "9114           CHEMBL57  ...           4.0\n",
              "9115      CHEMBL4636332  ...           4.0\n",
              "9116      CHEMBL4636332  ...           4.0\n",
              "9117      CHEMBL4636332  ...           4.0\n",
              "9118      CHEMBL4641539  ...           4.0\n",
              "\n",
              "[9119 rows x 8 columns]"
            ]
          },
          "metadata": {},
          "execution_count": 11
        }
      ]
    },
    {
      "cell_type": "markdown",
      "metadata": {
        "id": "e0MLOedB6j96"
      },
      "source": [
        "### **Convert IC50 to pIC50**\n",
        "To allow **IC50** data to be more uniformly distributed, we will convert **IC50** to the negative logarithmic scale which is essentially **-log10(IC50)**.\n",
        "\n",
        "This custom function pIC50() will accept a DataFrame as input and will:\n",
        "* Take the IC50 values from the ``standard_value`` column and converts it from nM to M by multiplying the value by 10$^{-9}$\n",
        "* Take the molar value and apply -log10\n",
        "* Delete the ``standard_value`` column and create a new ``pIC50`` column"
      ]
    },
    {
      "cell_type": "code",
      "metadata": {
        "id": "UXMuFQoQ4pZF"
      },
      "source": [
        "# https://github.com/chaninlab/estrogen-receptor-alpha-qsar/blob/master/02_ER_alpha_RO5.ipynb\n",
        "\n",
        "import numpy as np\n",
        "\n",
        "def pIC50(input):\n",
        "    pIC50 = []\n",
        "\n",
        "    for i in input['standard_value_norm']:\n",
        "        molar = i*(10**-9) # Converts nM to M\n",
        "        pIC50.append(-np.log10(molar))\n",
        "\n",
        "    input['pIC50'] = pIC50\n",
        "    x = input.drop('standard_value_norm', 1)\n",
        "        \n",
        "    return x"
      ],
      "execution_count": null,
      "outputs": []
    },
    {
      "cell_type": "markdown",
      "metadata": {
        "id": "WU5Fh1h2OaJJ"
      },
      "source": [
        "Point to note: Values greater than 100,000,000 will be fixed at 100,000,000 otherwise the negative logarithmic value will become negative."
      ]
    },
    {
      "cell_type": "code",
      "metadata": {
        "id": "QuUTFUpcR1wU",
        "colab": {
          "base_uri": "https://localhost:8080/"
        },
        "outputId": "3568bdd7-7a15-4596-99cd-cc34285895e3"
      },
      "source": [
        "df_combined.standard_value.describe()"
      ],
      "execution_count": null,
      "outputs": [
        {
          "output_type": "execute_result",
          "data": {
            "text/plain": [
              "count    9.119000e+03\n",
              "mean     6.317994e+04\n",
              "std      5.895731e+05\n",
              "min      5.000000e-05\n",
              "25%      1.000000e+02\n",
              "50%      1.000000e+03\n",
              "75%      1.060000e+04\n",
              "max      1.901078e+07\n",
              "Name: standard_value, dtype: float64"
            ]
          },
          "metadata": {},
          "execution_count": 13
        }
      ]
    },
    {
      "cell_type": "code",
      "metadata": {
        "id": "QyiJ0to5N6Z_",
        "colab": {
          "base_uri": "https://localhost:8080/"
        },
        "outputId": "b65e8432-5f04-4462-a664-bd8086055eb3"
      },
      "source": [
        "-np.log10( (10**-9)* 100000000 )"
      ],
      "execution_count": null,
      "outputs": [
        {
          "output_type": "execute_result",
          "data": {
            "text/plain": [
              "1.0"
            ]
          },
          "metadata": {},
          "execution_count": 14
        }
      ]
    },
    {
      "cell_type": "code",
      "metadata": {
        "id": "9S1aJkOYOP6K",
        "colab": {
          "base_uri": "https://localhost:8080/"
        },
        "outputId": "2361916a-fc2c-45b6-f7fe-6835c63c7f0a"
      },
      "source": [
        "-np.log10( (10**-9)* 10000000000 )"
      ],
      "execution_count": null,
      "outputs": [
        {
          "output_type": "execute_result",
          "data": {
            "text/plain": [
              "-1.0"
            ]
          },
          "metadata": {},
          "execution_count": 15
        }
      ]
    },
    {
      "cell_type": "code",
      "metadata": {
        "id": "iktHDDwtPDwl"
      },
      "source": [
        "def norm_value(input):\n",
        "    norm = []\n",
        "\n",
        "    for i in input['standard_value']:\n",
        "        if i > 100000000:\n",
        "          i = 100000000\n",
        "        norm.append(i)\n",
        "\n",
        "    input['standard_value_norm'] = norm\n",
        "    x = input.drop('standard_value', 1)\n",
        "        \n",
        "    return x"
      ],
      "execution_count": null,
      "outputs": []
    },
    {
      "cell_type": "markdown",
      "metadata": {
        "id": "EkrTs7RfPsrH"
      },
      "source": [
        "We will first apply the norm_value() function so that the values in the standard_value column is normalized."
      ]
    },
    {
      "cell_type": "code",
      "metadata": {
        "id": "EX2Mj2-ZP1Rj",
        "colab": {
          "base_uri": "https://localhost:8080/",
          "height": 419
        },
        "outputId": "8537b1ee-09e3-4485-e288-01bf69de94bb"
      },
      "source": [
        "df_norm = norm_value(df_combined)\n",
        "df_norm"
      ],
      "execution_count": null,
      "outputs": [
        {
          "output_type": "execute_result",
          "data": {
            "text/html": [
              "<div>\n",
              "<style scoped>\n",
              "    .dataframe tbody tr th:only-of-type {\n",
              "        vertical-align: middle;\n",
              "    }\n",
              "\n",
              "    .dataframe tbody tr th {\n",
              "        vertical-align: top;\n",
              "    }\n",
              "\n",
              "    .dataframe thead th {\n",
              "        text-align: right;\n",
              "    }\n",
              "</style>\n",
              "<table border=\"1\" class=\"dataframe\">\n",
              "  <thead>\n",
              "    <tr style=\"text-align: right;\">\n",
              "      <th></th>\n",
              "      <th>molecule_chembl_id</th>\n",
              "      <th>canonical_smiles</th>\n",
              "      <th>bioactivity_class</th>\n",
              "      <th>MW</th>\n",
              "      <th>LogP</th>\n",
              "      <th>NumHDonors</th>\n",
              "      <th>NumHAcceptors</th>\n",
              "      <th>standard_value_norm</th>\n",
              "    </tr>\n",
              "  </thead>\n",
              "  <tbody>\n",
              "    <tr>\n",
              "      <th>0</th>\n",
              "      <td>CHEMBL296346</td>\n",
              "      <td>S=C(NCN1CCOCC1)Nc1ccc(Br)cn1</td>\n",
              "      <td>inactive</td>\n",
              "      <td>331.239</td>\n",
              "      <td>1.42020</td>\n",
              "      <td>2.0</td>\n",
              "      <td>4.0</td>\n",
              "      <td>10000.00</td>\n",
              "    </tr>\n",
              "    <tr>\n",
              "      <th>1</th>\n",
              "      <td>CHEMBL318730</td>\n",
              "      <td>CCc1cc(NCc2ccc3ccccc3c2)c(O)nc1C</td>\n",
              "      <td>active</td>\n",
              "      <td>292.382</td>\n",
              "      <td>4.42332</td>\n",
              "      <td>2.0</td>\n",
              "      <td>3.0</td>\n",
              "      <td>457.09</td>\n",
              "    </tr>\n",
              "    <tr>\n",
              "      <th>2</th>\n",
              "      <td>CHEMBL303928</td>\n",
              "      <td>O=c1[nH]c2c(c(=O)[nH]1)CNc1ccccc1S2</td>\n",
              "      <td>inactive</td>\n",
              "      <td>247.279</td>\n",
              "      <td>1.13990</td>\n",
              "      <td>3.0</td>\n",
              "      <td>4.0</td>\n",
              "      <td>100000.00</td>\n",
              "    </tr>\n",
              "    <tr>\n",
              "      <th>3</th>\n",
              "      <td>CHEMBL68175</td>\n",
              "      <td>C=C(C)CN1Cc2cccc3[nH]c(=O)n(c23)C(C)C1</td>\n",
              "      <td>inactive</td>\n",
              "      <td>257.337</td>\n",
              "      <td>2.28230</td>\n",
              "      <td>1.0</td>\n",
              "      <td>3.0</td>\n",
              "      <td>32100.00</td>\n",
              "    </tr>\n",
              "    <tr>\n",
              "      <th>4</th>\n",
              "      <td>CHEMBL69775</td>\n",
              "      <td>C=C(C)CN1Cc2cccc3[nH]c(=O)n(c23)C(C(C)C)C1</td>\n",
              "      <td>inactive</td>\n",
              "      <td>285.391</td>\n",
              "      <td>2.91840</td>\n",
              "      <td>1.0</td>\n",
              "      <td>3.0</td>\n",
              "      <td>12600.00</td>\n",
              "    </tr>\n",
              "    <tr>\n",
              "      <th>...</th>\n",
              "      <td>...</td>\n",
              "      <td>...</td>\n",
              "      <td>...</td>\n",
              "      <td>...</td>\n",
              "      <td>...</td>\n",
              "      <td>...</td>\n",
              "      <td>...</td>\n",
              "      <td>...</td>\n",
              "    </tr>\n",
              "    <tr>\n",
              "      <th>9114</th>\n",
              "      <td>CHEMBL57</td>\n",
              "      <td>Cc1ccnc2c1NC(=O)c1cccnc1N2C1CC1</td>\n",
              "      <td>intermediate</td>\n",
              "      <td>266.304</td>\n",
              "      <td>2.65122</td>\n",
              "      <td>1.0</td>\n",
              "      <td>4.0</td>\n",
              "      <td>1550.00</td>\n",
              "    </tr>\n",
              "    <tr>\n",
              "      <th>9115</th>\n",
              "      <td>CHEMBL4636332</td>\n",
              "      <td>Cc1c(NC(=O)COc2ccc(Cl)cc2C(=O)c2cc(F)cc(C(F)(F...</td>\n",
              "      <td>active</td>\n",
              "      <td>527.829</td>\n",
              "      <td>5.89212</td>\n",
              "      <td>2.0</td>\n",
              "      <td>4.0</td>\n",
              "      <td>12.00</td>\n",
              "    </tr>\n",
              "    <tr>\n",
              "      <th>9116</th>\n",
              "      <td>CHEMBL4636332</td>\n",
              "      <td>Cc1c(NC(=O)COc2ccc(Cl)cc2C(=O)c2cc(F)cc(C(F)(F...</td>\n",
              "      <td>active</td>\n",
              "      <td>527.829</td>\n",
              "      <td>5.89212</td>\n",
              "      <td>2.0</td>\n",
              "      <td>4.0</td>\n",
              "      <td>0.76</td>\n",
              "    </tr>\n",
              "    <tr>\n",
              "      <th>9117</th>\n",
              "      <td>CHEMBL4636332</td>\n",
              "      <td>Cc1c(NC(=O)COc2ccc(Cl)cc2C(=O)c2cc(F)cc(C(F)(F...</td>\n",
              "      <td>active</td>\n",
              "      <td>527.829</td>\n",
              "      <td>5.89212</td>\n",
              "      <td>2.0</td>\n",
              "      <td>4.0</td>\n",
              "      <td>2.60</td>\n",
              "    </tr>\n",
              "    <tr>\n",
              "      <th>9118</th>\n",
              "      <td>CHEMBL4641539</td>\n",
              "      <td>CC(C)(C#Cc1ccc(NC(=O)COc2ccccc2C(=O)c2ccccc2)c...</td>\n",
              "      <td>intermediate</td>\n",
              "      <td>475.928</td>\n",
              "      <td>5.05080</td>\n",
              "      <td>2.0</td>\n",
              "      <td>4.0</td>\n",
              "      <td>5053.00</td>\n",
              "    </tr>\n",
              "  </tbody>\n",
              "</table>\n",
              "<p>9119 rows × 8 columns</p>\n",
              "</div>"
            ],
            "text/plain": [
              "     molecule_chembl_id  ... standard_value_norm\n",
              "0          CHEMBL296346  ...            10000.00\n",
              "1          CHEMBL318730  ...              457.09\n",
              "2          CHEMBL303928  ...           100000.00\n",
              "3           CHEMBL68175  ...            32100.00\n",
              "4           CHEMBL69775  ...            12600.00\n",
              "...                 ...  ...                 ...\n",
              "9114           CHEMBL57  ...             1550.00\n",
              "9115      CHEMBL4636332  ...               12.00\n",
              "9116      CHEMBL4636332  ...                0.76\n",
              "9117      CHEMBL4636332  ...                2.60\n",
              "9118      CHEMBL4641539  ...             5053.00\n",
              "\n",
              "[9119 rows x 8 columns]"
            ]
          },
          "metadata": {},
          "execution_count": 17
        }
      ]
    },
    {
      "cell_type": "code",
      "metadata": {
        "id": "hb1eKrIjRiH9",
        "colab": {
          "base_uri": "https://localhost:8080/"
        },
        "outputId": "347a6658-baf8-4dce-c59b-d45da1bf4904"
      },
      "source": [
        "df_norm.standard_value_norm.describe()"
      ],
      "execution_count": null,
      "outputs": [
        {
          "output_type": "execute_result",
          "data": {
            "text/plain": [
              "count    9.119000e+03\n",
              "mean     6.317994e+04\n",
              "std      5.895731e+05\n",
              "min      5.000000e-05\n",
              "25%      1.000000e+02\n",
              "50%      1.000000e+03\n",
              "75%      1.060000e+04\n",
              "max      1.901078e+07\n",
              "Name: standard_value_norm, dtype: float64"
            ]
          },
          "metadata": {},
          "execution_count": 18
        }
      ]
    },
    {
      "cell_type": "code",
      "metadata": {
        "id": "UDKZzmK57YnS",
        "colab": {
          "base_uri": "https://localhost:8080/",
          "height": 419
        },
        "outputId": "33e2bda8-8a41-413e-ddaf-175fd8451deb"
      },
      "source": [
        "df_final = pIC50(df_norm)\n",
        "df_final"
      ],
      "execution_count": null,
      "outputs": [
        {
          "output_type": "execute_result",
          "data": {
            "text/html": [
              "<div>\n",
              "<style scoped>\n",
              "    .dataframe tbody tr th:only-of-type {\n",
              "        vertical-align: middle;\n",
              "    }\n",
              "\n",
              "    .dataframe tbody tr th {\n",
              "        vertical-align: top;\n",
              "    }\n",
              "\n",
              "    .dataframe thead th {\n",
              "        text-align: right;\n",
              "    }\n",
              "</style>\n",
              "<table border=\"1\" class=\"dataframe\">\n",
              "  <thead>\n",
              "    <tr style=\"text-align: right;\">\n",
              "      <th></th>\n",
              "      <th>molecule_chembl_id</th>\n",
              "      <th>canonical_smiles</th>\n",
              "      <th>bioactivity_class</th>\n",
              "      <th>MW</th>\n",
              "      <th>LogP</th>\n",
              "      <th>NumHDonors</th>\n",
              "      <th>NumHAcceptors</th>\n",
              "      <th>pIC50</th>\n",
              "    </tr>\n",
              "  </thead>\n",
              "  <tbody>\n",
              "    <tr>\n",
              "      <th>0</th>\n",
              "      <td>CHEMBL296346</td>\n",
              "      <td>S=C(NCN1CCOCC1)Nc1ccc(Br)cn1</td>\n",
              "      <td>inactive</td>\n",
              "      <td>331.239</td>\n",
              "      <td>1.42020</td>\n",
              "      <td>2.0</td>\n",
              "      <td>4.0</td>\n",
              "      <td>5.000000</td>\n",
              "    </tr>\n",
              "    <tr>\n",
              "      <th>1</th>\n",
              "      <td>CHEMBL318730</td>\n",
              "      <td>CCc1cc(NCc2ccc3ccccc3c2)c(O)nc1C</td>\n",
              "      <td>active</td>\n",
              "      <td>292.382</td>\n",
              "      <td>4.42332</td>\n",
              "      <td>2.0</td>\n",
              "      <td>3.0</td>\n",
              "      <td>6.339998</td>\n",
              "    </tr>\n",
              "    <tr>\n",
              "      <th>2</th>\n",
              "      <td>CHEMBL303928</td>\n",
              "      <td>O=c1[nH]c2c(c(=O)[nH]1)CNc1ccccc1S2</td>\n",
              "      <td>inactive</td>\n",
              "      <td>247.279</td>\n",
              "      <td>1.13990</td>\n",
              "      <td>3.0</td>\n",
              "      <td>4.0</td>\n",
              "      <td>4.000000</td>\n",
              "    </tr>\n",
              "    <tr>\n",
              "      <th>3</th>\n",
              "      <td>CHEMBL68175</td>\n",
              "      <td>C=C(C)CN1Cc2cccc3[nH]c(=O)n(c23)C(C)C1</td>\n",
              "      <td>inactive</td>\n",
              "      <td>257.337</td>\n",
              "      <td>2.28230</td>\n",
              "      <td>1.0</td>\n",
              "      <td>3.0</td>\n",
              "      <td>4.493495</td>\n",
              "    </tr>\n",
              "    <tr>\n",
              "      <th>4</th>\n",
              "      <td>CHEMBL69775</td>\n",
              "      <td>C=C(C)CN1Cc2cccc3[nH]c(=O)n(c23)C(C(C)C)C1</td>\n",
              "      <td>inactive</td>\n",
              "      <td>285.391</td>\n",
              "      <td>2.91840</td>\n",
              "      <td>1.0</td>\n",
              "      <td>3.0</td>\n",
              "      <td>4.899629</td>\n",
              "    </tr>\n",
              "    <tr>\n",
              "      <th>...</th>\n",
              "      <td>...</td>\n",
              "      <td>...</td>\n",
              "      <td>...</td>\n",
              "      <td>...</td>\n",
              "      <td>...</td>\n",
              "      <td>...</td>\n",
              "      <td>...</td>\n",
              "      <td>...</td>\n",
              "    </tr>\n",
              "    <tr>\n",
              "      <th>9114</th>\n",
              "      <td>CHEMBL57</td>\n",
              "      <td>Cc1ccnc2c1NC(=O)c1cccnc1N2C1CC1</td>\n",
              "      <td>intermediate</td>\n",
              "      <td>266.304</td>\n",
              "      <td>2.65122</td>\n",
              "      <td>1.0</td>\n",
              "      <td>4.0</td>\n",
              "      <td>5.809668</td>\n",
              "    </tr>\n",
              "    <tr>\n",
              "      <th>9115</th>\n",
              "      <td>CHEMBL4636332</td>\n",
              "      <td>Cc1c(NC(=O)COc2ccc(Cl)cc2C(=O)c2cc(F)cc(C(F)(F...</td>\n",
              "      <td>active</td>\n",
              "      <td>527.829</td>\n",
              "      <td>5.89212</td>\n",
              "      <td>2.0</td>\n",
              "      <td>4.0</td>\n",
              "      <td>7.920819</td>\n",
              "    </tr>\n",
              "    <tr>\n",
              "      <th>9116</th>\n",
              "      <td>CHEMBL4636332</td>\n",
              "      <td>Cc1c(NC(=O)COc2ccc(Cl)cc2C(=O)c2cc(F)cc(C(F)(F...</td>\n",
              "      <td>active</td>\n",
              "      <td>527.829</td>\n",
              "      <td>5.89212</td>\n",
              "      <td>2.0</td>\n",
              "      <td>4.0</td>\n",
              "      <td>9.119186</td>\n",
              "    </tr>\n",
              "    <tr>\n",
              "      <th>9117</th>\n",
              "      <td>CHEMBL4636332</td>\n",
              "      <td>Cc1c(NC(=O)COc2ccc(Cl)cc2C(=O)c2cc(F)cc(C(F)(F...</td>\n",
              "      <td>active</td>\n",
              "      <td>527.829</td>\n",
              "      <td>5.89212</td>\n",
              "      <td>2.0</td>\n",
              "      <td>4.0</td>\n",
              "      <td>8.585027</td>\n",
              "    </tr>\n",
              "    <tr>\n",
              "      <th>9118</th>\n",
              "      <td>CHEMBL4641539</td>\n",
              "      <td>CC(C)(C#Cc1ccc(NC(=O)COc2ccccc2C(=O)c2ccccc2)c...</td>\n",
              "      <td>intermediate</td>\n",
              "      <td>475.928</td>\n",
              "      <td>5.05080</td>\n",
              "      <td>2.0</td>\n",
              "      <td>4.0</td>\n",
              "      <td>5.296451</td>\n",
              "    </tr>\n",
              "  </tbody>\n",
              "</table>\n",
              "<p>9119 rows × 8 columns</p>\n",
              "</div>"
            ],
            "text/plain": [
              "     molecule_chembl_id  ...     pIC50\n",
              "0          CHEMBL296346  ...  5.000000\n",
              "1          CHEMBL318730  ...  6.339998\n",
              "2          CHEMBL303928  ...  4.000000\n",
              "3           CHEMBL68175  ...  4.493495\n",
              "4           CHEMBL69775  ...  4.899629\n",
              "...                 ...  ...       ...\n",
              "9114           CHEMBL57  ...  5.809668\n",
              "9115      CHEMBL4636332  ...  7.920819\n",
              "9116      CHEMBL4636332  ...  9.119186\n",
              "9117      CHEMBL4636332  ...  8.585027\n",
              "9118      CHEMBL4641539  ...  5.296451\n",
              "\n",
              "[9119 rows x 8 columns]"
            ]
          },
          "metadata": {},
          "execution_count": 19
        }
      ]
    },
    {
      "cell_type": "code",
      "metadata": {
        "id": "BoqY53udSTYC",
        "colab": {
          "base_uri": "https://localhost:8080/"
        },
        "outputId": "dfdf4ce9-e4bb-46e5-c6fb-463ebdee7a20"
      },
      "source": [
        "df_final.pIC50.describe()"
      ],
      "execution_count": null,
      "outputs": [
        {
          "output_type": "execute_result",
          "data": {
            "text/plain": [
              "count    9119.000000\n",
              "mean        5.992181\n",
              "std         1.424656\n",
              "min         1.721000\n",
              "25%         4.974694\n",
              "50%         6.000000\n",
              "75%         7.000000\n",
              "max        13.301030\n",
              "Name: pIC50, dtype: float64"
            ]
          },
          "metadata": {},
          "execution_count": 20
        }
      ]
    },
    {
      "cell_type": "markdown",
      "metadata": {
        "id": "05vHBWvqaQtb"
      },
      "source": [
        "### **Removing the 'intermediate' bioactivity class**\n",
        "Here, we will be removing the ``intermediate`` class from our data set."
      ]
    },
    {
      "cell_type": "code",
      "metadata": {
        "id": "HmrndhDW3c7Z",
        "colab": {
          "base_uri": "https://localhost:8080/",
          "height": 419
        },
        "outputId": "32e7b7c3-74de-4a99-f850-4611215aefb7"
      },
      "source": [
        "df_2class = df_final[df_final.bioactivity_class != 'intermediate']\n",
        "df_2class"
      ],
      "execution_count": null,
      "outputs": [
        {
          "output_type": "execute_result",
          "data": {
            "text/html": [
              "<div>\n",
              "<style scoped>\n",
              "    .dataframe tbody tr th:only-of-type {\n",
              "        vertical-align: middle;\n",
              "    }\n",
              "\n",
              "    .dataframe tbody tr th {\n",
              "        vertical-align: top;\n",
              "    }\n",
              "\n",
              "    .dataframe thead th {\n",
              "        text-align: right;\n",
              "    }\n",
              "</style>\n",
              "<table border=\"1\" class=\"dataframe\">\n",
              "  <thead>\n",
              "    <tr style=\"text-align: right;\">\n",
              "      <th></th>\n",
              "      <th>molecule_chembl_id</th>\n",
              "      <th>canonical_smiles</th>\n",
              "      <th>bioactivity_class</th>\n",
              "      <th>MW</th>\n",
              "      <th>LogP</th>\n",
              "      <th>NumHDonors</th>\n",
              "      <th>NumHAcceptors</th>\n",
              "      <th>pIC50</th>\n",
              "    </tr>\n",
              "  </thead>\n",
              "  <tbody>\n",
              "    <tr>\n",
              "      <th>0</th>\n",
              "      <td>CHEMBL296346</td>\n",
              "      <td>S=C(NCN1CCOCC1)Nc1ccc(Br)cn1</td>\n",
              "      <td>inactive</td>\n",
              "      <td>331.239</td>\n",
              "      <td>1.42020</td>\n",
              "      <td>2.0</td>\n",
              "      <td>4.0</td>\n",
              "      <td>5.000000</td>\n",
              "    </tr>\n",
              "    <tr>\n",
              "      <th>1</th>\n",
              "      <td>CHEMBL318730</td>\n",
              "      <td>CCc1cc(NCc2ccc3ccccc3c2)c(O)nc1C</td>\n",
              "      <td>active</td>\n",
              "      <td>292.382</td>\n",
              "      <td>4.42332</td>\n",
              "      <td>2.0</td>\n",
              "      <td>3.0</td>\n",
              "      <td>6.339998</td>\n",
              "    </tr>\n",
              "    <tr>\n",
              "      <th>2</th>\n",
              "      <td>CHEMBL303928</td>\n",
              "      <td>O=c1[nH]c2c(c(=O)[nH]1)CNc1ccccc1S2</td>\n",
              "      <td>inactive</td>\n",
              "      <td>247.279</td>\n",
              "      <td>1.13990</td>\n",
              "      <td>3.0</td>\n",
              "      <td>4.0</td>\n",
              "      <td>4.000000</td>\n",
              "    </tr>\n",
              "    <tr>\n",
              "      <th>3</th>\n",
              "      <td>CHEMBL68175</td>\n",
              "      <td>C=C(C)CN1Cc2cccc3[nH]c(=O)n(c23)C(C)C1</td>\n",
              "      <td>inactive</td>\n",
              "      <td>257.337</td>\n",
              "      <td>2.28230</td>\n",
              "      <td>1.0</td>\n",
              "      <td>3.0</td>\n",
              "      <td>4.493495</td>\n",
              "    </tr>\n",
              "    <tr>\n",
              "      <th>4</th>\n",
              "      <td>CHEMBL69775</td>\n",
              "      <td>C=C(C)CN1Cc2cccc3[nH]c(=O)n(c23)C(C(C)C)C1</td>\n",
              "      <td>inactive</td>\n",
              "      <td>285.391</td>\n",
              "      <td>2.91840</td>\n",
              "      <td>1.0</td>\n",
              "      <td>3.0</td>\n",
              "      <td>4.899629</td>\n",
              "    </tr>\n",
              "    <tr>\n",
              "      <th>...</th>\n",
              "      <td>...</td>\n",
              "      <td>...</td>\n",
              "      <td>...</td>\n",
              "      <td>...</td>\n",
              "      <td>...</td>\n",
              "      <td>...</td>\n",
              "      <td>...</td>\n",
              "      <td>...</td>\n",
              "    </tr>\n",
              "    <tr>\n",
              "      <th>9112</th>\n",
              "      <td>CHEMBL4637849</td>\n",
              "      <td>CS(=O)(=O)c1ccc(NC(=O)CSc2nnc(N3C(=O)CSC3c3ccc...</td>\n",
              "      <td>inactive</td>\n",
              "      <td>541.101</td>\n",
              "      <td>4.10440</td>\n",
              "      <td>1.0</td>\n",
              "      <td>9.0</td>\n",
              "      <td>4.802719</td>\n",
              "    </tr>\n",
              "    <tr>\n",
              "      <th>9113</th>\n",
              "      <td>CHEMBL4633284</td>\n",
              "      <td>CS(=O)(=O)c1ccc(NC(=O)CSc2nnc(N3C(=O)CSC3c3ccc...</td>\n",
              "      <td>inactive</td>\n",
              "      <td>541.101</td>\n",
              "      <td>4.10440</td>\n",
              "      <td>1.0</td>\n",
              "      <td>9.0</td>\n",
              "      <td>4.404173</td>\n",
              "    </tr>\n",
              "    <tr>\n",
              "      <th>9115</th>\n",
              "      <td>CHEMBL4636332</td>\n",
              "      <td>Cc1c(NC(=O)COc2ccc(Cl)cc2C(=O)c2cc(F)cc(C(F)(F...</td>\n",
              "      <td>active</td>\n",
              "      <td>527.829</td>\n",
              "      <td>5.89212</td>\n",
              "      <td>2.0</td>\n",
              "      <td>4.0</td>\n",
              "      <td>7.920819</td>\n",
              "    </tr>\n",
              "    <tr>\n",
              "      <th>9116</th>\n",
              "      <td>CHEMBL4636332</td>\n",
              "      <td>Cc1c(NC(=O)COc2ccc(Cl)cc2C(=O)c2cc(F)cc(C(F)(F...</td>\n",
              "      <td>active</td>\n",
              "      <td>527.829</td>\n",
              "      <td>5.89212</td>\n",
              "      <td>2.0</td>\n",
              "      <td>4.0</td>\n",
              "      <td>9.119186</td>\n",
              "    </tr>\n",
              "    <tr>\n",
              "      <th>9117</th>\n",
              "      <td>CHEMBL4636332</td>\n",
              "      <td>Cc1c(NC(=O)COc2ccc(Cl)cc2C(=O)c2cc(F)cc(C(F)(F...</td>\n",
              "      <td>active</td>\n",
              "      <td>527.829</td>\n",
              "      <td>5.89212</td>\n",
              "      <td>2.0</td>\n",
              "      <td>4.0</td>\n",
              "      <td>8.585027</td>\n",
              "    </tr>\n",
              "  </tbody>\n",
              "</table>\n",
              "<p>7145 rows × 8 columns</p>\n",
              "</div>"
            ],
            "text/plain": [
              "     molecule_chembl_id  ...     pIC50\n",
              "0          CHEMBL296346  ...  5.000000\n",
              "1          CHEMBL318730  ...  6.339998\n",
              "2          CHEMBL303928  ...  4.000000\n",
              "3           CHEMBL68175  ...  4.493495\n",
              "4           CHEMBL69775  ...  4.899629\n",
              "...                 ...  ...       ...\n",
              "9112      CHEMBL4637849  ...  4.802719\n",
              "9113      CHEMBL4633284  ...  4.404173\n",
              "9115      CHEMBL4636332  ...  7.920819\n",
              "9116      CHEMBL4636332  ...  9.119186\n",
              "9117      CHEMBL4636332  ...  8.585027\n",
              "\n",
              "[7145 rows x 8 columns]"
            ]
          },
          "metadata": {},
          "execution_count": 21
        }
      ]
    },
    {
      "cell_type": "markdown",
      "metadata": {
        "id": "p9vA4-hQQ8sA"
      },
      "source": [
        "---"
      ]
    },
    {
      "cell_type": "markdown",
      "metadata": {
        "id": "x0vqbQWfxsZu"
      },
      "source": [
        "## **Exploratory Data Analysis (Chemical Space Analysis) via Lipinski descriptors**"
      ]
    },
    {
      "cell_type": "markdown",
      "metadata": {
        "id": "18heJagiyHoF"
      },
      "source": [
        "### **Import library**"
      ]
    },
    {
      "cell_type": "code",
      "metadata": {
        "id": "0Egq_rNsxtIj"
      },
      "source": [
        "import seaborn as sns\n",
        "sns.set(style='ticks')\n",
        "import matplotlib.pyplot as plt"
      ],
      "execution_count": null,
      "outputs": []
    },
    {
      "cell_type": "markdown",
      "metadata": {
        "id": "NiarmFbOdG3H"
      },
      "source": [
        "### **Frequency plot of the 2 bioactivity classes**"
      ]
    },
    {
      "cell_type": "code",
      "metadata": {
        "id": "w2Ia0iycdMO2",
        "colab": {
          "base_uri": "https://localhost:8080/",
          "height": 367
        },
        "outputId": "f24251d7-68ad-45e3-bfc3-2edc4d4c9c7d"
      },
      "source": [
        "plt.figure(figsize=(5.5, 5.5))\n",
        "\n",
        "sns.countplot(x='bioactivity_class', data=df_2class, edgecolor='black')\n",
        "\n",
        "plt.xlabel('Bioactivity class', fontsize=14, fontweight='bold')\n",
        "plt.ylabel('Frequency', fontsize=14, fontweight='bold')\n",
        "\n",
        "plt.savefig('plot_bioactivity_class.pdf')"
      ],
      "execution_count": null,
      "outputs": [
        {
          "output_type": "display_data",
          "data": {
            "image/png": "[encoded data removed]",
            "text/plain": [
              "<Figure size 396x396 with 1 Axes>"
            ]
          },
          "metadata": {}
        }
      ]
    },
    {
      "cell_type": "markdown",
      "metadata": {
        "id": "wB68NKVG0j68"
      },
      "source": [
        "### **Scatter plot of MW versus LogP**\n"
      ]
    },
    {
      "cell_type": "code",
      "metadata": {
        "id": "F79BNwjF0nub",
        "colab": {
          "base_uri": "https://localhost:8080/",
          "height": 367
        },
        "outputId": "b74d3dbd-97a0-46e6-d3df-78ac8ac68651"
      },
      "source": [
        "plt.figure(figsize=(5.5, 5.5))\n",
        "\n",
        "sns.scatterplot(x='MW', y='LogP', data=df_2class, hue='bioactivity_class', size='pIC50', edgecolor='black', alpha=0.7)\n",
        "\n",
        "plt.xlabel('MW', fontsize=14, fontweight='bold')\n",
        "plt.ylabel('LogP', fontsize=14, fontweight='bold')\n",
        "plt.legend(bbox_to_anchor=(1.05, 1), loc=2, borderaxespad=0)\n",
        "plt.savefig('plot_MW_vs_LogP.pdf')"
      ],
      "execution_count": null,
      "outputs": [
        {
          "output_type": "display_data",
          "data": {
            "image/png": "[encoded data removed]",
            "text/plain": [
              "<Figure size 396x396 with 1 Axes>"
            ]
          },
          "metadata": {}
        }
      ]
    },
    {
      "cell_type": "markdown",
      "metadata": {
        "id": "oLAfyRwHyJfX"
      },
      "source": [
        "### **Box plots**"
      ]
    },
    {
      "cell_type": "markdown",
      "metadata": {
        "id": "1n1uIAivyOkY"
      },
      "source": [
        "#### **pIC50 value**"
      ]
    },
    {
      "cell_type": "code",
      "metadata": {
        "id": "EpPviw0hxue6",
        "colab": {
          "base_uri": "https://localhost:8080/",
          "height": 367
        },
        "outputId": "e00e620a-1d61-4e67-f466-e69d798ce0c6"
      },
      "source": [
        "plt.figure(figsize=(5.5, 5.5))\n",
        "\n",
        "sns.boxplot(x = 'bioactivity_class', y = 'pIC50', data = df_2class)\n",
        "\n",
        "plt.xlabel('Bioactivity class', fontsize=14, fontweight='bold')\n",
        "plt.ylabel('pIC50 value', fontsize=14, fontweight='bold')\n",
        "\n",
        "plt.savefig('plot_ic50.pdf')"
      ],
      "execution_count": null,
      "outputs": [
        {
          "output_type": "display_data",
          "data": {
            "image/png": "[encoded data removed]",
            "text/plain": [
              "<Figure size 396x396 with 1 Axes>"
            ]
          },
          "metadata": {}
        }
      ]
    },
    {
      "cell_type": "markdown",
      "metadata": {
        "id": "PsOqKyysCZCv"
      },
      "source": [
        "**Statistical analysis | Mann-Whitney U Test**"
      ]
    },
    {
      "cell_type": "code",
      "metadata": {
        "id": "LPdV1vDnWBsh"
      },
      "source": [
        "def mannwhitney(descriptor, verbose=False):\n",
        "  # https://machinelearningmastery.com/nonparametric-statistical-significance-tests-in-python/\n",
        "  from numpy.random import seed\n",
        "  from numpy.random import randn\n",
        "  from scipy.stats import mannwhitneyu\n",
        "\n",
        "# seed the random number generator\n",
        "  seed(1)\n",
        "\n",
        "# actives and inactives\n",
        "  selection = [descriptor, 'bioactivity_class']\n",
        "  df = df_2class[selection]\n",
        "  active = df[df.bioactivity_class == 'active']\n",
        "  active = active[descriptor]\n",
        "\n",
        "  selection = [descriptor, 'bioactivity_class']\n",
        "  df = df_2class[selection]\n",
        "  inactive = df[df.bioactivity_class == 'inactive']\n",
        "  inactive = inactive[descriptor]\n",
        "\n",
        "# compare samples\n",
        "  stat, p = mannwhitneyu(active, inactive)\n",
        "  #print('Statistics=%.3f, p=%.3f' % (stat, p))\n",
        "\n",
        "# interpret\n",
        "  alpha = 0.05\n",
        "  if p > alpha:\n",
        "    interpretation = 'Same distribution (fail to reject H0)'\n",
        "  else:\n",
        "    interpretation = 'Different distribution (reject H0)'\n",
        "  \n",
        "  results = pd.DataFrame({'Descriptor':descriptor,\n",
        "                          'Statistics':stat,\n",
        "                          'p':p,\n",
        "                          'alpha':alpha,\n",
        "                          'Interpretation':interpretation}, index=[0])\n",
        "  filename = 'mannwhitneyu_' + descriptor + '.csv'\n",
        "  results.to_csv(filename)\n",
        "\n",
        "  return results"
      ],
      "execution_count": null,
      "outputs": []
    },
    {
      "cell_type": "code",
      "metadata": {
        "id": "HZmUgOmdYVm5",
        "colab": {
          "base_uri": "https://localhost:8080/",
          "height": 80
        },
        "outputId": "5e762311-f356-4382-f4b8-d47b84caa38b"
      },
      "source": [
        "mannwhitney('pIC50')"
      ],
      "execution_count": null,
      "outputs": [
        {
          "output_type": "execute_result",
          "data": {
            "text/html": [
              "<div>\n",
              "<style scoped>\n",
              "    .dataframe tbody tr th:only-of-type {\n",
              "        vertical-align: middle;\n",
              "    }\n",
              "\n",
              "    .dataframe tbody tr th {\n",
              "        vertical-align: top;\n",
              "    }\n",
              "\n",
              "    .dataframe thead th {\n",
              "        text-align: right;\n",
              "    }\n",
              "</style>\n",
              "<table border=\"1\" class=\"dataframe\">\n",
              "  <thead>\n",
              "    <tr style=\"text-align: right;\">\n",
              "      <th></th>\n",
              "      <th>Descriptor</th>\n",
              "      <th>Statistics</th>\n",
              "      <th>p</th>\n",
              "      <th>alpha</th>\n",
              "      <th>Interpretation</th>\n",
              "    </tr>\n",
              "  </thead>\n",
              "  <tbody>\n",
              "    <tr>\n",
              "      <th>0</th>\n",
              "      <td>pIC50</td>\n",
              "      <td>0.0</td>\n",
              "      <td>0.0</td>\n",
              "      <td>0.05</td>\n",
              "      <td>Different distribution (reject H0)</td>\n",
              "    </tr>\n",
              "  </tbody>\n",
              "</table>\n",
              "</div>"
            ],
            "text/plain": [
              "  Descriptor  Statistics    p  alpha                      Interpretation\n",
              "0      pIC50         0.0  0.0   0.05  Different distribution (reject H0)"
            ]
          },
          "metadata": {},
          "execution_count": 27
        }
      ]
    },
    {
      "cell_type": "markdown",
      "metadata": {
        "id": "o2UlCwPmyTBq"
      },
      "source": [
        "#### **MW**"
      ]
    },
    {
      "cell_type": "code",
      "metadata": {
        "id": "ZNlEEsDEx3m6",
        "colab": {
          "base_uri": "https://localhost:8080/",
          "height": 367
        },
        "outputId": "00893a99-84a4-4630-d114-17868714c6e2"
      },
      "source": [
        "plt.figure(figsize=(5.5, 5.5))\n",
        "\n",
        "sns.boxplot(x = 'bioactivity_class', y = 'MW', data = df_2class)\n",
        "\n",
        "plt.xlabel('Bioactivity class', fontsize=14, fontweight='bold')\n",
        "plt.ylabel('MW', fontsize=14, fontweight='bold')\n",
        "\n",
        "plt.savefig('plot_MW.pdf')"
      ],
      "execution_count": null,
      "outputs": [
        {
          "output_type": "display_data",
          "data": {
            "image/png": "[encoded data removed]",
            "text/plain": [
              "<Figure size 396x396 with 1 Axes>"
            ]
          },
          "metadata": {}
        }
      ]
    },
    {
      "cell_type": "code",
      "metadata": {
        "id": "wRl2FvgHYqaG",
        "colab": {
          "base_uri": "https://localhost:8080/",
          "height": 80
        },
        "outputId": "dd0fc987-0102-44d0-a4d8-d8f8b4c5907d"
      },
      "source": [
        "mannwhitney('MW')"
      ],
      "execution_count": null,
      "outputs": [
        {
          "output_type": "execute_result",
          "data": {
            "text/html": [
              "<div>\n",
              "<style scoped>\n",
              "    .dataframe tbody tr th:only-of-type {\n",
              "        vertical-align: middle;\n",
              "    }\n",
              "\n",
              "    .dataframe tbody tr th {\n",
              "        vertical-align: top;\n",
              "    }\n",
              "\n",
              "    .dataframe thead th {\n",
              "        text-align: right;\n",
              "    }\n",
              "</style>\n",
              "<table border=\"1\" class=\"dataframe\">\n",
              "  <thead>\n",
              "    <tr style=\"text-align: right;\">\n",
              "      <th></th>\n",
              "      <th>Descriptor</th>\n",
              "      <th>Statistics</th>\n",
              "      <th>p</th>\n",
              "      <th>alpha</th>\n",
              "      <th>Interpretation</th>\n",
              "    </tr>\n",
              "  </thead>\n",
              "  <tbody>\n",
              "    <tr>\n",
              "      <th>0</th>\n",
              "      <td>MW</td>\n",
              "      <td>5172816.0</td>\n",
              "      <td>7.189455e-13</td>\n",
              "      <td>0.05</td>\n",
              "      <td>Different distribution (reject H0)</td>\n",
              "    </tr>\n",
              "  </tbody>\n",
              "</table>\n",
              "</div>"
            ],
            "text/plain": [
              "  Descriptor  Statistics  ...  alpha                      Interpretation\n",
              "0         MW   5172816.0  ...   0.05  Different distribution (reject H0)\n",
              "\n",
              "[1 rows x 5 columns]"
            ]
          },
          "metadata": {},
          "execution_count": 29
        }
      ]
    },
    {
      "cell_type": "markdown",
      "metadata": {
        "id": "z5hyBhGqyc6J"
      },
      "source": [
        "#### **LogP**"
      ]
    },
    {
      "cell_type": "code",
      "metadata": {
        "id": "liEtkpI4yX9t",
        "colab": {
          "base_uri": "https://localhost:8080/",
          "height": 367
        },
        "outputId": "c4aac8e8-457e-4939-f37f-c63fd72b7fea"
      },
      "source": [
        "plt.figure(figsize=(5.5, 5.5))\n",
        "\n",
        "sns.boxplot(x = 'bioactivity_class', y = 'LogP', data = df_2class)\n",
        "\n",
        "plt.xlabel('Bioactivity class', fontsize=14, fontweight='bold')\n",
        "plt.ylabel('LogP', fontsize=14, fontweight='bold')\n",
        "\n",
        "plt.savefig('plot_LogP.pdf')"
      ],
      "execution_count": null,
      "outputs": [
        {
          "output_type": "display_data",
          "data": {
            "image/png": "[encoded data removed]",
            "text/plain": [
              "<Figure size 396x396 with 1 Axes>"
            ]
          },
          "metadata": {}
        }
      ]
    },
    {
      "cell_type": "markdown",
      "metadata": {
        "id": "2KgV5v_oFLXh"
      },
      "source": [
        "**Statistical analysis | Mann-Whitney U Test**"
      ]
    },
    {
      "cell_type": "code",
      "metadata": {
        "id": "B61UsGMIFLuE",
        "colab": {
          "base_uri": "https://localhost:8080/",
          "height": 80
        },
        "outputId": "3ed1b21a-d8b4-4b63-ec3b-b51c30594a56"
      },
      "source": [
        "mannwhitney('LogP')"
      ],
      "execution_count": null,
      "outputs": [
        {
          "output_type": "execute_result",
          "data": {
            "text/html": [
              "<div>\n",
              "<style scoped>\n",
              "    .dataframe tbody tr th:only-of-type {\n",
              "        vertical-align: middle;\n",
              "    }\n",
              "\n",
              "    .dataframe tbody tr th {\n",
              "        vertical-align: top;\n",
              "    }\n",
              "\n",
              "    .dataframe thead th {\n",
              "        text-align: right;\n",
              "    }\n",
              "</style>\n",
              "<table border=\"1\" class=\"dataframe\">\n",
              "  <thead>\n",
              "    <tr style=\"text-align: right;\">\n",
              "      <th></th>\n",
              "      <th>Descriptor</th>\n",
              "      <th>Statistics</th>\n",
              "      <th>p</th>\n",
              "      <th>alpha</th>\n",
              "      <th>Interpretation</th>\n",
              "    </tr>\n",
              "  </thead>\n",
              "  <tbody>\n",
              "    <tr>\n",
              "      <th>0</th>\n",
              "      <td>LogP</td>\n",
              "      <td>4296277.0</td>\n",
              "      <td>3.965389e-70</td>\n",
              "      <td>0.05</td>\n",
              "      <td>Different distribution (reject H0)</td>\n",
              "    </tr>\n",
              "  </tbody>\n",
              "</table>\n",
              "</div>"
            ],
            "text/plain": [
              "  Descriptor  Statistics  ...  alpha                      Interpretation\n",
              "0       LogP   4296277.0  ...   0.05  Different distribution (reject H0)\n",
              "\n",
              "[1 rows x 5 columns]"
            ]
          },
          "metadata": {},
          "execution_count": 31
        }
      ]
    },
    {
      "cell_type": "markdown",
      "metadata": {
        "id": "4db7LZLRym2k"
      },
      "source": [
        "#### **NumHDonors**"
      ]
    },
    {
      "cell_type": "code",
      "metadata": {
        "id": "iru1JPM1yg5A",
        "colab": {
          "base_uri": "https://localhost:8080/",
          "height": 367
        },
        "outputId": "d994a43c-c5ac-4c78-d450-d28aa0a17b03"
      },
      "source": [
        "plt.figure(figsize=(5.5, 5.5))\n",
        "\n",
        "sns.boxplot(x = 'bioactivity_class', y = 'NumHDonors', data = df_2class)\n",
        "\n",
        "plt.xlabel('Bioactivity class', fontsize=14, fontweight='bold')\n",
        "plt.ylabel('NumHDonors', fontsize=14, fontweight='bold')\n",
        "\n",
        "plt.savefig('plot_NumHDonors.pdf')"
      ],
      "execution_count": null,
      "outputs": [
        {
          "output_type": "display_data",
          "data": {
            "image/png": "[encoded data removed]",
            "text/plain": [
              "<Figure size 396x396 with 1 Axes>"
            ]
          },
          "metadata": {}
        }
      ]
    },
    {
      "cell_type": "markdown",
      "metadata": {
        "id": "vM5vZWanFe3c"
      },
      "source": [
        "**Statistical analysis | Mann-Whitney U Test**"
      ]
    },
    {
      "cell_type": "code",
      "metadata": {
        "id": "mS-rOqq7Fd1E",
        "colab": {
          "base_uri": "https://localhost:8080/",
          "height": 80
        },
        "outputId": "923fd451-9e81-4fd2-9001-2da68a4dac61"
      },
      "source": [
        "mannwhitney('NumHDonors')"
      ],
      "execution_count": null,
      "outputs": [
        {
          "output_type": "execute_result",
          "data": {
            "text/html": [
              "<div>\n",
              "<style scoped>\n",
              "    .dataframe tbody tr th:only-of-type {\n",
              "        vertical-align: middle;\n",
              "    }\n",
              "\n",
              "    .dataframe tbody tr th {\n",
              "        vertical-align: top;\n",
              "    }\n",
              "\n",
              "    .dataframe thead th {\n",
              "        text-align: right;\n",
              "    }\n",
              "</style>\n",
              "<table border=\"1\" class=\"dataframe\">\n",
              "  <thead>\n",
              "    <tr style=\"text-align: right;\">\n",
              "      <th></th>\n",
              "      <th>Descriptor</th>\n",
              "      <th>Statistics</th>\n",
              "      <th>p</th>\n",
              "      <th>alpha</th>\n",
              "      <th>Interpretation</th>\n",
              "    </tr>\n",
              "  </thead>\n",
              "  <tbody>\n",
              "    <tr>\n",
              "      <th>0</th>\n",
              "      <td>NumHDonors</td>\n",
              "      <td>5596232.0</td>\n",
              "      <td>0.019441</td>\n",
              "      <td>0.05</td>\n",
              "      <td>Different distribution (reject H0)</td>\n",
              "    </tr>\n",
              "  </tbody>\n",
              "</table>\n",
              "</div>"
            ],
            "text/plain": [
              "   Descriptor  Statistics         p  alpha                      Interpretation\n",
              "0  NumHDonors   5596232.0  0.019441   0.05  Different distribution (reject H0)"
            ]
          },
          "metadata": {},
          "execution_count": 33
        }
      ]
    },
    {
      "cell_type": "markdown",
      "metadata": {
        "id": "yOYQ3QiSyu7-"
      },
      "source": [
        "#### **NumHAcceptors**"
      ]
    },
    {
      "cell_type": "code",
      "metadata": {
        "id": "yCw6tgNCyxHf",
        "colab": {
          "base_uri": "https://localhost:8080/",
          "height": 367
        },
        "outputId": "2cf059ab-bde6-4fb3-b080-9fb8b40a3e13"
      },
      "source": [
        "plt.figure(figsize=(5.5, 5.5))\n",
        "\n",
        "sns.boxplot(x = 'bioactivity_class', y = 'NumHAcceptors', data = df_2class)\n",
        "\n",
        "plt.xlabel('Bioactivity class', fontsize=14, fontweight='bold')\n",
        "plt.ylabel('NumHAcceptors', fontsize=14, fontweight='bold')\n",
        "\n",
        "plt.savefig('plot_NumHAcceptors.pdf')"
      ],
      "execution_count": null,
      "outputs": [
        {
          "output_type": "display_data",
          "data": {
            "image/png": "[encoded data removed]",
            "text/plain": [
              "<Figure size 396x396 with 1 Axes>"
            ]
          },
          "metadata": {}
        }
      ]
    },
    {
      "cell_type": "code",
      "metadata": {
        "id": "NEQoDZctFtGG",
        "colab": {
          "base_uri": "https://localhost:8080/",
          "height": 80
        },
        "outputId": "b7bacd2d-4c28-4d8f-c975-f50d850d06a5"
      },
      "source": [
        "mannwhitney('NumHAcceptors')"
      ],
      "execution_count": null,
      "outputs": [
        {
          "output_type": "execute_result",
          "data": {
            "text/html": [
              "<div>\n",
              "<style scoped>\n",
              "    .dataframe tbody tr th:only-of-type {\n",
              "        vertical-align: middle;\n",
              "    }\n",
              "\n",
              "    .dataframe tbody tr th {\n",
              "        vertical-align: top;\n",
              "    }\n",
              "\n",
              "    .dataframe thead th {\n",
              "        text-align: right;\n",
              "    }\n",
              "</style>\n",
              "<table border=\"1\" class=\"dataframe\">\n",
              "  <thead>\n",
              "    <tr style=\"text-align: right;\">\n",
              "      <th></th>\n",
              "      <th>Descriptor</th>\n",
              "      <th>Statistics</th>\n",
              "      <th>p</th>\n",
              "      <th>alpha</th>\n",
              "      <th>Interpretation</th>\n",
              "    </tr>\n",
              "  </thead>\n",
              "  <tbody>\n",
              "    <tr>\n",
              "      <th>0</th>\n",
              "      <td>NumHAcceptors</td>\n",
              "      <td>5503648.0</td>\n",
              "      <td>0.000879</td>\n",
              "      <td>0.05</td>\n",
              "      <td>Different distribution (reject H0)</td>\n",
              "    </tr>\n",
              "  </tbody>\n",
              "</table>\n",
              "</div>"
            ],
            "text/plain": [
              "      Descriptor  Statistics  ...  alpha                      Interpretation\n",
              "0  NumHAcceptors   5503648.0  ...   0.05  Different distribution (reject H0)\n",
              "\n",
              "[1 rows x 5 columns]"
            ]
          },
          "metadata": {},
          "execution_count": 35
        }
      ]
    },
    {
      "cell_type": "markdown",
      "metadata": {
        "id": "p4QjdHVjKYum"
      },
      "source": [
        "#### **Interpretation of Statistical Results**"
      ]
    },
    {
      "cell_type": "markdown",
      "metadata": {
        "id": "mSoOBIqfLbDs"
      },
      "source": [
        "##### **Box Plots**\n",
        "\n",
        "###### **pIC50 values**\n",
        "\n",
        "Taking a look at pIC50 values, the **actives** and **inactives** displayed ***statistically significant difference***, which is to be expected since threshold values (``IC50 < 1,000 nM = Actives while IC50 > 10,000 nM = Inactives``, corresponding to ``pIC50 > 6 = Actives and pIC50 < 5 = Inactives``) were used to define actives and inactives.\n",
        "\n",
        "###### **Lipinski's descriptors**\n",
        "\n",
        "All 4 Lipinski's descriptors show ***statistically significant difference*** between **actives** and **inactives**."
      ]
    },
    {
      "cell_type": "markdown",
      "metadata": {
        "id": "PDeC-bU_s_x_"
      },
      "source": [
        "# Download CSV of df_combined (bioactivity data + lipinski + pIC50)"
      ]
    },
    {
      "cell_type": "code",
      "metadata": {
        "colab": {
          "base_uri": "https://localhost:8080/"
        },
        "id": "DIx7li38vMUI",
        "outputId": "cecf43c2-2764-418b-8ce3-b61444c73711"
      },
      "source": [
        "! ls -l"
      ],
      "execution_count": null,
      "outputs": [
        {
          "output_type": "stream",
          "name": "stdout",
          "text": [
            "total 85012\n",
            "-rw-r--r-- 1 root root   732893 Oct 31 03:06 bioactivity_preprocessed_data_HIVrtranscriptase.csv\n",
            "-rw-r--r-- 1 root root      125 Oct 31 03:08 mannwhitneyu_LogP.csv\n",
            "-rw-r--r-- 1 root root      123 Oct 31 03:08 mannwhitneyu_MW.csv\n",
            "-rw-r--r-- 1 root root      134 Oct 31 03:08 mannwhitneyu_NumHAcceptors.csv\n",
            "-rw-r--r-- 1 root root      130 Oct 31 03:08 mannwhitneyu_NumHDonors.csv\n",
            "-rw-r--r-- 1 root root      102 Oct 31 03:08 mannwhitneyu_pIC50.csv\n",
            "-rwxr-xr-x 1 root root 85055499 Mar 11  2020 Miniconda3-py37_4.8.2-Linux-x86_64.sh\n",
            "-rw-r--r-- 1 root root    13410 Oct 31 03:07 plot_bioactivity_class.pdf\n",
            "-rw-r--r-- 1 root root    16018 Oct 31 03:07 plot_ic50.pdf\n",
            "-rw-r--r-- 1 root root    15704 Oct 31 03:08 plot_LogP.pdf\n",
            "-rw-r--r-- 1 root root    14519 Oct 31 03:08 plot_MW.pdf\n",
            "-rw-r--r-- 1 root root  1133519 Oct 31 03:07 plot_MW_vs_LogP.pdf\n",
            "-rw-r--r-- 1 root root    15541 Oct 31 03:08 plot_NumHAcceptors.pdf\n",
            "-rw-r--r-- 1 root root    15626 Oct 31 03:08 plot_NumHDonors.pdf\n",
            "drwxr-xr-x 1 root root     4096 Oct 26 13:34 sample_data\n"
          ]
        }
      ]
    },
    {
      "cell_type": "code",
      "metadata": {
        "colab": {
          "base_uri": "https://localhost:8080/"
        },
        "id": "uSUdeWMlvur-",
        "outputId": "a82a47da-49b3-474c-ad6a-36562c04d96c"
      },
      "source": [
        "from google.colab import drive\n",
        "drive.mount('/content/gdrive/', force_remount=True)"
      ],
      "execution_count": null,
      "outputs": [
        {
          "output_type": "stream",
          "name": "stdout",
          "text": [
            "Mounted at /content/gdrive/\n"
          ]
        }
      ]
    },
    {
      "cell_type": "code",
      "metadata": {
        "id": "NOEGVIcRv5RI"
      },
      "source": [
        "df_2class.to_csv('bioactivity_HIVrtranscriptase_lipinski_pIC50_combined.csv')\n",
        "! cp bioactivity_HIVrtranscriptase_lipinski_pIC50_combined.csv \"/content/gdrive/My Drive/Colab Notebooks/dataHIVrtranscriptase\""
      ],
      "execution_count": null,
      "outputs": []
    },
    {
      "cell_type": "code",
      "metadata": {
        "colab": {
          "base_uri": "https://localhost:8080/"
        },
        "id": "ZHYtSF8kvaR_",
        "outputId": "25be433c-a2b2-4f22-9244-398bd0cac2d7"
      },
      "source": [
        "! ls \"/content/gdrive/My Drive/Colab Notebooks/dataHIVrtranscriptase\""
      ],
      "execution_count": null,
      "outputs": [
        {
          "output_type": "stream",
          "name": "stdout",
          "text": [
            "bioactivity_data_HIVrtranscriptase.csv\n",
            "bioactivity_HIVrtranscriptase_lipinski_pIC50_combined.csv\n",
            "bioactivity_preprocessed_data_HIVrtranscriptase.csv\n"
          ]
        }
      ]
    },
    {
      "cell_type": "markdown",
      "metadata": {
        "id": "U-rK8l0wWnKK"
      },
      "source": [
        "## **Zip files**"
      ]
    },
    {
      "cell_type": "code",
      "metadata": {
        "id": "GW1ZSsfJWqbM",
        "colab": {
          "base_uri": "https://localhost:8080/"
        },
        "outputId": "799383a3-97c2-4635-d9dd-adcdf3c7e91d"
      },
      "source": [
        "! zip -r results.zip . -i *.csv *.pdf"
      ],
      "execution_count": null,
      "outputs": [
        {
          "output_type": "stream",
          "name": "stdout",
          "text": [
            "  adding: plot_NumHDonors.pdf (deflated 37%)\n",
            "  adding: bioactivity_preprocessed_data_HIVrtranscriptase.csv (deflated 86%)\n",
            "  adding: plot_MW.pdf (deflated 35%)\n",
            "  adding: plot_LogP.pdf (deflated 33%)\n",
            "  adding: mannwhitneyu_pIC50.csv (deflated 14%)\n",
            "  adding: mannwhitneyu_NumHDonors.csv (deflated 11%)\n",
            "  adding: bioactivity_HIVrtranscriptase_lipinski_pIC50_combined.csv (deflated 82%)\n",
            "  adding: plot_bioactivity_class.pdf (deflated 39%)\n",
            "  adding: mannwhitneyu_MW.csv (deflated 9%)\n",
            "  adding: plot_NumHAcceptors.pdf (deflated 36%)\n",
            "  adding: mannwhitneyu_LogP.csv (deflated 9%)\n",
            "  adding: plot_MW_vs_LogP.pdf (deflated 1%)\n",
            "  adding: mannwhitneyu_NumHAcceptors.csv (deflated 12%)\n",
            "  adding: plot_ic50.pdf (deflated 35%)\n"
          ]
        }
      ]
    },
    {
      "cell_type": "code",
      "metadata": {
        "id": "LMWOG2UIXEg-"
      },
      "source": [
        ""
      ],
      "execution_count": null,
      "outputs": []
    }
  ]
}