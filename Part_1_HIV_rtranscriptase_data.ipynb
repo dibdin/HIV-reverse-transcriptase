{
  "nbformat": 4,
  "nbformat_minor": 0,
  "metadata": {
    "colab": {
      "name": "ML-Part-1-HIV rtranscriptase-data.ipynb",
      "provenance": [],
      "collapsed_sections": [],
      "include_colab_link": true
    },
    "kernelspec": {
      "display_name": "Python 3",
      "name": "python3"
    }
  },
  "cells": [
    {
      "cell_type": "markdown",
      "metadata": {
        "id": "view-in-github",
        "colab_type": "text"
      },
      "source": [
        "<a href=\"https://colab.research.google.com/github/dibdin/HIV-reverse-transcriptase/blob/code/Part_1_HIV_rtranscriptase_data.ipynb\" target=\"_parent\"><img src=\"https://colab.research.google.com/assets/colab-badge.svg\" alt=\"Open In Colab\"/></a>"
      ]
    },
    {
      "cell_type": "markdown",
      "metadata": {
        "id": "wSFbIMb87cHu"
      },
      "source": [
        "# **Repurposing cheap drugs for HIV**\n",
        "\n",
        "original code credit: Chanin Nantasenamat\n",
        "\n",
        "[*'Data Professor' YouTube channel*](http://youtube.com/dataprofessor)\n",
        "\n",
        "In part 1, we will obtain data on small molecules associated with the reverse transcriptase target on HIV and assigning active, intermediate, and inactive classes. \n",
        "\n",
        "---"
      ]
    },
    {
      "cell_type": "markdown",
      "metadata": {
        "id": "3iQiERxumDor"
      },
      "source": [
        "## **ChEMBL Database**\n",
        "\n",
        "The [*ChEMBL Database*](https://www.ebi.ac.uk/chembl/) is a database that contains curated bioactivity data of more than 2 million compounds. It is compiled from more than 76,000 documents, 1.2 million assays and the data spans 13,000 targets and 1,800 cells and 33,000 indications.\n",
        "[Data as of March 25, 2020; ChEMBL version 26]."
      ]
    },
    {
      "cell_type": "markdown",
      "metadata": {
        "id": "iryGAwAIQ4yf"
      },
      "source": [
        "## **Installing libraries**"
      ]
    },
    {
      "cell_type": "markdown",
      "metadata": {
        "id": "toGT1U_B7F2i"
      },
      "source": [
        "Install the ChEMBL web service package so that we can retrieve bioactivity data from the ChEMBL Database."
      ]
    },
    {
      "cell_type": "code",
      "metadata": {
        "colab": {
          "base_uri": "https://localhost:8080/"
        },
        "id": "cJGExHQBfLh7",
        "outputId": "4c49ad2b-3ee0-41ee-fae4-07a175483e05"
      },
      "source": [
        "! pip install chembl_webresource_client"
      ],
      "execution_count": null,
      "outputs": [
        {
          "output_type": "stream",
          "name": "stdout",
          "text": [
            "Collecting chembl_webresource_client\n",
            "  Downloading chembl_webresource_client-0.10.7-py3-none-any.whl (55 kB)\n",
            "\u001b[?25l\r\u001b[K     |██████                          | 10 kB 26.6 MB/s eta 0:00:01\r\u001b[K     |███████████▉                    | 20 kB 25.9 MB/s eta 0:00:01\r\u001b[K     |█████████████████▊              | 30 kB 12.8 MB/s eta 0:00:01\r\u001b[K     |███████████████████████▋        | 40 kB 6.0 MB/s eta 0:00:01\r\u001b[K     |█████████████████████████████▌  | 51 kB 7.0 MB/s eta 0:00:01\r\u001b[K     |████████████████████████████████| 55 kB 2.8 MB/s \n",
            "\u001b[?25hCollecting requests-cache~=0.7.0\n",
            "  Downloading requests_cache-0.7.5-py3-none-any.whl (39 kB)\n",
            "Requirement already satisfied: urllib3 in /usr/local/lib/python3.7/dist-packages (from chembl_webresource_client) (1.24.3)\n",
            "Requirement already satisfied: easydict in /usr/local/lib/python3.7/dist-packages (from chembl_webresource_client) (1.9)\n",
            "Requirement already satisfied: requests>=2.18.4 in /usr/local/lib/python3.7/dist-packages (from chembl_webresource_client) (2.23.0)\n",
            "Requirement already satisfied: idna<3,>=2.5 in /usr/local/lib/python3.7/dist-packages (from requests>=2.18.4->chembl_webresource_client) (2.10)\n",
            "Requirement already satisfied: certifi>=2017.4.17 in /usr/local/lib/python3.7/dist-packages (from requests>=2.18.4->chembl_webresource_client) (2021.5.30)\n",
            "Requirement already satisfied: chardet<4,>=3.0.2 in /usr/local/lib/python3.7/dist-packages (from requests>=2.18.4->chembl_webresource_client) (3.0.4)\n",
            "Collecting pyyaml>=5.4\n",
            "  Downloading PyYAML-6.0-cp37-cp37m-manylinux_2_5_x86_64.manylinux1_x86_64.manylinux_2_12_x86_64.manylinux2010_x86_64.whl (596 kB)\n",
            "\u001b[K     |████████████████████████████████| 596 kB 14.3 MB/s \n",
            "\u001b[?25hRequirement already satisfied: attrs<22.0,>=21.2 in /usr/local/lib/python3.7/dist-packages (from requests-cache~=0.7.0->chembl_webresource_client) (21.2.0)\n",
            "Collecting itsdangerous>=2.0.1\n",
            "  Downloading itsdangerous-2.0.1-py3-none-any.whl (18 kB)\n",
            "Collecting url-normalize<2.0,>=1.4\n",
            "  Downloading url_normalize-1.4.3-py2.py3-none-any.whl (6.8 kB)\n",
            "Requirement already satisfied: six in /usr/local/lib/python3.7/dist-packages (from url-normalize<2.0,>=1.4->requests-cache~=0.7.0->chembl_webresource_client) (1.15.0)\n",
            "Installing collected packages: url-normalize, pyyaml, itsdangerous, requests-cache, chembl-webresource-client\n",
            "  Attempting uninstall: pyyaml\n",
            "    Found existing installation: PyYAML 3.13\n",
            "    Uninstalling PyYAML-3.13:\n",
            "      Successfully uninstalled PyYAML-3.13\n",
            "  Attempting uninstall: itsdangerous\n",
            "    Found existing installation: itsdangerous 1.1.0\n",
            "    Uninstalling itsdangerous-1.1.0:\n",
            "      Successfully uninstalled itsdangerous-1.1.0\n",
            "\u001b[31mERROR: pip's dependency resolver does not currently take into account all the packages that are installed. This behaviour is the source of the following dependency conflicts.\n",
            "flask 1.1.4 requires itsdangerous<2.0,>=0.24, but you have itsdangerous 2.0.1 which is incompatible.\u001b[0m\n",
            "Successfully installed chembl-webresource-client-0.10.7 itsdangerous-2.0.1 pyyaml-6.0 requests-cache-0.7.5 url-normalize-1.4.3\n"
          ]
        }
      ]
    },
    {
      "cell_type": "markdown",
      "metadata": {
        "id": "J0kJjL8gb5nX"
      },
      "source": [
        "## **Importing libraries**"
      ]
    },
    {
      "cell_type": "code",
      "metadata": {
        "id": "RXoCvMPPfNrv"
      },
      "source": [
        "# Import necessary libraries\n",
        "import pandas as pd\n",
        "from chembl_webresource_client.new_client import new_client"
      ],
      "execution_count": null,
      "outputs": []
    },
    {
      "cell_type": "markdown",
      "metadata": {
        "id": "1FgUai1bfigC"
      },
      "source": [
        "## **Search for Target protein**"
      ]
    },
    {
      "cell_type": "markdown",
      "metadata": {
        "id": "7lBsDrD0gAqH"
      },
      "source": [
        "### **Target search for HIV reverse transcriptase**"
      ]
    },
    {
      "cell_type": "code",
      "metadata": {
        "id": "Vxtp79so4ZjF",
        "colab": {
          "base_uri": "https://localhost:8080/",
          "height": 1000
        },
        "outputId": "398b45c3-535a-452a-f659-36b3e6a82caf"
      },
      "source": [
        "# Target search for HIV\n",
        "target = new_client.target\n",
        "target_query = target.search('HIV reverse transcriptase')\n",
        "targets = pd.DataFrame.from_dict(target_query)\n",
        "targets"
      ],
      "execution_count": null,
      "outputs": [
        {
          "output_type": "execute_result",
          "data": {
            "text/html": [
              "<div>\n",
              "<style scoped>\n",
              "    .dataframe tbody tr th:only-of-type {\n",
              "        vertical-align: middle;\n",
              "    }\n",
              "\n",
              "    .dataframe tbody tr th {\n",
              "        vertical-align: top;\n",
              "    }\n",
              "\n",
              "    .dataframe thead th {\n",
              "        text-align: right;\n",
              "    }\n",
              "</style>\n",
              "<table border=\"1\" class=\"dataframe\">\n",
              "  <thead>\n",
              "    <tr style=\"text-align: right;\">\n",
              "      <th></th>\n",
              "      <th>cross_references</th>\n",
              "      <th>organism</th>\n",
              "      <th>pref_name</th>\n",
              "      <th>score</th>\n",
              "      <th>species_group_flag</th>\n",
              "      <th>target_chembl_id</th>\n",
              "      <th>target_components</th>\n",
              "      <th>target_type</th>\n",
              "      <th>tax_id</th>\n",
              "    </tr>\n",
              "  </thead>\n",
              "  <tbody>\n",
              "    <tr>\n",
              "      <th>0</th>\n",
              "      <td>[]</td>\n",
              "      <td>Human immunodeficiency virus 2</td>\n",
              "      <td>Reverse transcriptase</td>\n",
              "      <td>36.0</td>\n",
              "      <td>False</td>\n",
              "      <td>CHEMBL1681630</td>\n",
              "      <td>[{'accession': 'Q06347', 'component_descriptio...</td>\n",
              "      <td>SINGLE PROTEIN</td>\n",
              "      <td>11709</td>\n",
              "    </tr>\n",
              "    <tr>\n",
              "      <th>1</th>\n",
              "      <td>[]</td>\n",
              "      <td>Moloney murine leukemia virus</td>\n",
              "      <td>Reverse transcriptase</td>\n",
              "      <td>33.0</td>\n",
              "      <td>False</td>\n",
              "      <td>CHEMBL4523944</td>\n",
              "      <td>[{'accession': 'Q83371', 'component_descriptio...</td>\n",
              "      <td>SINGLE PROTEIN</td>\n",
              "      <td>11801</td>\n",
              "    </tr>\n",
              "    <tr>\n",
              "      <th>2</th>\n",
              "      <td>[{'xref_id': 'Q72547', 'xref_name': None, 'xre...</td>\n",
              "      <td>Human immunodeficiency virus 1</td>\n",
              "      <td>Human immunodeficiency virus type 1 reverse tr...</td>\n",
              "      <td>30.0</td>\n",
              "      <td>False</td>\n",
              "      <td>CHEMBL247</td>\n",
              "      <td>[{'accession': 'Q72547', 'component_descriptio...</td>\n",
              "      <td>SINGLE PROTEIN</td>\n",
              "      <td>11676</td>\n",
              "    </tr>\n",
              "    <tr>\n",
              "      <th>3</th>\n",
              "      <td>[{'xref_id': 'O14746', 'xref_name': None, 'xre...</td>\n",
              "      <td>Homo sapiens</td>\n",
              "      <td>Telomerase reverse transcriptase</td>\n",
              "      <td>30.0</td>\n",
              "      <td>False</td>\n",
              "      <td>CHEMBL2916</td>\n",
              "      <td>[{'accession': 'O14746', 'component_descriptio...</td>\n",
              "      <td>SINGLE PROTEIN</td>\n",
              "      <td>9606</td>\n",
              "    </tr>\n",
              "    <tr>\n",
              "      <th>4</th>\n",
              "      <td>[]</td>\n",
              "      <td>Rattus norvegicus</td>\n",
              "      <td>Telomerase reverse transcriptase</td>\n",
              "      <td>30.0</td>\n",
              "      <td>False</td>\n",
              "      <td>CHEMBL3108654</td>\n",
              "      <td>[{'accession': 'Q673L6', 'component_descriptio...</td>\n",
              "      <td>SINGLE PROTEIN</td>\n",
              "      <td>10116</td>\n",
              "    </tr>\n",
              "    <tr>\n",
              "      <th>5</th>\n",
              "      <td>[{'xref_id': 'P88142', 'xref_name': None, 'xre...</td>\n",
              "      <td>Human immunodeficiency virus 2</td>\n",
              "      <td>Human immunodeficiency virus type 2 pol protein</td>\n",
              "      <td>26.0</td>\n",
              "      <td>False</td>\n",
              "      <td>CHEMBL5074</td>\n",
              "      <td>[{'accession': 'P88142', 'component_descriptio...</td>\n",
              "      <td>SINGLE PROTEIN</td>\n",
              "      <td>11709</td>\n",
              "    </tr>\n",
              "    <tr>\n",
              "      <th>6</th>\n",
              "      <td>[]</td>\n",
              "      <td>Hepatitis B virus</td>\n",
              "      <td>DNA polymerase/reverse transcriptase</td>\n",
              "      <td>23.0</td>\n",
              "      <td>False</td>\n",
              "      <td>CHEMBL2362994</td>\n",
              "      <td>[{'accession': 'Q9IF40', 'component_descriptio...</td>\n",
              "      <td>SINGLE PROTEIN</td>\n",
              "      <td>10407</td>\n",
              "    </tr>\n",
              "    <tr>\n",
              "      <th>7</th>\n",
              "      <td>[]</td>\n",
              "      <td>Rous sarcoma virus (strain Prague C) (RSV-PrC)</td>\n",
              "      <td>Rous sarcoma virus integrase</td>\n",
              "      <td>21.0</td>\n",
              "      <td>False</td>\n",
              "      <td>CHEMBL2750</td>\n",
              "      <td>[{'accession': 'P03354', 'component_descriptio...</td>\n",
              "      <td>SINGLE PROTEIN</td>\n",
              "      <td>11888</td>\n",
              "    </tr>\n",
              "    <tr>\n",
              "      <th>8</th>\n",
              "      <td>[{'xref_id': 'P03359', 'xref_name': None, 'xre...</td>\n",
              "      <td>Woolly monkey sarcoma virus</td>\n",
              "      <td>Simian sarcoma virus Pol protein</td>\n",
              "      <td>17.0</td>\n",
              "      <td>False</td>\n",
              "      <td>CHEMBL2983</td>\n",
              "      <td>[{'accession': 'P03359', 'component_descriptio...</td>\n",
              "      <td>SINGLE PROTEIN</td>\n",
              "      <td>11970</td>\n",
              "    </tr>\n",
              "    <tr>\n",
              "      <th>9</th>\n",
              "      <td>[]</td>\n",
              "      <td>Moloney murine leukemia virus isolate Shinnick</td>\n",
              "      <td>Moloney murine leukaemia virus Pol protein</td>\n",
              "      <td>16.0</td>\n",
              "      <td>False</td>\n",
              "      <td>CHEMBL3562</td>\n",
              "      <td>[{'accession': 'P03355', 'component_descriptio...</td>\n",
              "      <td>SINGLE PROTEIN</td>\n",
              "      <td>928306</td>\n",
              "    </tr>\n",
              "    <tr>\n",
              "      <th>10</th>\n",
              "      <td>[]</td>\n",
              "      <td>Human immunodeficiency virus</td>\n",
              "      <td>HIV protease</td>\n",
              "      <td>16.0</td>\n",
              "      <td>False</td>\n",
              "      <td>CHEMBL3638323</td>\n",
              "      <td>[{'accession': 'Q9YQ30', 'component_descriptio...</td>\n",
              "      <td>SINGLE PROTEIN</td>\n",
              "      <td>12721</td>\n",
              "    </tr>\n",
              "    <tr>\n",
              "      <th>11</th>\n",
              "      <td>[{'xref_id': 'P03366', 'xref_name': None, 'xre...</td>\n",
              "      <td>Human immunodeficiency virus type 1 group M su...</td>\n",
              "      <td>Gag-Pol polyprotein</td>\n",
              "      <td>14.0</td>\n",
              "      <td>False</td>\n",
              "      <td>CHEMBL5823</td>\n",
              "      <td>[{'accession': 'P03366', 'component_descriptio...</td>\n",
              "      <td>SINGLE PROTEIN</td>\n",
              "      <td>11678</td>\n",
              "    </tr>\n",
              "    <tr>\n",
              "      <th>12</th>\n",
              "      <td>[]</td>\n",
              "      <td>HIV-1 M:B_Lai</td>\n",
              "      <td>HIV-1 M:B_Lai</td>\n",
              "      <td>14.0</td>\n",
              "      <td>False</td>\n",
              "      <td>CHEMBL612775</td>\n",
              "      <td>[]</td>\n",
              "      <td>ORGANISM</td>\n",
              "      <td>290579</td>\n",
              "    </tr>\n",
              "    <tr>\n",
              "      <th>13</th>\n",
              "      <td>[]</td>\n",
              "      <td>Human immunodeficiency virus type 1 group M su...</td>\n",
              "      <td>Gag-Pol polyprotein</td>\n",
              "      <td>14.0</td>\n",
              "      <td>False</td>\n",
              "      <td>CHEMBL3638326</td>\n",
              "      <td>[{'accession': 'P03367', 'component_descriptio...</td>\n",
              "      <td>SINGLE PROTEIN</td>\n",
              "      <td>11686</td>\n",
              "    </tr>\n",
              "    <tr>\n",
              "      <th>14</th>\n",
              "      <td>[]</td>\n",
              "      <td>Human immunodeficiency virus type 1 group M su...</td>\n",
              "      <td>Gag-Pol polyprotein</td>\n",
              "      <td>14.0</td>\n",
              "      <td>False</td>\n",
              "      <td>CHEMBL3638331</td>\n",
              "      <td>[{'accession': 'P03369', 'component_descriptio...</td>\n",
              "      <td>SINGLE PROTEIN</td>\n",
              "      <td>11685</td>\n",
              "    </tr>\n",
              "    <tr>\n",
              "      <th>15</th>\n",
              "      <td>[]</td>\n",
              "      <td>Human immunodeficiency virus type 1 group M su...</td>\n",
              "      <td>Gag-Pol polyprotein</td>\n",
              "      <td>14.0</td>\n",
              "      <td>False</td>\n",
              "      <td>CHEMBL3638352</td>\n",
              "      <td>[{'accession': 'P24740', 'component_descriptio...</td>\n",
              "      <td>SINGLE PROTEIN</td>\n",
              "      <td>11703</td>\n",
              "    </tr>\n",
              "    <tr>\n",
              "      <th>16</th>\n",
              "      <td>[]</td>\n",
              "      <td>Human immunodeficiency virus type 1 group M su...</td>\n",
              "      <td>Gag-Pol polyprotein</td>\n",
              "      <td>14.0</td>\n",
              "      <td>False</td>\n",
              "      <td>CHEMBL3638360</td>\n",
              "      <td>[{'accession': 'P04585', 'component_descriptio...</td>\n",
              "      <td>SINGLE PROTEIN</td>\n",
              "      <td>11706</td>\n",
              "    </tr>\n",
              "    <tr>\n",
              "      <th>17</th>\n",
              "      <td>[]</td>\n",
              "      <td>Clostridium difficile</td>\n",
              "      <td>DNA-directed RNA polymerase</td>\n",
              "      <td>12.0</td>\n",
              "      <td>False</td>\n",
              "      <td>CHEMBL2363852</td>\n",
              "      <td>[{'accession': 'Q18CI5', 'component_descriptio...</td>\n",
              "      <td>PROTEIN COMPLEX</td>\n",
              "      <td>1496</td>\n",
              "    </tr>\n",
              "    <tr>\n",
              "      <th>18</th>\n",
              "      <td>[]</td>\n",
              "      <td>Homo sapiens</td>\n",
              "      <td>Transcription factor HIVEP2</td>\n",
              "      <td>12.0</td>\n",
              "      <td>False</td>\n",
              "      <td>CHEMBL4523214</td>\n",
              "      <td>[{'accession': 'P31629', 'component_descriptio...</td>\n",
              "      <td>SINGLE PROTEIN</td>\n",
              "      <td>9606</td>\n",
              "    </tr>\n",
              "    <tr>\n",
              "      <th>19</th>\n",
              "      <td>[{'xref_id': 'P51681', 'xref_name': None, 'xre...</td>\n",
              "      <td>Homo sapiens</td>\n",
              "      <td>C-C chemokine receptor type 5</td>\n",
              "      <td>11.0</td>\n",
              "      <td>False</td>\n",
              "      <td>CHEMBL274</td>\n",
              "      <td>[{'accession': 'P51681', 'component_descriptio...</td>\n",
              "      <td>SINGLE PROTEIN</td>\n",
              "      <td>9606</td>\n",
              "    </tr>\n",
              "    <tr>\n",
              "      <th>20</th>\n",
              "      <td>[]</td>\n",
              "      <td>Bacteria</td>\n",
              "      <td>Bacterial DNA-directed RNA polymerase</td>\n",
              "      <td>11.0</td>\n",
              "      <td>True</td>\n",
              "      <td>CHEMBL2364672</td>\n",
              "      <td>[{'accession': 'P0A8V2', 'component_descriptio...</td>\n",
              "      <td>PROTEIN COMPLEX</td>\n",
              "      <td>2</td>\n",
              "    </tr>\n",
              "    <tr>\n",
              "      <th>21</th>\n",
              "      <td>[]</td>\n",
              "      <td>Escherichia coli</td>\n",
              "      <td>DNA-directed RNA polymerase</td>\n",
              "      <td>11.0</td>\n",
              "      <td>False</td>\n",
              "      <td>CHEMBL4296169</td>\n",
              "      <td>[{'accession': 'P0A8V2', 'component_descriptio...</td>\n",
              "      <td>PROTEIN COMPLEX</td>\n",
              "      <td>562</td>\n",
              "    </tr>\n",
              "    <tr>\n",
              "      <th>22</th>\n",
              "      <td>[]</td>\n",
              "      <td>Homo sapiens</td>\n",
              "      <td>Ubiquitin thioesterase OTU1</td>\n",
              "      <td>11.0</td>\n",
              "      <td>False</td>\n",
              "      <td>CHEMBL4630833</td>\n",
              "      <td>[{'accession': 'Q5VVQ6', 'component_descriptio...</td>\n",
              "      <td>SINGLE PROTEIN</td>\n",
              "      <td>9606</td>\n",
              "    </tr>\n",
              "    <tr>\n",
              "      <th>23</th>\n",
              "      <td>[]</td>\n",
              "      <td>Mycobacterium tuberculosis</td>\n",
              "      <td>DNA-directed RNA polymerase beta chain</td>\n",
              "      <td>10.0</td>\n",
              "      <td>False</td>\n",
              "      <td>CHEMBL2006</td>\n",
              "      <td>[{'accession': 'P9WGY9', 'component_descriptio...</td>\n",
              "      <td>SINGLE PROTEIN</td>\n",
              "      <td>1773</td>\n",
              "    </tr>\n",
              "    <tr>\n",
              "      <th>24</th>\n",
              "      <td>[{'xref_id': 'Q92993', 'xref_name': None, 'xre...</td>\n",
              "      <td>Homo sapiens</td>\n",
              "      <td>Histone acetyltransferase KAT5</td>\n",
              "      <td>10.0</td>\n",
              "      <td>False</td>\n",
              "      <td>CHEMBL5750</td>\n",
              "      <td>[{'accession': 'Q92993', 'component_descriptio...</td>\n",
              "      <td>SINGLE PROTEIN</td>\n",
              "      <td>9606</td>\n",
              "    </tr>\n",
              "    <tr>\n",
              "      <th>25</th>\n",
              "      <td>[]</td>\n",
              "      <td>Escherichia coli O127:H6 (strain E2348/69 / EPEC)</td>\n",
              "      <td>DNA-directed RNA polymerase subunit beta</td>\n",
              "      <td>10.0</td>\n",
              "      <td>False</td>\n",
              "      <td>CHEMBL4296294</td>\n",
              "      <td>[{'accession': 'B7UPE2', 'component_descriptio...</td>\n",
              "      <td>SINGLE PROTEIN</td>\n",
              "      <td>574521</td>\n",
              "    </tr>\n",
              "    <tr>\n",
              "      <th>26</th>\n",
              "      <td>[{'xref_id': 'P0A8V2', 'xref_name': None, 'xre...</td>\n",
              "      <td>Escherichia coli K-12</td>\n",
              "      <td>DNA-directed RNA polymerase beta chain</td>\n",
              "      <td>9.0</td>\n",
              "      <td>False</td>\n",
              "      <td>CHEMBL1852</td>\n",
              "      <td>[{'accession': 'P0A8V2', 'component_descriptio...</td>\n",
              "      <td>SINGLE PROTEIN</td>\n",
              "      <td>83333</td>\n",
              "    </tr>\n",
              "    <tr>\n",
              "      <th>27</th>\n",
              "      <td>[{'xref_id': 'P15822', 'xref_name': None, 'xre...</td>\n",
              "      <td>Homo sapiens</td>\n",
              "      <td>Human immunodeficiency virus type I enhancer-b...</td>\n",
              "      <td>8.0</td>\n",
              "      <td>False</td>\n",
              "      <td>CHEMBL2909</td>\n",
              "      <td>[{'accession': 'P15822', 'component_descriptio...</td>\n",
              "      <td>SINGLE PROTEIN</td>\n",
              "      <td>9606</td>\n",
              "    </tr>\n",
              "    <tr>\n",
              "      <th>28</th>\n",
              "      <td>[]</td>\n",
              "      <td>Homo sapiens</td>\n",
              "      <td>CCR5/mu opioid receptor complex</td>\n",
              "      <td>8.0</td>\n",
              "      <td>False</td>\n",
              "      <td>CHEMBL3301384</td>\n",
              "      <td>[{'accession': 'P51681', 'component_descriptio...</td>\n",
              "      <td>PROTEIN COMPLEX</td>\n",
              "      <td>9606</td>\n",
              "    </tr>\n",
              "    <tr>\n",
              "      <th>29</th>\n",
              "      <td>[]</td>\n",
              "      <td>Zaire ebolavirus (strain Mayinga-76) (ZEBOV) (...</td>\n",
              "      <td>RNA-directed RNA polymerase L</td>\n",
              "      <td>7.0</td>\n",
              "      <td>False</td>\n",
              "      <td>CHEMBL4303062</td>\n",
              "      <td>[{'accession': 'Q05318', 'component_descriptio...</td>\n",
              "      <td>SINGLE PROTEIN</td>\n",
              "      <td>128952</td>\n",
              "    </tr>\n",
              "    <tr>\n",
              "      <th>30</th>\n",
              "      <td>[]</td>\n",
              "      <td>Lake Victoria marburgvirus (strain Musoke-80) ...</td>\n",
              "      <td>RNA-directed RNA polymerase L</td>\n",
              "      <td>7.0</td>\n",
              "      <td>False</td>\n",
              "      <td>CHEMBL4523583</td>\n",
              "      <td>[{'accession': 'P31352', 'component_descriptio...</td>\n",
              "      <td>SINGLE PROTEIN</td>\n",
              "      <td>33727</td>\n",
              "    </tr>\n",
              "    <tr>\n",
              "      <th>31</th>\n",
              "      <td>[]</td>\n",
              "      <td>Human respiratory syncytial virus A</td>\n",
              "      <td>RNA-directed RNA polymerase L</td>\n",
              "      <td>7.0</td>\n",
              "      <td>False</td>\n",
              "      <td>CHEMBL4630897</td>\n",
              "      <td>[{'accession': 'P28887', 'component_descriptio...</td>\n",
              "      <td>SINGLE PROTEIN</td>\n",
              "      <td>208893</td>\n",
              "    </tr>\n",
              "    <tr>\n",
              "      <th>32</th>\n",
              "      <td>[]</td>\n",
              "      <td>Homo sapiens</td>\n",
              "      <td>80S Ribosome</td>\n",
              "      <td>0.0</td>\n",
              "      <td>False</td>\n",
              "      <td>CHEMBL3987582</td>\n",
              "      <td>[{'accession': 'P08865', 'component_descriptio...</td>\n",
              "      <td>PROTEIN NUCLEIC-ACID COMPLEX</td>\n",
              "      <td>9606</td>\n",
              "    </tr>\n",
              "  </tbody>\n",
              "</table>\n",
              "</div>"
            ],
            "text/plain": [
              "                                     cross_references  ...  tax_id\n",
              "0                                                  []  ...   11709\n",
              "1                                                  []  ...   11801\n",
              "2   [{'xref_id': 'Q72547', 'xref_name': None, 'xre...  ...   11676\n",
              "3   [{'xref_id': 'O14746', 'xref_name': None, 'xre...  ...    9606\n",
              "4                                                  []  ...   10116\n",
              "5   [{'xref_id': 'P88142', 'xref_name': None, 'xre...  ...   11709\n",
              "6                                                  []  ...   10407\n",
              "7                                                  []  ...   11888\n",
              "8   [{'xref_id': 'P03359', 'xref_name': None, 'xre...  ...   11970\n",
              "9                                                  []  ...  928306\n",
              "10                                                 []  ...   12721\n",
              "11  [{'xref_id': 'P03366', 'xref_name': None, 'xre...  ...   11678\n",
              "12                                                 []  ...  290579\n",
              "13                                                 []  ...   11686\n",
              "14                                                 []  ...   11685\n",
              "15                                                 []  ...   11703\n",
              "16                                                 []  ...   11706\n",
              "17                                                 []  ...    1496\n",
              "18                                                 []  ...    9606\n",
              "19  [{'xref_id': 'P51681', 'xref_name': None, 'xre...  ...    9606\n",
              "20                                                 []  ...       2\n",
              "21                                                 []  ...     562\n",
              "22                                                 []  ...    9606\n",
              "23                                                 []  ...    1773\n",
              "24  [{'xref_id': 'Q92993', 'xref_name': None, 'xre...  ...    9606\n",
              "25                                                 []  ...  574521\n",
              "26  [{'xref_id': 'P0A8V2', 'xref_name': None, 'xre...  ...   83333\n",
              "27  [{'xref_id': 'P15822', 'xref_name': None, 'xre...  ...    9606\n",
              "28                                                 []  ...    9606\n",
              "29                                                 []  ...  128952\n",
              "30                                                 []  ...   33727\n",
              "31                                                 []  ...  208893\n",
              "32                                                 []  ...    9606\n",
              "\n",
              "[33 rows x 9 columns]"
            ]
          },
          "metadata": {},
          "execution_count": 3
        }
      ]
    },
    {
      "cell_type": "markdown",
      "metadata": {
        "id": "Y5OPfEALjAfZ"
      },
      "source": [
        "### **Select and retrieve bioactivity data for 2nd entry**\n"
      ]
    },
    {
      "cell_type": "markdown",
      "metadata": {
        "id": "gSQ3aroOgML7"
      },
      "source": [
        "We will assign the 2nd entry to the ***selected_target*** variable "
      ]
    },
    {
      "cell_type": "code",
      "metadata": {
        "colab": {
          "base_uri": "https://localhost:8080/",
          "height": 35
        },
        "id": "StrcHMVLha7u",
        "outputId": "ac4970aa-207c-4dcd-d289-779e71cc5d79"
      },
      "source": [
        "selected_target = targets.target_chembl_id[2]\n",
        "selected_target"
      ],
      "execution_count": null,
      "outputs": [
        {
          "output_type": "execute_result",
          "data": {
            "application/vnd.google.colaboratory.intrinsic+json": {
              "type": "string"
            },
            "text/plain": [
              "'CHEMBL247'"
            ]
          },
          "metadata": {},
          "execution_count": 4
        }
      ]
    },
    {
      "cell_type": "code",
      "metadata": {
        "id": "LeFbV_CsSP8D"
      },
      "source": [
        "activity = new_client.activity\n",
        "res = activity.filter(target_chembl_id=selected_target).filter(standard_type=\"IC50\")"
      ],
      "execution_count": null,
      "outputs": []
    },
    {
      "cell_type": "code",
      "metadata": {
        "id": "RC4T-NEmSWV-"
      },
      "source": [
        "df = pd.DataFrame.from_dict(res)"
      ],
      "execution_count": null,
      "outputs": []
    },
    {
      "cell_type": "code",
      "metadata": {
        "colab": {
          "base_uri": "https://localhost:8080/",
          "height": 315
        },
        "id": "s9iUAXFdSkoM",
        "outputId": "65ae0416-762e-43ca-f1b4-4876e971c1ae"
      },
      "source": [
        "df.head(3)"
      ],
      "execution_count": null,
      "outputs": [
        {
          "output_type": "execute_result",
          "data": {
            "text/html": [
              "<div>\n",
              "<style scoped>\n",
              "    .dataframe tbody tr th:only-of-type {\n",
              "        vertical-align: middle;\n",
              "    }\n",
              "\n",
              "    .dataframe tbody tr th {\n",
              "        vertical-align: top;\n",
              "    }\n",
              "\n",
              "    .dataframe thead th {\n",
              "        text-align: right;\n",
              "    }\n",
              "</style>\n",
              "<table border=\"1\" class=\"dataframe\">\n",
              "  <thead>\n",
              "    <tr style=\"text-align: right;\">\n",
              "      <th></th>\n",
              "      <th>activity_comment</th>\n",
              "      <th>activity_id</th>\n",
              "      <th>activity_properties</th>\n",
              "      <th>assay_chembl_id</th>\n",
              "      <th>assay_description</th>\n",
              "      <th>assay_type</th>\n",
              "      <th>assay_variant_accession</th>\n",
              "      <th>assay_variant_mutation</th>\n",
              "      <th>bao_endpoint</th>\n",
              "      <th>bao_format</th>\n",
              "      <th>bao_label</th>\n",
              "      <th>canonical_smiles</th>\n",
              "      <th>data_validity_comment</th>\n",
              "      <th>data_validity_description</th>\n",
              "      <th>document_chembl_id</th>\n",
              "      <th>document_journal</th>\n",
              "      <th>document_year</th>\n",
              "      <th>ligand_efficiency</th>\n",
              "      <th>molecule_chembl_id</th>\n",
              "      <th>molecule_pref_name</th>\n",
              "      <th>parent_molecule_chembl_id</th>\n",
              "      <th>pchembl_value</th>\n",
              "      <th>potential_duplicate</th>\n",
              "      <th>qudt_units</th>\n",
              "      <th>record_id</th>\n",
              "      <th>relation</th>\n",
              "      <th>src_id</th>\n",
              "      <th>standard_flag</th>\n",
              "      <th>standard_relation</th>\n",
              "      <th>standard_text_value</th>\n",
              "      <th>standard_type</th>\n",
              "      <th>standard_units</th>\n",
              "      <th>standard_upper_value</th>\n",
              "      <th>standard_value</th>\n",
              "      <th>target_chembl_id</th>\n",
              "      <th>target_organism</th>\n",
              "      <th>target_pref_name</th>\n",
              "      <th>target_tax_id</th>\n",
              "      <th>text_value</th>\n",
              "      <th>toid</th>\n",
              "      <th>type</th>\n",
              "      <th>units</th>\n",
              "      <th>uo_units</th>\n",
              "      <th>upper_value</th>\n",
              "      <th>value</th>\n",
              "    </tr>\n",
              "  </thead>\n",
              "  <tbody>\n",
              "    <tr>\n",
              "      <th>0</th>\n",
              "      <td>None</td>\n",
              "      <td>32097</td>\n",
              "      <td>[]</td>\n",
              "      <td>CHEMBL798926</td>\n",
              "      <td>Inhibition of purified recombinant HIV-1 rever...</td>\n",
              "      <td>B</td>\n",
              "      <td>None</td>\n",
              "      <td>None</td>\n",
              "      <td>BAO_0000190</td>\n",
              "      <td>BAO_0000357</td>\n",
              "      <td>single protein format</td>\n",
              "      <td>S=C(NCN1CCOCC1)Nc1ccc(Br)cn1</td>\n",
              "      <td>None</td>\n",
              "      <td>None</td>\n",
              "      <td>CHEMBL1131738</td>\n",
              "      <td>Bioorg. Med. Chem. Lett.</td>\n",
              "      <td>1999</td>\n",
              "      <td>None</td>\n",
              "      <td>CHEMBL296346</td>\n",
              "      <td>None</td>\n",
              "      <td>CHEMBL296346</td>\n",
              "      <td>None</td>\n",
              "      <td>False</td>\n",
              "      <td>http://www.openphacts.org/units/Nanomolar</td>\n",
              "      <td>66206</td>\n",
              "      <td>&gt;</td>\n",
              "      <td>1</td>\n",
              "      <td>True</td>\n",
              "      <td>&gt;</td>\n",
              "      <td>None</td>\n",
              "      <td>IC50</td>\n",
              "      <td>nM</td>\n",
              "      <td>None</td>\n",
              "      <td>10000.0</td>\n",
              "      <td>CHEMBL247</td>\n",
              "      <td>Human immunodeficiency virus 1</td>\n",
              "      <td>Human immunodeficiency virus type 1 reverse tr...</td>\n",
              "      <td>11676</td>\n",
              "      <td>None</td>\n",
              "      <td>None</td>\n",
              "      <td>IC50</td>\n",
              "      <td>uM</td>\n",
              "      <td>UO_0000065</td>\n",
              "      <td>None</td>\n",
              "      <td>10.0</td>\n",
              "    </tr>\n",
              "    <tr>\n",
              "      <th>1</th>\n",
              "      <td>Not Determined</td>\n",
              "      <td>32106</td>\n",
              "      <td>[]</td>\n",
              "      <td>CHEMBL798927</td>\n",
              "      <td>Inhibitory activity of compound against purifi...</td>\n",
              "      <td>B</td>\n",
              "      <td>None</td>\n",
              "      <td>None</td>\n",
              "      <td>BAO_0000190</td>\n",
              "      <td>BAO_0000357</td>\n",
              "      <td>single protein format</td>\n",
              "      <td>Cc1cn([C@H]2C[C@H](N=[N+]=[N-])[C@@H](CO)O2)c(...</td>\n",
              "      <td>None</td>\n",
              "      <td>None</td>\n",
              "      <td>CHEMBL1131738</td>\n",
              "      <td>Bioorg. Med. Chem. Lett.</td>\n",
              "      <td>1999</td>\n",
              "      <td>None</td>\n",
              "      <td>CHEMBL129</td>\n",
              "      <td>ZIDOVUDINE</td>\n",
              "      <td>CHEMBL129</td>\n",
              "      <td>None</td>\n",
              "      <td>False</td>\n",
              "      <td>None</td>\n",
              "      <td>66201</td>\n",
              "      <td>None</td>\n",
              "      <td>1</td>\n",
              "      <td>False</td>\n",
              "      <td>None</td>\n",
              "      <td>None</td>\n",
              "      <td>IC50</td>\n",
              "      <td>None</td>\n",
              "      <td>None</td>\n",
              "      <td>None</td>\n",
              "      <td>CHEMBL247</td>\n",
              "      <td>Human immunodeficiency virus 1</td>\n",
              "      <td>Human immunodeficiency virus type 1 reverse tr...</td>\n",
              "      <td>11676</td>\n",
              "      <td>None</td>\n",
              "      <td>None</td>\n",
              "      <td>IC50</td>\n",
              "      <td>uM</td>\n",
              "      <td>None</td>\n",
              "      <td>None</td>\n",
              "      <td>None</td>\n",
              "    </tr>\n",
              "    <tr>\n",
              "      <th>2</th>\n",
              "      <td>None</td>\n",
              "      <td>32524</td>\n",
              "      <td>[]</td>\n",
              "      <td>CHEMBL802044</td>\n",
              "      <td>Inhibition of HIV-1 reverse transcriptase (HIV...</td>\n",
              "      <td>B</td>\n",
              "      <td>None</td>\n",
              "      <td>None</td>\n",
              "      <td>BAO_0000190</td>\n",
              "      <td>BAO_0000357</td>\n",
              "      <td>single protein format</td>\n",
              "      <td>CCc1cc(NCc2ccc3ccccc3c2)c(O)nc1C</td>\n",
              "      <td>None</td>\n",
              "      <td>None</td>\n",
              "      <td>CHEMBL1129434</td>\n",
              "      <td>J. Med. Chem.</td>\n",
              "      <td>1996</td>\n",
              "      <td>{'bei': '21.68', 'le': '0.39', 'lle': '1.92', ...</td>\n",
              "      <td>CHEMBL318730</td>\n",
              "      <td>None</td>\n",
              "      <td>CHEMBL318730</td>\n",
              "      <td>6.34</td>\n",
              "      <td>False</td>\n",
              "      <td>http://www.openphacts.org/units/Nanomolar</td>\n",
              "      <td>251272</td>\n",
              "      <td>=</td>\n",
              "      <td>1</td>\n",
              "      <td>True</td>\n",
              "      <td>=</td>\n",
              "      <td>None</td>\n",
              "      <td>IC50</td>\n",
              "      <td>nM</td>\n",
              "      <td>None</td>\n",
              "      <td>457.09</td>\n",
              "      <td>CHEMBL247</td>\n",
              "      <td>Human immunodeficiency virus 1</td>\n",
              "      <td>Human immunodeficiency virus type 1 reverse tr...</td>\n",
              "      <td>11676</td>\n",
              "      <td>None</td>\n",
              "      <td>None</td>\n",
              "      <td>Log IC50</td>\n",
              "      <td>None</td>\n",
              "      <td>UO_0000065</td>\n",
              "      <td>None</td>\n",
              "      <td>-6.34</td>\n",
              "    </tr>\n",
              "  </tbody>\n",
              "</table>\n",
              "</div>"
            ],
            "text/plain": [
              "  activity_comment  activity_id  ... upper_value  value\n",
              "0             None        32097  ...        None   10.0\n",
              "1   Not Determined        32106  ...        None   None\n",
              "2             None        32524  ...        None  -6.34\n",
              "\n",
              "[3 rows x 45 columns]"
            ]
          },
          "metadata": {},
          "execution_count": 9
        }
      ]
    },
    {
      "cell_type": "code",
      "metadata": {
        "colab": {
          "base_uri": "https://localhost:8080/"
        },
        "id": "oNtBv36dYhxy",
        "outputId": "66cc0f14-7e5d-4b53-a3ea-f509f7b71419"
      },
      "source": [
        "df.standard_type.unique()"
      ],
      "execution_count": null,
      "outputs": [
        {
          "output_type": "execute_result",
          "data": {
            "text/plain": [
              "array(['IC50'], dtype=object)"
            ]
          },
          "metadata": {},
          "execution_count": 10
        }
      ]
    },
    {
      "cell_type": "markdown",
      "metadata": {
        "id": "fQ78N26Fg15T"
      },
      "source": [
        "Finally we will save the resulting bioactivity data to a CSV file **bioactivity_data_HIVrtranscriptase.csv**."
      ]
    },
    {
      "cell_type": "code",
      "metadata": {
        "id": "ZvUUEIVxTOH1"
      },
      "source": [
        "df.to_csv('bioactivity_data_HIVrtranscriptase.csv', index=False)"
      ],
      "execution_count": null,
      "outputs": []
    },
    {
      "cell_type": "markdown",
      "metadata": {
        "id": "BOrSrTGjOWU7"
      },
      "source": [
        "## **Copying files to Google Drive**"
      ]
    },
    {
      "cell_type": "markdown",
      "metadata": {
        "id": "PRputWaI7ZW7"
      },
      "source": [
        "Firstly, we need to mount the Google Drive into Colab so that we can have access to our Google adrive from within Colab."
      ]
    },
    {
      "cell_type": "code",
      "metadata": {
        "colab": {
          "base_uri": "https://localhost:8080/"
        },
        "id": "6RBX658q65A5",
        "outputId": "8fd36c13-98bf-4591-b9bb-6ab19d989485"
      },
      "source": [
        "from google.colab import drive\n",
        "drive.mount('/content/gdrive/', force_remount=True)\n"
      ],
      "execution_count": null,
      "outputs": [
        {
          "output_type": "stream",
          "name": "stdout",
          "text": [
            "Mounted at /content/gdrive/\n"
          ]
        }
      ]
    },
    {
      "cell_type": "markdown",
      "metadata": {
        "id": "CMlY0xudN1mL"
      },
      "source": [
        "Next, we create a **data** folder in our **Colab Notebooks** folder on Google Drive."
      ]
    },
    {
      "cell_type": "code",
      "metadata": {
        "id": "tew-UtUWIS__",
        "colab": {
          "base_uri": "https://localhost:8080/"
        },
        "outputId": "652ca441-092e-4498-a9b3-8cbc29571604"
      },
      "source": [
        "! mkdir \"/content/gdrive/My Drive/Colab Notebooks/dataHIVrtranscriptase\""
      ],
      "execution_count": null,
      "outputs": [
        {
          "output_type": "stream",
          "name": "stdout",
          "text": [
            "mkdir: cannot create directory ‘/content/gdrive/My Drive/Colab Notebooks/dataHIVrtranscriptase’: File exists\n"
          ]
        }
      ]
    },
    {
      "cell_type": "code",
      "metadata": {
        "id": "YDMBpK2XJ_rJ"
      },
      "source": [
        "! cp bioactivity_data_HIVrtranscriptase.csv \"/content/gdrive/My Drive/Colab Notebooks/dataHIVrtranscriptase\""
      ],
      "execution_count": null,
      "outputs": []
    },
    {
      "cell_type": "code",
      "metadata": {
        "colab": {
          "base_uri": "https://localhost:8080/"
        },
        "id": "iRIr1QiEJtuw",
        "outputId": "d2e6e050-2f05-40a8-c3ef-4f9d8fb2b38f"
      },
      "source": [
        "! ls -l \"/content/gdrive/My Drive/Colab Notebooks/dataHIVrtranscriptase\""
      ],
      "execution_count": null,
      "outputs": [
        {
          "output_type": "stream",
          "name": "stdout",
          "text": [
            "total 5384\n",
            "-rw------- 1 root root 5512259 Oct 31 03:00 bioactivity_data_HIVrtranscriptase.csv\n"
          ]
        }
      ]
    },
    {
      "cell_type": "markdown",
      "metadata": {
        "id": "z9NwrYJni8CH"
      },
      "source": [
        "Let's see the CSV files that we have so far."
      ]
    },
    {
      "cell_type": "code",
      "metadata": {
        "colab": {
          "base_uri": "https://localhost:8080/"
        },
        "id": "FO3cZC5vnCht",
        "outputId": "366d2792-c6b3-4b68-a2c5-fd5150a5c01a"
      },
      "source": [
        "! ls"
      ],
      "execution_count": null,
      "outputs": [
        {
          "output_type": "stream",
          "name": "stdout",
          "text": [
            "bioactivity_data_HIVrtranscriptase.csv\tgdrive\tsample_data\n"
          ]
        }
      ]
    },
    {
      "cell_type": "markdown",
      "metadata": {
        "id": "7UAasSu5jAeB"
      },
      "source": [
        "Taking a glimpse of the **bioactivity_data_HIVrtranscriptase.csv** file that we've just created."
      ]
    },
    {
      "cell_type": "code",
      "metadata": {
        "colab": {
          "base_uri": "https://localhost:8080/"
        },
        "id": "jwEJjx5b5gAn",
        "outputId": "c71c5bc7-95e5-47ee-b7ea-5792774d1b79"
      },
      "source": [
        "! head bioactivity_data_HIVrtranscriptase.csv"
      ],
      "execution_count": null,
      "outputs": [
        {
          "output_type": "stream",
          "name": "stdout",
          "text": [
            "activity_comment,activity_id,activity_properties,assay_chembl_id,assay_description,assay_type,assay_variant_accession,assay_variant_mutation,bao_endpoint,bao_format,bao_label,canonical_smiles,data_validity_comment,data_validity_description,document_chembl_id,document_journal,document_year,ligand_efficiency,molecule_chembl_id,molecule_pref_name,parent_molecule_chembl_id,pchembl_value,potential_duplicate,qudt_units,record_id,relation,src_id,standard_flag,standard_relation,standard_text_value,standard_type,standard_units,standard_upper_value,standard_value,target_chembl_id,target_organism,target_pref_name,target_tax_id,text_value,toid,type,units,uo_units,upper_value,value\n",
            ",32097,[],CHEMBL798926,Inhibition of purified recombinant HIV-1 reverse transcriptase,B,,,BAO_0000190,BAO_0000357,single protein format,S=C(NCN1CCOCC1)Nc1ccc(Br)cn1,,,CHEMBL1131738,Bioorg. Med. Chem. Lett.,1999,,CHEMBL296346,,CHEMBL296346,,False,http://www.openphacts.org/units/Nanomolar,66206,>,1,True,>,,IC50,nM,,10000.0,CHEMBL247,Human immunodeficiency virus 1,Human immunodeficiency virus type 1 reverse transcriptase,11676,,,IC50,uM,UO_0000065,,10.0\n",
            "Not Determined,32106,[],CHEMBL798927,Inhibitory activity of compound against purified recombinant HIV-1 reverse transcriptase; Not determined,B,,,BAO_0000190,BAO_0000357,single protein format,Cc1cn([C@H]2C[C@H](N=[N+]=[N-])[C@@H](CO)O2)c(=O)[nH]c1=O,,,CHEMBL1131738,Bioorg. Med. Chem. Lett.,1999,,CHEMBL129,ZIDOVUDINE,CHEMBL129,,False,,66201,,1,False,,,IC50,,,,CHEMBL247,Human immunodeficiency virus 1,Human immunodeficiency virus type 1 reverse transcriptase,11676,,,IC50,uM,,,\n",
            ",32524,[],CHEMBL802044,Inhibition of HIV-1 reverse transcriptase (HIV-1 RT),B,,,BAO_0000190,BAO_0000357,single protein format,CCc1cc(NCc2ccc3ccccc3c2)c(O)nc1C,,,CHEMBL1129434,J. Med. Chem.,1996,\"{'bei': '21.68', 'le': '0.39', 'lle': '1.92', 'sei': '14.04'}\",CHEMBL318730,,CHEMBL318730,6.34,False,http://www.openphacts.org/units/Nanomolar,251272,=,1,True,=,,IC50,nM,,457.09,CHEMBL247,Human immunodeficiency virus 1,Human immunodeficiency virus type 1 reverse transcriptase,11676,,,Log IC50,,UO_0000065,,-6.34\n",
            ",33653,[],CHEMBL802598,Inhibitory activity against HIV-1 Reverse transcriptase,B,,,BAO_0000190,BAO_0000357,single protein format,O=c1[nH]c2c(c(=O)[nH]1)CNc1ccccc1S2,,,CHEMBL1128395,J. Med. Chem.,1995,,CHEMBL303928,PYRIMIDOBENZOTHIAZEPINE,CHEMBL303928,,False,http://www.openphacts.org/units/Nanomolar,119202,>,1,True,>,,IC50,nM,,100000.0,CHEMBL247,Human immunodeficiency virus 1,Human immunodeficiency virus type 1 reverse transcriptase,11676,,,IC50,uM,UO_0000065,,100.0\n",
            ",34814,[],CHEMBL800982,Inhibitory concentration against HIV-1 replication by interfering with virus reverse transcriptase,B,,,BAO_0000190,BAO_0000357,single protein format,C=C(C)CN1Cc2cccc3[nH]c(=O)n(c23)C(C)C1,,,CHEMBL1129323,J. Med. Chem.,1996,\"{'bei': '17.46', 'le': '0.32', 'lle': '2.21', 'sei': '10.95'}\",CHEMBL68175,,CHEMBL68175,4.49,False,http://www.openphacts.org/units/Nanomolar,118251,=,1,True,=,,IC50,nM,,32100.0,CHEMBL247,Human immunodeficiency virus 1,Human immunodeficiency virus type 1 reverse transcriptase,11676,,,IC50,uM,UO_0000065,,32.1\n",
            ",34815,[],CHEMBL800982,Inhibitory concentration against HIV-1 replication by interfering with virus reverse transcriptase,B,,,BAO_0000190,BAO_0000357,single protein format,C=C(C)CN1Cc2cccc3[nH]c(=O)n(c23)C(C(C)C)C1,,,CHEMBL1129323,J. Med. Chem.,1996,\"{'bei': '17.17', 'le': '0.32', 'lle': '1.98', 'sei': '11.94'}\",CHEMBL69775,,CHEMBL69775,4.90,False,http://www.openphacts.org/units/Nanomolar,118248,=,1,True,=,,IC50,nM,,12600.0,CHEMBL247,Human immunodeficiency virus 1,Human immunodeficiency virus type 1 reverse transcriptase,11676,,,IC50,uM,UO_0000065,,12.6\n",
            ",34847,[],CHEMBL802044,Inhibition of HIV-1 reverse transcriptase (HIV-1 RT),B,,,BAO_0000190,BAO_0000357,single protein format,CCc1cc(NCc2nc3ccccc3s2)c(O)nc1C,,,CHEMBL1129434,J. Med. Chem.,1996,\"{'bei': '21.58', 'le': '0.42', 'lle': '2.58', 'sei': '11.13'}\",CHEMBL431274,,CHEMBL431274,6.46,False,http://www.openphacts.org/units/Nanomolar,251286,=,1,True,=,,IC50,nM,,346.74,CHEMBL247,Human immunodeficiency virus 1,Human immunodeficiency virus type 1 reverse transcriptase,11676,,,Log IC50,,UO_0000065,,-6.46\n",
            ",36082,[],CHEMBL800982,Inhibitory concentration against HIV-1 replication by interfering with virus reverse transcriptase,B,,,BAO_0000190,BAO_0000357,single protein format,CC1C(C)n2c(S)nc3cccc(c32)CN1CC1CC1,,,CHEMBL1129323,J. Med. Chem.,1996,\"{'bei': '16.95', 'le': '0.33', 'lle': '1.37', 'sei': '23.14'}\",CHEMBL68933,,CHEMBL68933,4.87,False,http://www.openphacts.org/units/Nanomolar,118237,=,1,True,=,,IC50,nM,,13400.0,CHEMBL247,Human immunodeficiency virus 1,Human immunodeficiency virus type 1 reverse transcriptase,11676,,,IC50,uM,UO_0000065,,13.4\n",
            ",36083,[],CHEMBL800982,Inhibitory concentration against HIV-1 replication by interfering with virus reverse transcriptase,B,,,BAO_0000190,BAO_0000357,single protein format,CC1Cn2c(S)nc3cc(Cl)cc(c32)CN1CC1CC1,,,CHEMBL1129323,J. Med. Chem.,1996,\"{'bei': '24.26', 'le': '0.51', 'lle': '3.88', 'sei': '35.46'}\",CHEMBL69566,,CHEMBL69566,7.47,False,http://www.openphacts.org/units/Nanomolar,118309,=,1,True,=,,IC50,nM,,34.0,CHEMBL247,Human immunodeficiency virus 1,Human immunodeficiency virus type 1 reverse transcriptase,11676,,,IC50,uM,UO_0000065,,0.034\n"
          ]
        }
      ]
    },
    {
      "cell_type": "markdown",
      "metadata": {
        "id": "_GXMpFNUOn_8"
      },
      "source": [
        "## **Handling missing data**\n",
        "If any compounds has missing value for the **standard_value** column then drop it"
      ]
    },
    {
      "cell_type": "code",
      "metadata": {
        "colab": {
          "base_uri": "https://localhost:8080/",
          "height": 949
        },
        "id": "hkVOdk6ZR396",
        "outputId": "1df3ad97-10f2-46e7-92b2-3655cb518c16"
      },
      "source": [
        "df2 = df[df.standard_value.notna()]\n",
        "df2"
      ],
      "execution_count": null,
      "outputs": [
        {
          "output_type": "execute_result",
          "data": {
            "text/html": [
              "<div>\n",
              "<style scoped>\n",
              "    .dataframe tbody tr th:only-of-type {\n",
              "        vertical-align: middle;\n",
              "    }\n",
              "\n",
              "    .dataframe tbody tr th {\n",
              "        vertical-align: top;\n",
              "    }\n",
              "\n",
              "    .dataframe thead th {\n",
              "        text-align: right;\n",
              "    }\n",
              "</style>\n",
              "<table border=\"1\" class=\"dataframe\">\n",
              "  <thead>\n",
              "    <tr style=\"text-align: right;\">\n",
              "      <th></th>\n",
              "      <th>activity_comment</th>\n",
              "      <th>activity_id</th>\n",
              "      <th>activity_properties</th>\n",
              "      <th>assay_chembl_id</th>\n",
              "      <th>assay_description</th>\n",
              "      <th>assay_type</th>\n",
              "      <th>assay_variant_accession</th>\n",
              "      <th>assay_variant_mutation</th>\n",
              "      <th>bao_endpoint</th>\n",
              "      <th>bao_format</th>\n",
              "      <th>bao_label</th>\n",
              "      <th>canonical_smiles</th>\n",
              "      <th>data_validity_comment</th>\n",
              "      <th>data_validity_description</th>\n",
              "      <th>document_chembl_id</th>\n",
              "      <th>document_journal</th>\n",
              "      <th>document_year</th>\n",
              "      <th>ligand_efficiency</th>\n",
              "      <th>molecule_chembl_id</th>\n",
              "      <th>molecule_pref_name</th>\n",
              "      <th>parent_molecule_chembl_id</th>\n",
              "      <th>pchembl_value</th>\n",
              "      <th>potential_duplicate</th>\n",
              "      <th>qudt_units</th>\n",
              "      <th>record_id</th>\n",
              "      <th>relation</th>\n",
              "      <th>src_id</th>\n",
              "      <th>standard_flag</th>\n",
              "      <th>standard_relation</th>\n",
              "      <th>standard_text_value</th>\n",
              "      <th>standard_type</th>\n",
              "      <th>standard_units</th>\n",
              "      <th>standard_upper_value</th>\n",
              "      <th>standard_value</th>\n",
              "      <th>target_chembl_id</th>\n",
              "      <th>target_organism</th>\n",
              "      <th>target_pref_name</th>\n",
              "      <th>target_tax_id</th>\n",
              "      <th>text_value</th>\n",
              "      <th>toid</th>\n",
              "      <th>type</th>\n",
              "      <th>units</th>\n",
              "      <th>uo_units</th>\n",
              "      <th>upper_value</th>\n",
              "      <th>value</th>\n",
              "    </tr>\n",
              "  </thead>\n",
              "  <tbody>\n",
              "    <tr>\n",
              "      <th>0</th>\n",
              "      <td>None</td>\n",
              "      <td>32097</td>\n",
              "      <td>[]</td>\n",
              "      <td>CHEMBL798926</td>\n",
              "      <td>Inhibition of purified recombinant HIV-1 rever...</td>\n",
              "      <td>B</td>\n",
              "      <td>None</td>\n",
              "      <td>None</td>\n",
              "      <td>BAO_0000190</td>\n",
              "      <td>BAO_0000357</td>\n",
              "      <td>single protein format</td>\n",
              "      <td>S=C(NCN1CCOCC1)Nc1ccc(Br)cn1</td>\n",
              "      <td>None</td>\n",
              "      <td>None</td>\n",
              "      <td>CHEMBL1131738</td>\n",
              "      <td>Bioorg. Med. Chem. Lett.</td>\n",
              "      <td>1999</td>\n",
              "      <td>None</td>\n",
              "      <td>CHEMBL296346</td>\n",
              "      <td>None</td>\n",
              "      <td>CHEMBL296346</td>\n",
              "      <td>None</td>\n",
              "      <td>False</td>\n",
              "      <td>http://www.openphacts.org/units/Nanomolar</td>\n",
              "      <td>66206</td>\n",
              "      <td>&gt;</td>\n",
              "      <td>1</td>\n",
              "      <td>True</td>\n",
              "      <td>&gt;</td>\n",
              "      <td>None</td>\n",
              "      <td>IC50</td>\n",
              "      <td>nM</td>\n",
              "      <td>None</td>\n",
              "      <td>10000.0</td>\n",
              "      <td>CHEMBL247</td>\n",
              "      <td>Human immunodeficiency virus 1</td>\n",
              "      <td>Human immunodeficiency virus type 1 reverse tr...</td>\n",
              "      <td>11676</td>\n",
              "      <td>None</td>\n",
              "      <td>None</td>\n",
              "      <td>IC50</td>\n",
              "      <td>uM</td>\n",
              "      <td>UO_0000065</td>\n",
              "      <td>None</td>\n",
              "      <td>10.0</td>\n",
              "    </tr>\n",
              "    <tr>\n",
              "      <th>2</th>\n",
              "      <td>None</td>\n",
              "      <td>32524</td>\n",
              "      <td>[]</td>\n",
              "      <td>CHEMBL802044</td>\n",
              "      <td>Inhibition of HIV-1 reverse transcriptase (HIV...</td>\n",
              "      <td>B</td>\n",
              "      <td>None</td>\n",
              "      <td>None</td>\n",
              "      <td>BAO_0000190</td>\n",
              "      <td>BAO_0000357</td>\n",
              "      <td>single protein format</td>\n",
              "      <td>CCc1cc(NCc2ccc3ccccc3c2)c(O)nc1C</td>\n",
              "      <td>None</td>\n",
              "      <td>None</td>\n",
              "      <td>CHEMBL1129434</td>\n",
              "      <td>J. Med. Chem.</td>\n",
              "      <td>1996</td>\n",
              "      <td>{'bei': '21.68', 'le': '0.39', 'lle': '1.92', ...</td>\n",
              "      <td>CHEMBL318730</td>\n",
              "      <td>None</td>\n",
              "      <td>CHEMBL318730</td>\n",
              "      <td>6.34</td>\n",
              "      <td>False</td>\n",
              "      <td>http://www.openphacts.org/units/Nanomolar</td>\n",
              "      <td>251272</td>\n",
              "      <td>=</td>\n",
              "      <td>1</td>\n",
              "      <td>True</td>\n",
              "      <td>=</td>\n",
              "      <td>None</td>\n",
              "      <td>IC50</td>\n",
              "      <td>nM</td>\n",
              "      <td>None</td>\n",
              "      <td>457.09</td>\n",
              "      <td>CHEMBL247</td>\n",
              "      <td>Human immunodeficiency virus 1</td>\n",
              "      <td>Human immunodeficiency virus type 1 reverse tr...</td>\n",
              "      <td>11676</td>\n",
              "      <td>None</td>\n",
              "      <td>None</td>\n",
              "      <td>Log IC50</td>\n",
              "      <td>None</td>\n",
              "      <td>UO_0000065</td>\n",
              "      <td>None</td>\n",
              "      <td>-6.34</td>\n",
              "    </tr>\n",
              "    <tr>\n",
              "      <th>3</th>\n",
              "      <td>None</td>\n",
              "      <td>33653</td>\n",
              "      <td>[]</td>\n",
              "      <td>CHEMBL802598</td>\n",
              "      <td>Inhibitory activity against HIV-1 Reverse tran...</td>\n",
              "      <td>B</td>\n",
              "      <td>None</td>\n",
              "      <td>None</td>\n",
              "      <td>BAO_0000190</td>\n",
              "      <td>BAO_0000357</td>\n",
              "      <td>single protein format</td>\n",
              "      <td>O=c1[nH]c2c(c(=O)[nH]1)CNc1ccccc1S2</td>\n",
              "      <td>None</td>\n",
              "      <td>None</td>\n",
              "      <td>CHEMBL1128395</td>\n",
              "      <td>J. Med. Chem.</td>\n",
              "      <td>1995</td>\n",
              "      <td>None</td>\n",
              "      <td>CHEMBL303928</td>\n",
              "      <td>PYRIMIDOBENZOTHIAZEPINE</td>\n",
              "      <td>CHEMBL303928</td>\n",
              "      <td>None</td>\n",
              "      <td>False</td>\n",
              "      <td>http://www.openphacts.org/units/Nanomolar</td>\n",
              "      <td>119202</td>\n",
              "      <td>&gt;</td>\n",
              "      <td>1</td>\n",
              "      <td>True</td>\n",
              "      <td>&gt;</td>\n",
              "      <td>None</td>\n",
              "      <td>IC50</td>\n",
              "      <td>nM</td>\n",
              "      <td>None</td>\n",
              "      <td>100000.0</td>\n",
              "      <td>CHEMBL247</td>\n",
              "      <td>Human immunodeficiency virus 1</td>\n",
              "      <td>Human immunodeficiency virus type 1 reverse tr...</td>\n",
              "      <td>11676</td>\n",
              "      <td>None</td>\n",
              "      <td>None</td>\n",
              "      <td>IC50</td>\n",
              "      <td>uM</td>\n",
              "      <td>UO_0000065</td>\n",
              "      <td>None</td>\n",
              "      <td>100.0</td>\n",
              "    </tr>\n",
              "    <tr>\n",
              "      <th>4</th>\n",
              "      <td>None</td>\n",
              "      <td>34814</td>\n",
              "      <td>[]</td>\n",
              "      <td>CHEMBL800982</td>\n",
              "      <td>Inhibitory concentration against HIV-1 replica...</td>\n",
              "      <td>B</td>\n",
              "      <td>None</td>\n",
              "      <td>None</td>\n",
              "      <td>BAO_0000190</td>\n",
              "      <td>BAO_0000357</td>\n",
              "      <td>single protein format</td>\n",
              "      <td>C=C(C)CN1Cc2cccc3[nH]c(=O)n(c23)C(C)C1</td>\n",
              "      <td>None</td>\n",
              "      <td>None</td>\n",
              "      <td>CHEMBL1129323</td>\n",
              "      <td>J. Med. Chem.</td>\n",
              "      <td>1996</td>\n",
              "      <td>{'bei': '17.46', 'le': '0.32', 'lle': '2.21', ...</td>\n",
              "      <td>CHEMBL68175</td>\n",
              "      <td>None</td>\n",
              "      <td>CHEMBL68175</td>\n",
              "      <td>4.49</td>\n",
              "      <td>False</td>\n",
              "      <td>http://www.openphacts.org/units/Nanomolar</td>\n",
              "      <td>118251</td>\n",
              "      <td>=</td>\n",
              "      <td>1</td>\n",
              "      <td>True</td>\n",
              "      <td>=</td>\n",
              "      <td>None</td>\n",
              "      <td>IC50</td>\n",
              "      <td>nM</td>\n",
              "      <td>None</td>\n",
              "      <td>32100.0</td>\n",
              "      <td>CHEMBL247</td>\n",
              "      <td>Human immunodeficiency virus 1</td>\n",
              "      <td>Human immunodeficiency virus type 1 reverse tr...</td>\n",
              "      <td>11676</td>\n",
              "      <td>None</td>\n",
              "      <td>None</td>\n",
              "      <td>IC50</td>\n",
              "      <td>uM</td>\n",
              "      <td>UO_0000065</td>\n",
              "      <td>None</td>\n",
              "      <td>32.1</td>\n",
              "    </tr>\n",
              "    <tr>\n",
              "      <th>5</th>\n",
              "      <td>None</td>\n",
              "      <td>34815</td>\n",
              "      <td>[]</td>\n",
              "      <td>CHEMBL800982</td>\n",
              "      <td>Inhibitory concentration against HIV-1 replica...</td>\n",
              "      <td>B</td>\n",
              "      <td>None</td>\n",
              "      <td>None</td>\n",
              "      <td>BAO_0000190</td>\n",
              "      <td>BAO_0000357</td>\n",
              "      <td>single protein format</td>\n",
              "      <td>C=C(C)CN1Cc2cccc3[nH]c(=O)n(c23)C(C(C)C)C1</td>\n",
              "      <td>None</td>\n",
              "      <td>None</td>\n",
              "      <td>CHEMBL1129323</td>\n",
              "      <td>J. Med. Chem.</td>\n",
              "      <td>1996</td>\n",
              "      <td>{'bei': '17.17', 'le': '0.32', 'lle': '1.98', ...</td>\n",
              "      <td>CHEMBL69775</td>\n",
              "      <td>None</td>\n",
              "      <td>CHEMBL69775</td>\n",
              "      <td>4.90</td>\n",
              "      <td>False</td>\n",
              "      <td>http://www.openphacts.org/units/Nanomolar</td>\n",
              "      <td>118248</td>\n",
              "      <td>=</td>\n",
              "      <td>1</td>\n",
              "      <td>True</td>\n",
              "      <td>=</td>\n",
              "      <td>None</td>\n",
              "      <td>IC50</td>\n",
              "      <td>nM</td>\n",
              "      <td>None</td>\n",
              "      <td>12600.0</td>\n",
              "      <td>CHEMBL247</td>\n",
              "      <td>Human immunodeficiency virus 1</td>\n",
              "      <td>Human immunodeficiency virus type 1 reverse tr...</td>\n",
              "      <td>11676</td>\n",
              "      <td>None</td>\n",
              "      <td>None</td>\n",
              "      <td>IC50</td>\n",
              "      <td>uM</td>\n",
              "      <td>UO_0000065</td>\n",
              "      <td>None</td>\n",
              "      <td>12.6</td>\n",
              "    </tr>\n",
              "    <tr>\n",
              "      <th>...</th>\n",
              "      <td>...</td>\n",
              "      <td>...</td>\n",
              "      <td>...</td>\n",
              "      <td>...</td>\n",
              "      <td>...</td>\n",
              "      <td>...</td>\n",
              "      <td>...</td>\n",
              "      <td>...</td>\n",
              "      <td>...</td>\n",
              "      <td>...</td>\n",
              "      <td>...</td>\n",
              "      <td>...</td>\n",
              "      <td>...</td>\n",
              "      <td>...</td>\n",
              "      <td>...</td>\n",
              "      <td>...</td>\n",
              "      <td>...</td>\n",
              "      <td>...</td>\n",
              "      <td>...</td>\n",
              "      <td>...</td>\n",
              "      <td>...</td>\n",
              "      <td>...</td>\n",
              "      <td>...</td>\n",
              "      <td>...</td>\n",
              "      <td>...</td>\n",
              "      <td>...</td>\n",
              "      <td>...</td>\n",
              "      <td>...</td>\n",
              "      <td>...</td>\n",
              "      <td>...</td>\n",
              "      <td>...</td>\n",
              "      <td>...</td>\n",
              "      <td>...</td>\n",
              "      <td>...</td>\n",
              "      <td>...</td>\n",
              "      <td>...</td>\n",
              "      <td>...</td>\n",
              "      <td>...</td>\n",
              "      <td>...</td>\n",
              "      <td>...</td>\n",
              "      <td>...</td>\n",
              "      <td>...</td>\n",
              "      <td>...</td>\n",
              "      <td>...</td>\n",
              "      <td>...</td>\n",
              "    </tr>\n",
              "    <tr>\n",
              "      <th>9561</th>\n",
              "      <td>None</td>\n",
              "      <td>20659410</td>\n",
              "      <td>[]</td>\n",
              "      <td>CHEMBL4618001</td>\n",
              "      <td>Inhibition of wild type recombinant HIV1 rever...</td>\n",
              "      <td>B</td>\n",
              "      <td>None</td>\n",
              "      <td>None</td>\n",
              "      <td>BAO_0000190</td>\n",
              "      <td>BAO_0000357</td>\n",
              "      <td>single protein format</td>\n",
              "      <td>Cc1ccnc2c1NC(=O)c1cccnc1N2C1CC1</td>\n",
              "      <td>None</td>\n",
              "      <td>None</td>\n",
              "      <td>CHEMBL4616638</td>\n",
              "      <td>Bioorg Med Chem</td>\n",
              "      <td>2020</td>\n",
              "      <td>{'bei': '21.82', 'le': '0.40', 'lle': '3.16', ...</td>\n",
              "      <td>CHEMBL57</td>\n",
              "      <td>NEVIRAPINE</td>\n",
              "      <td>CHEMBL57</td>\n",
              "      <td>5.81</td>\n",
              "      <td>False</td>\n",
              "      <td>http://www.openphacts.org/units/Nanomolar</td>\n",
              "      <td>3478311</td>\n",
              "      <td>=</td>\n",
              "      <td>1</td>\n",
              "      <td>True</td>\n",
              "      <td>=</td>\n",
              "      <td>None</td>\n",
              "      <td>IC50</td>\n",
              "      <td>nM</td>\n",
              "      <td>None</td>\n",
              "      <td>1550.0</td>\n",
              "      <td>CHEMBL247</td>\n",
              "      <td>Human immunodeficiency virus 1</td>\n",
              "      <td>Human immunodeficiency virus type 1 reverse tr...</td>\n",
              "      <td>11676</td>\n",
              "      <td>None</td>\n",
              "      <td>None</td>\n",
              "      <td>IC50</td>\n",
              "      <td>uM</td>\n",
              "      <td>UO_0000065</td>\n",
              "      <td>None</td>\n",
              "      <td>1.55</td>\n",
              "    </tr>\n",
              "    <tr>\n",
              "      <th>9562</th>\n",
              "      <td>Active</td>\n",
              "      <td>20746834</td>\n",
              "      <td>[]</td>\n",
              "      <td>CHEMBL4631755</td>\n",
              "      <td>HIV1 reverse transcriptase picogreen fluoresce...</td>\n",
              "      <td>B</td>\n",
              "      <td>None</td>\n",
              "      <td>None</td>\n",
              "      <td>BAO_0000190</td>\n",
              "      <td>BAO_0000357</td>\n",
              "      <td>single protein format</td>\n",
              "      <td>Cc1c(NC(=O)COc2ccc(Cl)cc2C(=O)c2cc(F)cc(C(F)(F...</td>\n",
              "      <td>None</td>\n",
              "      <td>None</td>\n",
              "      <td>CHEMBL4630903</td>\n",
              "      <td>None</td>\n",
              "      <td>2021</td>\n",
              "      <td>None</td>\n",
              "      <td>CHEMBL4636332</td>\n",
              "      <td>BI 2540</td>\n",
              "      <td>CHEMBL4636332</td>\n",
              "      <td>None</td>\n",
              "      <td>False</td>\n",
              "      <td>http://www.openphacts.org/units/Nanomolar</td>\n",
              "      <td>3489320</td>\n",
              "      <td>None</td>\n",
              "      <td>54</td>\n",
              "      <td>True</td>\n",
              "      <td>None</td>\n",
              "      <td>None</td>\n",
              "      <td>IC50</td>\n",
              "      <td>nM</td>\n",
              "      <td>None</td>\n",
              "      <td>12.0</td>\n",
              "      <td>CHEMBL247</td>\n",
              "      <td>Human immunodeficiency virus 1</td>\n",
              "      <td>Human immunodeficiency virus type 1 reverse tr...</td>\n",
              "      <td>11676</td>\n",
              "      <td>None</td>\n",
              "      <td>None</td>\n",
              "      <td>IC50</td>\n",
              "      <td>nM</td>\n",
              "      <td>UO_0000065</td>\n",
              "      <td>None</td>\n",
              "      <td>12.0</td>\n",
              "    </tr>\n",
              "    <tr>\n",
              "      <th>9563</th>\n",
              "      <td>Active</td>\n",
              "      <td>20746835</td>\n",
              "      <td>[]</td>\n",
              "      <td>CHEMBL4631756</td>\n",
              "      <td>HIV viral replication assay (ELISA)</td>\n",
              "      <td>B</td>\n",
              "      <td>None</td>\n",
              "      <td>None</td>\n",
              "      <td>BAO_0000190</td>\n",
              "      <td>BAO_0000219</td>\n",
              "      <td>cell-based format</td>\n",
              "      <td>Cc1c(NC(=O)COc2ccc(Cl)cc2C(=O)c2cc(F)cc(C(F)(F...</td>\n",
              "      <td>None</td>\n",
              "      <td>None</td>\n",
              "      <td>CHEMBL4630903</td>\n",
              "      <td>None</td>\n",
              "      <td>2021</td>\n",
              "      <td>None</td>\n",
              "      <td>CHEMBL4636332</td>\n",
              "      <td>BI 2540</td>\n",
              "      <td>CHEMBL4636332</td>\n",
              "      <td>None</td>\n",
              "      <td>False</td>\n",
              "      <td>http://www.openphacts.org/units/Nanomolar</td>\n",
              "      <td>3489320</td>\n",
              "      <td>None</td>\n",
              "      <td>54</td>\n",
              "      <td>True</td>\n",
              "      <td>None</td>\n",
              "      <td>None</td>\n",
              "      <td>IC50</td>\n",
              "      <td>nM</td>\n",
              "      <td>None</td>\n",
              "      <td>0.76</td>\n",
              "      <td>CHEMBL247</td>\n",
              "      <td>Human immunodeficiency virus 1</td>\n",
              "      <td>Human immunodeficiency virus type 1 reverse tr...</td>\n",
              "      <td>11676</td>\n",
              "      <td>None</td>\n",
              "      <td>None</td>\n",
              "      <td>IC50</td>\n",
              "      <td>nM</td>\n",
              "      <td>UO_0000065</td>\n",
              "      <td>None</td>\n",
              "      <td>0.76</td>\n",
              "    </tr>\n",
              "    <tr>\n",
              "      <th>9564</th>\n",
              "      <td>Active</td>\n",
              "      <td>20746836</td>\n",
              "      <td>[]</td>\n",
              "      <td>CHEMBL4631757</td>\n",
              "      <td>HIV 1 luciferase assay</td>\n",
              "      <td>B</td>\n",
              "      <td>None</td>\n",
              "      <td>None</td>\n",
              "      <td>BAO_0000190</td>\n",
              "      <td>BAO_0000219</td>\n",
              "      <td>cell-based format</td>\n",
              "      <td>Cc1c(NC(=O)COc2ccc(Cl)cc2C(=O)c2cc(F)cc(C(F)(F...</td>\n",
              "      <td>None</td>\n",
              "      <td>None</td>\n",
              "      <td>CHEMBL4630903</td>\n",
              "      <td>None</td>\n",
              "      <td>2021</td>\n",
              "      <td>None</td>\n",
              "      <td>CHEMBL4636332</td>\n",
              "      <td>BI 2540</td>\n",
              "      <td>CHEMBL4636332</td>\n",
              "      <td>None</td>\n",
              "      <td>False</td>\n",
              "      <td>http://www.openphacts.org/units/Nanomolar</td>\n",
              "      <td>3489320</td>\n",
              "      <td>None</td>\n",
              "      <td>54</td>\n",
              "      <td>True</td>\n",
              "      <td>None</td>\n",
              "      <td>None</td>\n",
              "      <td>IC50</td>\n",
              "      <td>nM</td>\n",
              "      <td>None</td>\n",
              "      <td>2.6</td>\n",
              "      <td>CHEMBL247</td>\n",
              "      <td>Human immunodeficiency virus 1</td>\n",
              "      <td>Human immunodeficiency virus type 1 reverse tr...</td>\n",
              "      <td>11676</td>\n",
              "      <td>None</td>\n",
              "      <td>None</td>\n",
              "      <td>IC50</td>\n",
              "      <td>nM</td>\n",
              "      <td>UO_0000065</td>\n",
              "      <td>None</td>\n",
              "      <td>2.6</td>\n",
              "    </tr>\n",
              "    <tr>\n",
              "      <th>9565</th>\n",
              "      <td>Not Active</td>\n",
              "      <td>20746837</td>\n",
              "      <td>[]</td>\n",
              "      <td>CHEMBL4631755</td>\n",
              "      <td>HIV1 reverse transcriptase picogreen fluoresce...</td>\n",
              "      <td>B</td>\n",
              "      <td>None</td>\n",
              "      <td>None</td>\n",
              "      <td>BAO_0000190</td>\n",
              "      <td>BAO_0000357</td>\n",
              "      <td>single protein format</td>\n",
              "      <td>CC(C)(C#Cc1ccc(NC(=O)COc2ccccc2C(=O)c2ccccc2)c...</td>\n",
              "      <td>None</td>\n",
              "      <td>None</td>\n",
              "      <td>CHEMBL4630903</td>\n",
              "      <td>None</td>\n",
              "      <td>2021</td>\n",
              "      <td>None</td>\n",
              "      <td>CHEMBL4641539</td>\n",
              "      <td>BI 2439</td>\n",
              "      <td>CHEMBL4641539</td>\n",
              "      <td>None</td>\n",
              "      <td>False</td>\n",
              "      <td>http://www.openphacts.org/units/Nanomolar</td>\n",
              "      <td>3489321</td>\n",
              "      <td>None</td>\n",
              "      <td>54</td>\n",
              "      <td>True</td>\n",
              "      <td>None</td>\n",
              "      <td>None</td>\n",
              "      <td>IC50</td>\n",
              "      <td>nM</td>\n",
              "      <td>None</td>\n",
              "      <td>5053.0</td>\n",
              "      <td>CHEMBL247</td>\n",
              "      <td>Human immunodeficiency virus 1</td>\n",
              "      <td>Human immunodeficiency virus type 1 reverse tr...</td>\n",
              "      <td>11676</td>\n",
              "      <td>None</td>\n",
              "      <td>None</td>\n",
              "      <td>IC50</td>\n",
              "      <td>nM</td>\n",
              "      <td>UO_0000065</td>\n",
              "      <td>None</td>\n",
              "      <td>5053.0</td>\n",
              "    </tr>\n",
              "  </tbody>\n",
              "</table>\n",
              "<p>9119 rows × 45 columns</p>\n",
              "</div>"
            ],
            "text/plain": [
              "     activity_comment  activity_id  ... upper_value   value\n",
              "0                None        32097  ...        None    10.0\n",
              "2                None        32524  ...        None   -6.34\n",
              "3                None        33653  ...        None   100.0\n",
              "4                None        34814  ...        None    32.1\n",
              "5                None        34815  ...        None    12.6\n",
              "...               ...          ...  ...         ...     ...\n",
              "9561             None     20659410  ...        None    1.55\n",
              "9562           Active     20746834  ...        None    12.0\n",
              "9563           Active     20746835  ...        None    0.76\n",
              "9564           Active     20746836  ...        None     2.6\n",
              "9565       Not Active     20746837  ...        None  5053.0\n",
              "\n",
              "[9119 rows x 45 columns]"
            ]
          },
          "metadata": {},
          "execution_count": 13
        }
      ]
    },
    {
      "cell_type": "markdown",
      "metadata": {
        "id": "5H4sSFAWhV9B"
      },
      "source": [
        "## **Data pre-processing of the bioactivity data**"
      ]
    },
    {
      "cell_type": "markdown",
      "metadata": {
        "id": "tO22XVlzhkXR"
      },
      "source": [
        "### **Labeling compounds as either being active, inactive or intermediate**\n",
        "The bioactivity data is in the IC50 unit. Compounds having values of less than 1000 nM will be considered to be **active** while those greater than 10,000 nM will be considered to be **inactive**. As for those values in between 1,000 and 10,000 nM will be referred to as **intermediate**. "
      ]
    },
    {
      "cell_type": "code",
      "metadata": {
        "id": "1E8rz7oMOd-5"
      },
      "source": [
        "bioactivity_class = []\n",
        "for i in df2.standard_value:\n",
        "  if float(i) >= 10000:\n",
        "    bioactivity_class.append(\"inactive\")\n",
        "  elif float(i) <= 1000:\n",
        "    bioactivity_class.append(\"active\")\n",
        "  else:\n",
        "    bioactivity_class.append(\"intermediate\")"
      ],
      "execution_count": null,
      "outputs": []
    },
    {
      "cell_type": "markdown",
      "metadata": {
        "id": "PFsmb2N9hnTB"
      },
      "source": [
        "### **Iterate the *molecule_chembl_id* to a list**"
      ]
    },
    {
      "cell_type": "code",
      "metadata": {
        "id": "DMJng9xnVnMM"
      },
      "source": [
        "mol_cid = []\n",
        "for i in df2.molecule_chembl_id:\n",
        "  mol_cid.append(i)"
      ],
      "execution_count": null,
      "outputs": []
    },
    {
      "cell_type": "markdown",
      "metadata": {
        "id": "YRieJc9dhuVZ"
      },
      "source": [
        "### **Iterate *canonical_smiles* to a list**"
      ]
    },
    {
      "cell_type": "code",
      "metadata": {
        "id": "AT8qUBk1eVmj"
      },
      "source": [
        "canonical_smiles = []\n",
        "for i in df2.canonical_smiles:\n",
        "  canonical_smiles.append(i)"
      ],
      "execution_count": null,
      "outputs": []
    },
    {
      "cell_type": "markdown",
      "metadata": {
        "id": "DZFugUXxhwjE"
      },
      "source": [
        "### **Iterate *standard_value* to a list**"
      ]
    },
    {
      "cell_type": "code",
      "metadata": {
        "id": "ZaPt-FjEZNBe"
      },
      "source": [
        "standard_value = []\n",
        "for i in df2.standard_value:\n",
        "  standard_value.append(i)"
      ],
      "execution_count": null,
      "outputs": []
    },
    {
      "cell_type": "markdown",
      "metadata": {
        "id": "Nv2dzid_hzKd"
      },
      "source": [
        "### **Combine the 4 lists into a dataframe**"
      ]
    },
    {
      "cell_type": "code",
      "metadata": {
        "id": "TWlYO4I3Wrh-"
      },
      "source": [
        "data_tuples = list(zip(mol_cid, canonical_smiles, bioactivity_class, standard_value))\n",
        "df3 = pd.DataFrame( data_tuples,  columns=['molecule_chembl_id', 'canonical_smiles', 'bioactivity_class', 'standard_value'])"
      ],
      "execution_count": null,
      "outputs": []
    },
    {
      "cell_type": "code",
      "metadata": {
        "colab": {
          "base_uri": "https://localhost:8080/",
          "height": 419
        },
        "id": "Li64nUiZQ-y2",
        "outputId": "d5a3f86e-db01-48ea-9e87-c7c523951a7d"
      },
      "source": [
        "df3"
      ],
      "execution_count": null,
      "outputs": [
        {
          "output_type": "execute_result",
          "data": {
            "text/html": [
              "<div>\n",
              "<style scoped>\n",
              "    .dataframe tbody tr th:only-of-type {\n",
              "        vertical-align: middle;\n",
              "    }\n",
              "\n",
              "    .dataframe tbody tr th {\n",
              "        vertical-align: top;\n",
              "    }\n",
              "\n",
              "    .dataframe thead th {\n",
              "        text-align: right;\n",
              "    }\n",
              "</style>\n",
              "<table border=\"1\" class=\"dataframe\">\n",
              "  <thead>\n",
              "    <tr style=\"text-align: right;\">\n",
              "      <th></th>\n",
              "      <th>molecule_chembl_id</th>\n",
              "      <th>canonical_smiles</th>\n",
              "      <th>bioactivity_class</th>\n",
              "      <th>standard_value</th>\n",
              "    </tr>\n",
              "  </thead>\n",
              "  <tbody>\n",
              "    <tr>\n",
              "      <th>0</th>\n",
              "      <td>CHEMBL296346</td>\n",
              "      <td>S=C(NCN1CCOCC1)Nc1ccc(Br)cn1</td>\n",
              "      <td>inactive</td>\n",
              "      <td>10000.0</td>\n",
              "    </tr>\n",
              "    <tr>\n",
              "      <th>1</th>\n",
              "      <td>CHEMBL318730</td>\n",
              "      <td>CCc1cc(NCc2ccc3ccccc3c2)c(O)nc1C</td>\n",
              "      <td>active</td>\n",
              "      <td>457.09</td>\n",
              "    </tr>\n",
              "    <tr>\n",
              "      <th>2</th>\n",
              "      <td>CHEMBL303928</td>\n",
              "      <td>O=c1[nH]c2c(c(=O)[nH]1)CNc1ccccc1S2</td>\n",
              "      <td>inactive</td>\n",
              "      <td>100000.0</td>\n",
              "    </tr>\n",
              "    <tr>\n",
              "      <th>3</th>\n",
              "      <td>CHEMBL68175</td>\n",
              "      <td>C=C(C)CN1Cc2cccc3[nH]c(=O)n(c23)C(C)C1</td>\n",
              "      <td>inactive</td>\n",
              "      <td>32100.0</td>\n",
              "    </tr>\n",
              "    <tr>\n",
              "      <th>4</th>\n",
              "      <td>CHEMBL69775</td>\n",
              "      <td>C=C(C)CN1Cc2cccc3[nH]c(=O)n(c23)C(C(C)C)C1</td>\n",
              "      <td>inactive</td>\n",
              "      <td>12600.0</td>\n",
              "    </tr>\n",
              "    <tr>\n",
              "      <th>...</th>\n",
              "      <td>...</td>\n",
              "      <td>...</td>\n",
              "      <td>...</td>\n",
              "      <td>...</td>\n",
              "    </tr>\n",
              "    <tr>\n",
              "      <th>9114</th>\n",
              "      <td>CHEMBL57</td>\n",
              "      <td>Cc1ccnc2c1NC(=O)c1cccnc1N2C1CC1</td>\n",
              "      <td>intermediate</td>\n",
              "      <td>1550.0</td>\n",
              "    </tr>\n",
              "    <tr>\n",
              "      <th>9115</th>\n",
              "      <td>CHEMBL4636332</td>\n",
              "      <td>Cc1c(NC(=O)COc2ccc(Cl)cc2C(=O)c2cc(F)cc(C(F)(F...</td>\n",
              "      <td>active</td>\n",
              "      <td>12.0</td>\n",
              "    </tr>\n",
              "    <tr>\n",
              "      <th>9116</th>\n",
              "      <td>CHEMBL4636332</td>\n",
              "      <td>Cc1c(NC(=O)COc2ccc(Cl)cc2C(=O)c2cc(F)cc(C(F)(F...</td>\n",
              "      <td>active</td>\n",
              "      <td>0.76</td>\n",
              "    </tr>\n",
              "    <tr>\n",
              "      <th>9117</th>\n",
              "      <td>CHEMBL4636332</td>\n",
              "      <td>Cc1c(NC(=O)COc2ccc(Cl)cc2C(=O)c2cc(F)cc(C(F)(F...</td>\n",
              "      <td>active</td>\n",
              "      <td>2.6</td>\n",
              "    </tr>\n",
              "    <tr>\n",
              "      <th>9118</th>\n",
              "      <td>CHEMBL4641539</td>\n",
              "      <td>CC(C)(C#Cc1ccc(NC(=O)COc2ccccc2C(=O)c2ccccc2)c...</td>\n",
              "      <td>intermediate</td>\n",
              "      <td>5053.0</td>\n",
              "    </tr>\n",
              "  </tbody>\n",
              "</table>\n",
              "<p>9119 rows × 4 columns</p>\n",
              "</div>"
            ],
            "text/plain": [
              "     molecule_chembl_id  ... standard_value\n",
              "0          CHEMBL296346  ...        10000.0\n",
              "1          CHEMBL318730  ...         457.09\n",
              "2          CHEMBL303928  ...       100000.0\n",
              "3           CHEMBL68175  ...        32100.0\n",
              "4           CHEMBL69775  ...        12600.0\n",
              "...                 ...  ...            ...\n",
              "9114           CHEMBL57  ...         1550.0\n",
              "9115      CHEMBL4636332  ...           12.0\n",
              "9116      CHEMBL4636332  ...           0.76\n",
              "9117      CHEMBL4636332  ...            2.6\n",
              "9118      CHEMBL4641539  ...         5053.0\n",
              "\n",
              "[9119 rows x 4 columns]"
            ]
          },
          "metadata": {},
          "execution_count": 19
        }
      ]
    },
    {
      "cell_type": "markdown",
      "metadata": {
        "id": "vE0Vvo6ic3MI"
      },
      "source": [
        "### **Alternative method**"
      ]
    },
    {
      "cell_type": "code",
      "metadata": {
        "colab": {
          "base_uri": "https://localhost:8080/",
          "height": 419
        },
        "id": "VICiiCtqc2ne",
        "outputId": "41bd7492-c667-4dd5-bd53-cdc2361a4bdf"
      },
      "source": [
        "selection = ['molecule_chembl_id', 'canonical_smiles', 'standard_value']\n",
        "df3 = df2[selection]\n",
        "df3"
      ],
      "execution_count": null,
      "outputs": [
        {
          "data": {
            "text/html": [
              "<div>\n",
              "<style scoped>\n",
              "    .dataframe tbody tr th:only-of-type {\n",
              "        vertical-align: middle;\n",
              "    }\n",
              "\n",
              "    .dataframe tbody tr th {\n",
              "        vertical-align: top;\n",
              "    }\n",
              "\n",
              "    .dataframe thead th {\n",
              "        text-align: right;\n",
              "    }\n",
              "</style>\n",
              "<table border=\"1\" class=\"dataframe\">\n",
              "  <thead>\n",
              "    <tr style=\"text-align: right;\">\n",
              "      <th></th>\n",
              "      <th>molecule_chembl_id</th>\n",
              "      <th>canonical_smiles</th>\n",
              "      <th>standard_value</th>\n",
              "    </tr>\n",
              "  </thead>\n",
              "  <tbody>\n",
              "    <tr>\n",
              "      <th>0</th>\n",
              "      <td>CHEMBL105460</td>\n",
              "      <td>C=CCN(C(=O)OCc1ccc([N+](=O)[O-])cc1)C1CCN(CCC(...</td>\n",
              "      <td>335.0</td>\n",
              "    </tr>\n",
              "    <tr>\n",
              "      <th>1</th>\n",
              "      <td>CHEMBL105606</td>\n",
              "      <td>C=CCN(C(=O)OCc1ccc([N+](=O)[O-])cc1)C1CCN(CCC(...</td>\n",
              "      <td>28.0</td>\n",
              "    </tr>\n",
              "    <tr>\n",
              "      <th>2</th>\n",
              "      <td>CHEMBL105570</td>\n",
              "      <td>C=CCN(C(=O)OCc1ccc([N+](=O)[O-])cc1)C1CCN(CCC(...</td>\n",
              "      <td>10.0</td>\n",
              "    </tr>\n",
              "    <tr>\n",
              "      <th>3</th>\n",
              "      <td>CHEMBL83338</td>\n",
              "      <td>CN(C[C@@H](CCN1CCC2(CC1)C[S+]([O-])c1ccccc12)c...</td>\n",
              "      <td>35.0</td>\n",
              "    </tr>\n",
              "    <tr>\n",
              "      <th>4</th>\n",
              "      <td>CHEMBL325357</td>\n",
              "      <td>C=CCN(C(=O)OCc1ccc([N+](=O)[O-])cc1)C1CCN(CCC(...</td>\n",
              "      <td>15.0</td>\n",
              "    </tr>\n",
              "    <tr>\n",
              "      <th>...</th>\n",
              "      <td>...</td>\n",
              "      <td>...</td>\n",
              "      <td>...</td>\n",
              "    </tr>\n",
              "    <tr>\n",
              "      <th>3835</th>\n",
              "      <td>CHEMBL4465351</td>\n",
              "      <td>CC(C)N(C)[C@@H]1CC[C@H](N2CC[C@H](NC(=O)c3cccc...</td>\n",
              "      <td>1570.0</td>\n",
              "    </tr>\n",
              "    <tr>\n",
              "      <th>3836</th>\n",
              "      <td>CHEMBL3577945</td>\n",
              "      <td>CCC[C@@H]1C[C@H](N(C)C(C)C)CC[C@@H]1N1CC[C@H](...</td>\n",
              "      <td>2.4</td>\n",
              "    </tr>\n",
              "    <tr>\n",
              "      <th>3837</th>\n",
              "      <td>CHEMBL4470701</td>\n",
              "      <td>CC(C)N(C)[C@@H]1CC[C@H](N2CC[C@H](Nc3ncnc4ccc(...</td>\n",
              "      <td>190.0</td>\n",
              "    </tr>\n",
              "    <tr>\n",
              "      <th>3838</th>\n",
              "      <td>CHEMBL4457723</td>\n",
              "      <td>CC(C)N(C)[C@@H]1CC[C@H](N2CC[C@H](Nc3ncnc4ccc(...</td>\n",
              "      <td>287.0</td>\n",
              "    </tr>\n",
              "    <tr>\n",
              "      <th>3839</th>\n",
              "      <td>CHEMBL4442783</td>\n",
              "      <td>CC(=O)N[C@@H]1C[C@H](N(C)C(C)C)CC[C@@H]1N1CC[C...</td>\n",
              "      <td>780.0</td>\n",
              "    </tr>\n",
              "  </tbody>\n",
              "</table>\n",
              "<p>2902 rows × 3 columns</p>\n",
              "</div>"
            ],
            "text/plain": [
              "     molecule_chembl_id  ... standard_value\n",
              "0          CHEMBL105460  ...          335.0\n",
              "1          CHEMBL105606  ...           28.0\n",
              "2          CHEMBL105570  ...           10.0\n",
              "3           CHEMBL83338  ...           35.0\n",
              "4          CHEMBL325357  ...           15.0\n",
              "...                 ...  ...            ...\n",
              "3835      CHEMBL4465351  ...         1570.0\n",
              "3836      CHEMBL3577945  ...            2.4\n",
              "3837      CHEMBL4470701  ...          190.0\n",
              "3838      CHEMBL4457723  ...          287.0\n",
              "3839      CHEMBL4442783  ...          780.0\n",
              "\n",
              "[2902 rows x 3 columns]"
            ]
          },
          "execution_count": 141,
          "metadata": {},
          "output_type": "execute_result"
        }
      ]
    },
    {
      "cell_type": "code",
      "metadata": {
        "colab": {
          "base_uri": "https://localhost:8080/",
          "height": 164
        },
        "id": "d8nV77oWdbq1",
        "outputId": "c0e0725f-da2c-43e7-a79a-de105bc41593"
      },
      "source": [
        "pd.concat([df3,pd.Series(bioactivity_class)], axis=1)"
      ],
      "execution_count": null,
      "outputs": [
        {
          "ename": "NameError",
          "evalue": "ignored",
          "output_type": "error",
          "traceback": [
            "\u001b[0;31m---------------------------------------------------------------------------\u001b[0m",
            "\u001b[0;31mNameError\u001b[0m                                 Traceback (most recent call last)",
            "\u001b[0;32m<ipython-input-1-7ca3cac64e08>\u001b[0m in \u001b[0;36m<module>\u001b[0;34m()\u001b[0m\n\u001b[0;32m----> 1\u001b[0;31m \u001b[0mpd\u001b[0m\u001b[0;34m.\u001b[0m\u001b[0mconcat\u001b[0m\u001b[0;34m(\u001b[0m\u001b[0;34m[\u001b[0m\u001b[0mdf3\u001b[0m\u001b[0;34m,\u001b[0m\u001b[0mpd\u001b[0m\u001b[0;34m.\u001b[0m\u001b[0mSeries\u001b[0m\u001b[0;34m(\u001b[0m\u001b[0mbioactivity_class\u001b[0m\u001b[0;34m)\u001b[0m\u001b[0;34m]\u001b[0m\u001b[0;34m,\u001b[0m \u001b[0maxis\u001b[0m\u001b[0;34m=\u001b[0m\u001b[0;36m1\u001b[0m\u001b[0;34m)\u001b[0m\u001b[0;34m\u001b[0m\u001b[0;34m\u001b[0m\u001b[0m\n\u001b[0m",
            "\u001b[0;31mNameError\u001b[0m: name 'pd' is not defined"
          ]
        }
      ]
    },
    {
      "cell_type": "markdown",
      "metadata": {
        "id": "9tlgyexWh7YJ"
      },
      "source": [
        "Saves dataframe to CSV file"
      ]
    },
    {
      "cell_type": "code",
      "metadata": {
        "id": "nSNia7suXstR"
      },
      "source": [
        "df3.to_csv('bioactivity_preprocessed_data_HIVrtranscriptase.csv', index=False)"
      ],
      "execution_count": null,
      "outputs": []
    },
    {
      "cell_type": "code",
      "metadata": {
        "colab": {
          "base_uri": "https://localhost:8080/"
        },
        "id": "UuZf5-MEd-H5",
        "outputId": "83025653-f10b-4e14-97c5-7e68baa9c770"
      },
      "source": [
        "! ls -l"
      ],
      "execution_count": null,
      "outputs": [
        {
          "output_type": "stream",
          "name": "stdout",
          "text": [
            "total 6108\n",
            "-rw-r--r-- 1 root root 5512259 Oct 31 02:58 bioactivity_data_HIVrtranscriptase.csv\n",
            "-rw-r--r-- 1 root root  732893 Oct 31 03:01 bioactivity_preprocessed_data_HIVrtranscriptase.csv\n",
            "drwx------ 5 root root    4096 Oct 31 03:00 gdrive\n",
            "drwxr-xr-x 1 root root    4096 Oct 26 13:34 sample_data\n"
          ]
        }
      ]
    },
    {
      "cell_type": "markdown",
      "metadata": {
        "id": "_C7rqJKTePhV"
      },
      "source": [
        "Let's copy to the Google Drive"
      ]
    },
    {
      "cell_type": "code",
      "metadata": {
        "id": "ZfyvJcENeHDB"
      },
      "source": [
        "! cp bioactivity_preprocessed_data_HIVrtranscriptase.csv \"/content/gdrive/My Drive/Colab Notebooks/dataHIVrtranscriptase\""
      ],
      "execution_count": null,
      "outputs": []
    },
    {
      "cell_type": "code",
      "metadata": {
        "colab": {
          "base_uri": "https://localhost:8080/"
        },
        "id": "7PU7yU9leLV5",
        "outputId": "4ec5c92a-359a-4aed-c5ac-287bf69a5c7c"
      },
      "source": [
        "! ls \"/content/gdrive/My Drive/Colab Notebooks/dataHIVrtranscriptase\""
      ],
      "execution_count": null,
      "outputs": [
        {
          "output_type": "stream",
          "name": "stdout",
          "text": [
            "bioactivity_data_HIVrtranscriptase.csv\n",
            "bioactivity_preprocessed_data_HIVrtranscriptase.csv\n"
          ]
        }
      ]
    },
    {
      "cell_type": "markdown",
      "metadata": {
        "id": "ZywB5K_Dlawb"
      },
      "source": [
        "---"
      ]
    }
  ]
}